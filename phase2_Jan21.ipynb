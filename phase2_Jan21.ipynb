{
 "cells": [
  {
   "cell_type": "code",
   "execution_count": 1,
   "metadata": {},
   "outputs": [],
   "source": [
    "import requests\n",
    "import json\n",
    "import pandas as pd\n",
    "import numpy as np"
   ]
  },
  {
   "cell_type": "markdown",
   "metadata": {},
   "source": [
    "### Get a user's recently played songs"
   ]
  },
  {
   "cell_type": "markdown",
   "metadata": {},
   "source": [
    "- `limit`: The maximum number of items to return. Default: 20. Minimum: 1. Maximum: 50.\n",
    "- `after`: A Unix timestamp in milliseconds. Returns all items after (but not including) this cursor position. If `after` is specified, `before` must not be specified.\n",
    "- `before`: A Unix timestamp in milliseconds. Returns all items before (but not including) this cursor position. If `before` is specified, `after` must not be specified."
   ]
  },
  {
   "cell_type": "code",
   "execution_count": 2,
   "metadata": {},
   "outputs": [],
   "source": [
    "def get_recent_songs(user_id, token, **kwargs):\n",
    "    query = \"https://api.spotify.com/v1/me/player/recently-played\"\n",
    "    \n",
    "    if len(kwargs.keys()) > 0:\n",
    "        query += '?'\n",
    "        lst = [str(x[0]) + '=' + str(x[1]) for x in zip(kwargs.keys(), kwargs.values())]\n",
    "        query += '&'.join(lst) ## add all parameters from kwargs \n",
    "    #print(query)\n",
    "\n",
    "    response = requests.get(query, \n",
    "                   headers={\"Accept\": \"application/json\",\n",
    "                            \"Content-Type\":\"application/json\", \n",
    "                            \"Authorization\":f\"Bearer {token}\"})\n",
    "    json_response = response.json()\n",
    "    print(\"status:\", response.status_code)\n",
    "    song_ids = [json_response['items'][i]['track']['id'] for i in range(len(json_response['items']))]\n",
    "    return song_ids"
   ]
  },
  {
   "cell_type": "markdown",
   "metadata": {},
   "source": [
    "### Get information about a song"
   ]
  },
  {
   "cell_type": "markdown",
   "metadata": {},
   "source": [
    "- `market`: The market you’d like to request."
   ]
  },
  {
   "cell_type": "code",
   "execution_count": 3,
   "metadata": {},
   "outputs": [],
   "source": [
    "def get_song(user_id, token, song_id, market):\n",
    "    \n",
    "    ## get audio features of the song/track\n",
    "    song_url = \"https://api.spotify.com/v1/audio-features/\"\n",
    "    query = f'{song_url}{song_id}'\n",
    "    success = False\n",
    "    while not success:\n",
    "        try:\n",
    "            response = requests.get(query, \n",
    "                           headers={\"Content-Type\":\"application/json\", \n",
    "                                    \"Authorization\":f\"Bearer {token}\"})\n",
    "            json_response = response.json()\n",
    "            df_response = pd.json_normalize(json_response)\n",
    "            success = True\n",
    "        except Exception as e:\n",
    "            print(e)\n",
    "    \n",
    "    ## get album information and the first artist\n",
    "    base_url = \"https://api.spotify.com/v1/tracks/\"\n",
    "    query = f'{base_url}{song_id}?market={market}'\n",
    "    success = False\n",
    "    while not success:\n",
    "        try:\n",
    "            response = requests.get(query, \n",
    "                           headers={\"Accept\": \"application/json\",\n",
    "                                    \"Content-Type\":\"application/json\", \n",
    "                                    \"Authorization\":f\"Bearer {token}\"})\n",
    "            json_response = response.json()\n",
    "            album_id = json_response['album']['id'] if 'album' in json_response.keys() else None\n",
    "            artist_id = json_response['artists'][0]['id'] if 'artists' in json_response.keys() else None\n",
    "            success = True\n",
    "        except Exception as e:\n",
    "            print(e)\n",
    "            \n",
    "    ## get genre of the artist\n",
    "    base_url = \"https://api.spotify.com/v1/artists/\"\n",
    "    query = f'{base_url}{artist_id}'\n",
    "    success = False\n",
    "    while not success:\n",
    "        try:\n",
    "            response = requests.get(query, \n",
    "                           headers={\"Accept\": \"application/json\",\n",
    "                                    \"Content-Type\":\"application/json\", \n",
    "                                    \"Authorization\":f\"Bearer {token}\"})\n",
    "            json_response = response.json()\n",
    "            genre = json_response['genres'] if 'genres' in json_response.keys() else None\n",
    "            success = True\n",
    "        except Exception as e:\n",
    "            print(e)\n",
    "    \n",
    "    df_response['artist_id'] = artist_id if artist_id is not None and len(artist_id) >0 else None\n",
    "    df_response['albuma_id'] = album_id if album_id is not None and len(album_id) >0 else None\n",
    "    df_response['genre'] = [genre] if genre is not None and len(genre) > 0 else None\n",
    "    try:\n",
    "        return df_response.drop(['type', 'uri', 'track_href', 'analysis_url'], axis=1).set_index('id')\n",
    "    except Exception:\n",
    "        print(\"Cannot find features about this song: \", song_id)"
   ]
  },
  {
   "cell_type": "markdown",
   "metadata": {},
   "source": [
    "## Generate a target playlist"
   ]
  },
  {
   "cell_type": "markdown",
   "metadata": {},
   "source": [
    "- `workout_plan`: Workout plan. For example, `workout_plan=[(0, 'trough'), (8, 'peak'), (20, 'trough')]` means that in the first 8 minutes, to increase energy from \"trough\" to \"peak\" and then decrease energy to \"trough\" in the next 12 minutes.\n",
    "- `history_args`: Parameters used to extract recently played songs. For example, `history_args = {'limit': 15, 'after': 28885117}`.\n",
    "- `start_song`: The first song in the target playlist.\n",
    "- `end_song`: The last song in the target playlist.\n",
    "- `energy_intensity`: Define the energy intensity in a numeric way. For example, `energy_intensity = {'peak': 0.8, 'trough': 0.3}`.\n",
    "- `pars_weight`: When calculating the difference between songs, we use a weighted average of the difference. \n",
    "- `genre`: If it is not None, we will filter songs based on genre."
   ]
  },
  {
   "cell_type": "code",
   "execution_count": 4,
   "metadata": {},
   "outputs": [],
   "source": [
    "def generate_target(user_id, token, market, workout_plan, history_args = {}, start_song = None, end_song = None, \n",
    "                    energy_intensity = {'peak': 0.8, 'trough': 0.3}, \n",
    "                    pars_weight = {'energy': 0.6, 'duration_ms': 0.4},\n",
    "                    genre = None):\n",
    "    \n",
    "    convert = lambda x: 60 * 1000 * x ## convert to ms\n",
    "    reconvert = lambda x: x / 60 / 1000 ## convert to minute\n",
    "    intersection = lambda lst1, lst2: [value for value in lst1 if value in lst2]\n",
    "    \n",
    "    song_ids = get_recent_songs(user_id, token, **history_args)\n",
    "    song_df = pd.concat([get_song(user_id, token, id, market) for id in song_ids])\n",
    "    song_df = song_df[~song_df.index.duplicated(keep='first')] ## remove duplicate rows\n",
    "    if genre is not None:\n",
    "        i = 0\n",
    "        while i < song_df.shape[0]:\n",
    "            if song_df.genre[i] is not None and len(intersection(genre, song_df.genre[i])) < 1:\n",
    "                song_df = song_df.drop(index = song_df.index[i], axis = 0)\n",
    "            else:\n",
    "                i += 1\n",
    "    \n",
    "    song_df = song_df[pars_weight.keys()]\n",
    "    \n",
    "    ## remove duplicates\n",
    "    if workout_plan[0][1] == 'none':\n",
    "        workout_plan = [workout_plan[i] for i in range(1, len(workout_plan)) \n",
    "                        if workout_plan[i][1] != workout_plan[i-1][1] and workout_plan[i][1] != 'none']\n",
    "    else:\n",
    "        workout_plan = [workout_plan[0]] + [workout_plan[i] for i in range(1, len(workout_plan)) \n",
    "                           if workout_plan[i][1] != workout_plan[i-1][1] and workout_plan[i][1] != 'none']\n",
    "\n",
    "    songs = []\n",
    "    total_durations = 0\n",
    "    if start_song is None:\n",
    "        start_energy = workout_plan[0][1]\n",
    "        start_song = song_df.index[np.argmin((song_df['energy'] - energy_intensity[start_energy]).apply(abs))]\n",
    "        song_df = song_df.drop(index = start_song, axis = 0)\n",
    "    if end_song is None:\n",
    "        end_energy = workout_plan[-1][1]\n",
    "        end_song = song_df.index[np.argmin((song_df['energy'] - energy_intensity[end_energy]).apply(abs))]\n",
    "        song_df = song_df.drop(index = end_song, axis = 0)\n",
    "\n",
    "    total_durations += get_song(user_id, token, start_song, market)['duration_ms'][0]\n",
    "    songs.append(start_song)\n",
    "    current_energy = get_song(user_id, token, start_song, market)['energy'][0]\n",
    "    \n",
    "    print('Start!')\n",
    "    for i in range(1, len(workout_plan)):\n",
    "        next_position = convert(workout_plan[i][0])\n",
    "        if i == len(workout_plan)-1:\n",
    "            next_position = next_position - get_song(user_id, token, end_song, market)['duration_ms'][0]\n",
    "        next_energy = energy_intensity[workout_plan[i][1]]\n",
    "        trend = '+' if next_energy == energy_intensity['peak'] else '-'\n",
    "\n",
    "        while total_durations < next_position:\n",
    "            df = song_df[song_df.energy > current_energy] if trend == '+' else song_df[song_df.energy < current_energy]\n",
    "            if df.shape[0] < 1:\n",
    "                break\n",
    "            if any(next_position - total_durations >= df.duration_ms):\n",
    "                energy_weights = [0.5, 0.5]\n",
    "            else:\n",
    "                energy_weights = [0.2, 0.8]\n",
    "            \n",
    "            energy_weights = np.array(energy_weights) * pars_weight['energy']\n",
    "            weight = list(energy_weights) + [pars_weight['duration_ms']]\n",
    "            diff_current = df['energy'] - current_energy\n",
    "            diff_next = df['energy'] - next_energy\n",
    "            diff_duration = reconvert(df['duration_ms'] - (next_position - total_durations))\n",
    "            diff = ((pd.DataFrame(np.c_[np.array(diff_current), np.array(diff_next), np.array(diff_duration)], index = df.index).apply(abs))*weight).sum(axis = 1).sort_values()\n",
    "            song_id = diff.index[0]\n",
    "            total_durations += get_song(user_id, token, song_id, market)['duration_ms'][0]\n",
    "            songs.append(song_id)\n",
    "            print('Add song:', song_id)\n",
    "            current_energy = get_song(user_id, token, song_id, market)['energy'][0]\n",
    "            df.drop(index = song_id, axis = 0)\n",
    "    songs.append(end_song)\n",
    "    return songs"
   ]
  },
  {
   "cell_type": "markdown",
   "metadata": {},
   "source": [
    "# Test"
   ]
  },
  {
   "cell_type": "code",
   "execution_count": 5,
   "metadata": {},
   "outputs": [],
   "source": [
    "# settings\n",
    "token = \"BQADQPMUWXVTbMZB6BYRulE_HZ45ZjYz5OGgzV5gMKEhuJjavCaQibQK2nZnLuU7uJ5Io-gpj-BPPb9GKBY6RTCVDiNUFVa8_a09aeDcS-7jvvplFStBF68JsIE4MmPo40ODOkY5YgFWUaAQnjQh1L_jTelQf87fC1IB4h3FFu-RqkSQqTQt8ipWfV8xYVPU3LMUNFhTdVgpwL4_ZwisU_hxwDGwBzzNS972BiAM-juEOdJs\"\n",
    "user_id = \"pbwppse1hilahmk43ls424ao4\""
   ]
  },
  {
   "cell_type": "code",
   "execution_count": 6,
   "metadata": {},
   "outputs": [],
   "source": [
    "market = 'US'\n",
    "history_args = {'limit': 15, 'after': 28885117} ## {} means using default values\n",
    "workout_plan = [(0, 'trough'), (8, 'peak'), (20, 'trough'), (28, 'peak')]\n",
    "energy_intensity = {'peak': 0.8, 'trough': 0.3}\n",
    "pars_weight = {'energy': 0.8, 'duration_ms': 0.2}"
   ]
  },
  {
   "cell_type": "code",
   "execution_count": 7,
   "metadata": {},
   "outputs": [
    {
     "name": "stdout",
     "output_type": "stream",
     "text": [
      "status: 200\n",
      "Start!\n",
      "Add song: 7bzks4LGpQUuPKBzJ6iQ7y\n",
      "Add song: 6llAqB4o2GS2Sx0rKvDIK0\n",
      "Add song: 7nBR4Tt431p1MTgv3lVsmX\n",
      "Add song: 7dF4sXP1ISIharu35gQ86k\n"
     ]
    },
    {
     "data": {
      "text/plain": [
       "['4MvbRbrOEsJgdYRGNGBjTE',\n",
       " '7bzks4LGpQUuPKBzJ6iQ7y',\n",
       " '6llAqB4o2GS2Sx0rKvDIK0',\n",
       " '7nBR4Tt431p1MTgv3lVsmX',\n",
       " '7dF4sXP1ISIharu35gQ86k',\n",
       " '6mybKC52hIM1WYfp73CaOl']"
      ]
     },
     "execution_count": 7,
     "metadata": {},
     "output_type": "execute_result"
    }
   ],
   "source": [
    "songs = generate_target(user_id, token, market, workout_plan, history_args, energy_intensity = energy_intensity, \n",
    "                    pars_weight = pars_weight)\n",
    "songs"
   ]
  },
  {
   "cell_type": "markdown",
   "metadata": {},
   "source": [
    "See the duration for each song and the total duration"
   ]
  },
  {
   "cell_type": "code",
   "execution_count": 8,
   "metadata": {},
   "outputs": [
    {
     "data": {
      "text/plain": [
       "(id\n",
       " 4MvbRbrOEsJgdYRGNGBjTE    202964\n",
       " 7bzks4LGpQUuPKBzJ6iQ7y    274387\n",
       " 6llAqB4o2GS2Sx0rKvDIK0    215240\n",
       " 7nBR4Tt431p1MTgv3lVsmX    409558\n",
       " 7dF4sXP1ISIharu35gQ86k    273904\n",
       " 6mybKC52hIM1WYfp73CaOl    363415\n",
       " Name: duration_ms, dtype: int64,\n",
       " 28.991133333333334)"
      ]
     },
     "execution_count": 8,
     "metadata": {},
     "output_type": "execute_result"
    }
   ],
   "source": [
    "durations = pd.concat([get_song(user_id, token, id, market)['duration_ms'] for id in songs])\n",
    "durations, durations.sum() / 60/ 1000"
   ]
  },
  {
   "cell_type": "markdown",
   "metadata": {},
   "source": [
    "See the energy for each song"
   ]
  },
  {
   "cell_type": "code",
   "execution_count": 9,
   "metadata": {},
   "outputs": [
    {
     "data": {
      "text/plain": [
       "id\n",
       "4MvbRbrOEsJgdYRGNGBjTE    0.454\n",
       "7bzks4LGpQUuPKBzJ6iQ7y    0.700\n",
       "6llAqB4o2GS2Sx0rKvDIK0    0.902\n",
       "7nBR4Tt431p1MTgv3lVsmX    0.685\n",
       "7dF4sXP1ISIharu35gQ86k    0.655\n",
       "6mybKC52hIM1WYfp73CaOl    0.744\n",
       "Name: energy, dtype: float64"
      ]
     },
     "execution_count": 9,
     "metadata": {},
     "output_type": "execute_result"
    }
   ],
   "source": [
    "pd.concat([get_song(user_id, token, id, market)['energy'] for id in songs])"
   ]
  },
  {
   "cell_type": "markdown",
   "metadata": {},
   "source": [
    "#### Test with genre"
   ]
  },
  {
   "cell_type": "markdown",
   "metadata": {},
   "source": [
    "You can go to https://developer.spotify.com/console/get-available-genre-seeds/ to find all avaliable genres."
   ]
  },
  {
   "cell_type": "code",
   "execution_count": 10,
   "metadata": {},
   "outputs": [],
   "source": [
    "genre = ['new french touch']"
   ]
  },
  {
   "cell_type": "code",
   "execution_count": 11,
   "metadata": {},
   "outputs": [
    {
     "name": "stdout",
     "output_type": "stream",
     "text": [
      "status: 200\n",
      "Start!\n",
      "Add song: 7dF4sXP1ISIharu35gQ86k\n",
      "Add song: 6Jk7mNRofCpHStChx1EYOj\n",
      "Add song: 7nBR4Tt431p1MTgv3lVsmX\n",
      "Add song: 7JPjG8J0sXCIh9KkWBy4vw\n"
     ]
    },
    {
     "data": {
      "text/plain": [
       "['6n0E5CPhtGPLW1544OlSTg',\n",
       " '7dF4sXP1ISIharu35gQ86k',\n",
       " '6Jk7mNRofCpHStChx1EYOj',\n",
       " '7nBR4Tt431p1MTgv3lVsmX',\n",
       " '7JPjG8J0sXCIh9KkWBy4vw',\n",
       " '7bzks4LGpQUuPKBzJ6iQ7y']"
      ]
     },
     "execution_count": 11,
     "metadata": {},
     "output_type": "execute_result"
    }
   ],
   "source": [
    "songs = generate_target(user_id, token, market, workout_plan, history_args, energy_intensity = energy_intensity, \n",
    "                    pars_weight = pars_weight, genre = genre)\n",
    "songs"
   ]
  },
  {
   "cell_type": "code",
   "execution_count": 12,
   "metadata": {},
   "outputs": [
    {
     "data": {
      "text/plain": [
       "(id\n",
       " 6n0E5CPhtGPLW1544OlSTg    293493\n",
       " 7dF4sXP1ISIharu35gQ86k    273904\n",
       " 6Jk7mNRofCpHStChx1EYOj    299013\n",
       " 7nBR4Tt431p1MTgv3lVsmX    409558\n",
       " 7JPjG8J0sXCIh9KkWBy4vw    297089\n",
       " 7bzks4LGpQUuPKBzJ6iQ7y    274387\n",
       " Name: duration_ms, dtype: int64,\n",
       " 30.790733333333332)"
      ]
     },
     "execution_count": 12,
     "metadata": {},
     "output_type": "execute_result"
    }
   ],
   "source": [
    "durations = pd.concat([get_song(user_id, token, id, market)['duration_ms'] for id in songs])\n",
    "durations, durations.sum() / 60/ 1000"
   ]
  },
  {
   "cell_type": "code",
   "execution_count": 13,
   "metadata": {},
   "outputs": [
    {
     "data": {
      "text/plain": [
       "id\n",
       "6n0E5CPhtGPLW1544OlSTg    0.562\n",
       "7dF4sXP1ISIharu35gQ86k    0.655\n",
       "6Jk7mNRofCpHStChx1EYOj    0.646\n",
       "7nBR4Tt431p1MTgv3lVsmX    0.685\n",
       "7JPjG8J0sXCIh9KkWBy4vw    0.937\n",
       "7bzks4LGpQUuPKBzJ6iQ7y    0.700\n",
       "Name: energy, dtype: float64"
      ]
     },
     "execution_count": 13,
     "metadata": {},
     "output_type": "execute_result"
    }
   ],
   "source": [
    "pd.concat([get_song(user_id, token, id, market)['energy'] for id in songs])"
   ]
  },
  {
   "cell_type": "code",
   "execution_count": null,
   "metadata": {},
   "outputs": [],
   "source": []
  }
 ],
 "metadata": {
  "kernelspec": {
   "display_name": "Python 3",
   "language": "python",
   "name": "python3"
  },
  "language_info": {
   "codemirror_mode": {
    "name": "ipython",
    "version": 3
   },
   "file_extension": ".py",
   "mimetype": "text/x-python",
   "name": "python",
   "nbconvert_exporter": "python",
   "pygments_lexer": "ipython3",
   "version": "3.7.6"
  }
 },
 "nbformat": 4,
 "nbformat_minor": 4
}
