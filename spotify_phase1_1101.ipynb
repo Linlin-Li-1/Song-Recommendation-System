{
 "cells": [
  {
   "cell_type": "code",
   "execution_count": 1,
   "metadata": {},
   "outputs": [],
   "source": [
    "import requests\n",
    "import json\n",
    "import pandas as pd\n",
    "import numpy as np\n",
    "import re"
   ]
  },
  {
   "cell_type": "markdown",
   "metadata": {},
   "source": [
    "### Get a user's playlists"
   ]
  },
  {
   "cell_type": "code",
   "execution_count": 2,
   "metadata": {},
   "outputs": [],
   "source": [
    "def get_plst_ID(user_id, token):\n",
    "    tidy = lambda s: s[17:]\n",
    "    base_url = \"https://api.spotify.com/v1/users/\"\n",
    "    query = f'{base_url}{user_id}/playlists'\n",
    "\n",
    "    response = requests.get(query, \n",
    "                   headers={\"Accept\": \"application/json\",\n",
    "                            \"Content-Type\":\"application/json\", \n",
    "                            \"Authorization\":f\"Bearer {token}\"})\n",
    "    json_response = response.json()\n",
    "    return [tidy(x['uri'])for x in json_response['items']]"
   ]
  },
  {
   "cell_type": "markdown",
   "metadata": {},
   "source": [
    "### Get a Playlist's Items"
   ]
  },
  {
   "cell_type": "code",
   "execution_count": 3,
   "metadata": {},
   "outputs": [],
   "source": [
    "def get_ID(user_id, token, playlist_id, market = 'US'):\n",
    "    tidy = lambda s: s[14:]\n",
    "    base_url = \"https://api.spotify.com/v1/playlists/\"\n",
    "    query = f'{base_url}{playlist_id}/tracks?market={market}'\n",
    "\n",
    "    response = requests.get(query, \n",
    "                   headers={\"Accept\": \"application/json\",\n",
    "                            \"Content-Type\":\"application/json\", \n",
    "                            \"Authorization\":f\"Bearer {token}\"})\n",
    "    json_response = response.json()\n",
    "    return [tidy(x['track']['uri'])for x in json_response['items']], [json_response['items'][i]['track']['duration_ms'] for i in range(len(json_response['items']))]"
   ]
  },
  {
   "cell_type": "markdown",
   "metadata": {},
   "source": [
    "### Get information about a song"
   ]
  },
  {
   "cell_type": "code",
   "execution_count": 4,
   "metadata": {},
   "outputs": [],
   "source": [
    "def get_song(user_id, token, song_id, market = 'US'):\n",
    "    \n",
    "    ## get audio features of the song/track\n",
    "    song_url = \"https://api.spotify.com/v1/audio-features/\"\n",
    "    query = f'{song_url}{song_id}'\n",
    "    response = requests.get(query, \n",
    "                   headers={\"Content-Type\":\"application/json\", \n",
    "                            \"Authorization\":f\"Bearer {token}\"})\n",
    "    json_response = response.json()\n",
    "    df_response = pd.json_normalize(json_response)\n",
    "    \n",
    "    ## get album information and the first artist\n",
    "    base_url = \"https://api.spotify.com/v1/tracks/\"\n",
    "    query = f'{base_url}{song_id}?market={market}'\n",
    "    response = requests.get(query, \n",
    "                   headers={\"Accept\": \"application/json\",\n",
    "                            \"Content-Type\":\"application/json\", \n",
    "                            \"Authorization\":f\"Bearer {token}\"})\n",
    "    json_response = response.json()\n",
    "    album_id = json_response['album']['id']\n",
    "    artist_id = json_response['artists'][0]['id']\n",
    "    \n",
    "    ## get genre of the album\n",
    "    base_url = \"https://api.spotify.com/v1/albums/\"\n",
    "    query = f'{base_url}{album_id}?market={market}'\n",
    "    response = requests.get(query, \n",
    "                   headers={\"Accept\": \"application/json\",\n",
    "                            \"Content-Type\":\"application/json\", \n",
    "                            \"Authorization\":f\"Bearer {token}\"})\n",
    "    json_response = response.json()\n",
    "    genre = json_response['genres']\n",
    "    \n",
    "    \n",
    "    df_response['artist_id'] = artist_id if len(artist_id) >0 else None\n",
    "    df_response['albuma_id'] = album_id if len(album_id) >0 else None\n",
    "    df_response['genre'] = genre if len(genre) >0 else None\n",
    "    \n",
    "    return df_response.drop(['type', 'uri', 'track_href', 'analysis_url'], axis=1).set_index('id')"
   ]
  },
  {
   "cell_type": "markdown",
   "metadata": {},
   "source": [
    "### Get Recommendations from Spotify API"
   ]
  },
  {
   "cell_type": "code",
   "execution_count": null,
   "metadata": {},
   "outputs": [],
   "source": [
    "### should add a new fuction to check the range of all metrics, like [0,1], [0,100], [-, 0], [0, +], etc."
   ]
  },
  {
   "cell_type": "code",
   "execution_count": 5,
   "metadata": {},
   "outputs": [],
   "source": [
    "def recommend(song, limit, time_mt, percent, target_duration_ms, **kwargs):\n",
    "    seed_tracks = song.index[0]\n",
    "\n",
    "    min_duration_ms = max(target_duration_ms - time_mt * 1000, 0)\n",
    "    max_duration_ms = target_duration_ms + time_mt * 1000 \n",
    "    \n",
    "    target_energy = song['energy'][0]  ## find the most similar one to the target\n",
    "    min_energy = max(target_energy * (1 - percent), 0)\n",
    "    max_energy = target_energy * (1 + percent)\n",
    "    \n",
    "    target_instrumentalness = song['instrumentalness'][0]  ## similarly to energy\n",
    "    min_instrumentalness = max(target_instrumentalness * (1 - percent), 0)\n",
    "    #max_instrumentalness = target_instrumentalness * (1 + percent)\n",
    "    \n",
    "    target_tempo = song['tempo'][0]  ## similarly to energy\n",
    "    min_tempo = max(target_tempo * (1 - percent), 0)\n",
    "    max_tempo = target_tempo * (1 + percent)\n",
    "    target_key = song['key'][0]\n",
    "    target_danceability=song['danceability'][0]\n",
    "    target_mode=song['mode'][0]\n",
    "    \n",
    "    endpoint_url = \"https://api.spotify.com/v1/recommendations?\"\n",
    "    query = f'{endpoint_url}limit={limit}&seed_tracks={seed_tracks}'\n",
    "    query += f'&target_duration_ms={target_duration_ms}&min_duration_ms={min_duration_ms}&max_duration_ms={max_duration_ms}'\n",
    "    query += f'&target_energy={target_energy}&min_energy={min_energy}&max_energy={max_energy}'\n",
    "    query += f'&target_instrumentalness={target_instrumentalness}&min_instrumentalness={min_instrumentalness}'\n",
    "    query += f'&target_tempo={target_tempo}&min_tempo={min_tempo}&max_tempo={max_tempo}'\n",
    "    query += f'&target_key={target_key}'\n",
    "    query += f'&target_danceability={target_danceability}'\n",
    "    query += f'&target_mode={target_mode}'\n",
    "    \n",
    "    if song['genre'][0] is not None:\n",
    "        seed_genres = song['genre'][0]\n",
    "        query += f'&seed_genres={seed_genres}'\n",
    "    if song['artist_id'][0] is not None:\n",
    "        seed_artist = song['artist_id'][0]\n",
    "        query += f'&seed_artist={seed_artist}'\n",
    "    \n",
    "    if len(kwargs.keys()) > 0:\n",
    "        query += '&'\n",
    "        lst = [str(x[0])+'='+str(x[1]) for x in zip(kwargs.keys(), kwargs.values())]\n",
    "        query += '&'.join(lst) ## add all limits from kwargs\n",
    "    uris = [] \n",
    "    #print(query)\n",
    "    \n",
    "    response = requests.get(query, \n",
    "               headers={\"Content-Type\":\"application/json\", \n",
    "                        \"Authorization\":f\"Bearer {token}\"})\n",
    "    json_response = response.json()\n",
    "    #print('Recommended Songs:')\n",
    "    uris = []\n",
    "    for i,j in enumerate(json_response['tracks']):\n",
    "        uris.append(j['uri'])\n",
    "        #print(f\"{i+1}) \\\"{j['name']}\\\" by {j['artists'][0]['name']}\")\n",
    "    return uris"
   ]
  },
  {
   "cell_type": "markdown",
   "metadata": {},
   "source": [
    "### Filter recommended songs"
   ]
  },
  {
   "cell_type": "code",
   "execution_count": 6,
   "metadata": {},
   "outputs": [],
   "source": [
    "def filter_energy(r, pre_energy, market, trend = None):\n",
    "    ''' filter recommended songs according to the energy trend '''\n",
    "    \n",
    "    if trend is None or pre_energy == 0:\n",
    "        return r[0]\n",
    "    \n",
    "    energys_diff = [get_song(user_id, token, r[i][14:], market)['energy'][0] - pre_energy for i in range(len(r))]\n",
    "    if trend == '+':\n",
    "        if all(np.array(energys_diff) <= 0):\n",
    "            return None\n",
    "        idx = np.argmax( np.array(energys_diff) > 0)\n",
    "    else:\n",
    "        if all(np.array(energys_diff) >= 0):\n",
    "            return None\n",
    "        idx = np.argmax( np.array(energys_diff) < 0)\n",
    "    return(r[idx])"
   ]
  },
  {
   "cell_type": "markdown",
   "metadata": {},
   "source": [
    "### Create a playlist"
   ]
  },
  {
   "cell_type": "code",
   "execution_count": 7,
   "metadata": {},
   "outputs": [],
   "source": [
    "# create a new playlist to store those recommendations\n",
    "def create_plst(user_id, token, uris, name, description, public):\n",
    "    endpoint_url = f\"https://api.spotify.com/v1/users/{user_id}/playlists\"\n",
    "    request_body = json.dumps({\n",
    "        \"name\": name,\n",
    "        \"description\": description,\n",
    "        \"public\": public })\n",
    "    # create an empty new playlist\n",
    "    response = requests.post(url = endpoint_url, data = request_body, headers={\"Content-Type\":\"application/json\", \n",
    "                        \"Authorization\":f\"Bearer {token}\"})\n",
    "    url = response.json()['external_urls']['spotify']\n",
    "    if response.status_code == 201:\n",
    "        print('Playlist {} is successfully created!'.format(name))\n",
    "        \n",
    "    # fill the new playlist with the recommendations\n",
    "    playlist_id = response.json()['id']\n",
    "    endpoint_url = f\"https://api.spotify.com/v1/playlists/{playlist_id}/tracks\"\n",
    "    request_body = json.dumps({ \"uris\" : uris })\n",
    "    response = requests.post(url = endpoint_url, data = request_body, headers={\"Content-Type\":\"application/json\", \n",
    "                        \"Authorization\":f\"Bearer {token}\"})\n",
    "    if response.status_code == 201:\n",
    "        print('Playlist {} is successfully filled with recommendations!'.format(name))\n",
    "        print(f'Your playlist is ready at {url}')"
   ]
  },
  {
   "cell_type": "markdown",
   "metadata": {},
   "source": [
    "### generate a similar playlist"
   ]
  },
  {
   "cell_type": "code",
   "execution_count": 27,
   "metadata": {},
   "outputs": [],
   "source": [
    "def get_recommendation_for_a_playlist(user_id, token, playlist_id, name, description, limit, time_percent, percents, public=False, **kwargs):\n",
    "    print(playlist_id)\n",
    "    market = kwargs.get(\"market\", 'US')\n",
    "    kwargs[\"market\"] = market\n",
    "    \n",
    "    def _get_one_recommendation(idx, target_duration_ms, limit, **kwargs):\n",
    "        df_response = get_song(user_id, token, idx, market)\n",
    "        r = recommend(df_response, limit, time_percent, percents, target_duration_ms, **kwargs)\n",
    "\n",
    "        #print(f\"For the {j+1}-th song in the playlist, there are no recommendations based on your conditions, we modified the conditions.\")\n",
    "        new_time_percent = time_percent\n",
    "        new_percent = percents\n",
    "        i = 0\n",
    "        while len(r) == 0 and i < 10:\n",
    "            i += 1\n",
    "            new_time_percent += 10\n",
    "            new_percent *= 2\n",
    "            r = recommend(df_response, limit, new_time_percent, new_percent, target_duration_ms, **kwargs)\n",
    "        if i == 10:\n",
    "            ## right now I keep the original one, we can improve it later\n",
    "            r = ['spotify:track:' + df_response.index[0]]\n",
    "        return r\n",
    "        \n",
    "    uris = []\n",
    "    duration = 0\n",
    "    ids, durations = get_ID(user_id, token, playlist_id, market)\n",
    "    diff = 0\n",
    "    pre_energy = ene = 0\n",
    "    trend = None\n",
    "    for j in range(len(ids)):\n",
    "        energy = get_song(user_id, token, ids[j], market)['energy'][0] \n",
    "        trend = '+' if energy > pre_energy else '-'\n",
    "        _limit = limit\n",
    "        _r = None\n",
    "        i = 0\n",
    "        while _r is None and i < 10:\n",
    "            ## if no songs satisfy requirements, we get more recommendations from API and then filter\n",
    "            r = _get_one_recommendation(ids[j], target_duration_ms=durations[j] - diff, limit = _limit, **kwargs)    \n",
    "            print(ene)\n",
    "            print(trend)\n",
    "            if len(r) < _limit:\n",
    "                break\n",
    "            _r = filter_energy(r, ene, market, trend) ## add limitations to filter the recommendations and keep the energy trend\n",
    "            _limit = _limit + 10\n",
    "            i = i+1\n",
    "        if i == 10 or len(r) < _limit:\n",
    "            _r = r[0]\n",
    "            #_r = ['spotify:track:' + ids[j]]\n",
    "        print(_r)\n",
    "        uris.append(_r)\n",
    "        dur = get_song(user_id, token, _r[14:], market)['duration_ms'][0] ## duration of the recommended song\n",
    "        duration += dur\n",
    "        diff = duration - sum(durations[:j+1])\n",
    "        ene = get_song(user_id, token, _r[14:], market)['energy'][0] ## energy of the recommended song\n",
    "        pre_energy = energy  ## energy of the j-th song in the playlist\n",
    "\n",
    "    create_plst(user_id, token, [x for x in uris if x is not None], name, description, public)\n",
    "    return([x for x in uris if x is not None])"
   ]
  },
  {
   "cell_type": "markdown",
   "metadata": {},
   "source": [
    "## Test"
   ]
  },
  {
   "cell_type": "markdown",
   "metadata": {},
   "source": [
    "Note: token should have scope at least \"playlist-modify-private\", you can find get one at the botton GET TOKEN from [here](https://developer.spotify.com/console/get-recommendations/?limit=10&market=ES&seed_artists=4NHQUGzhtTLFvgF5SZesLK&seed_genres=classical%2Ccountry&seed_tracks=0c6xIDDpzE81m2q797ordA&min_acousticness=&max_acousticness=&target_acousticness=&min_danceability=&max_danceability=&target_danceability=&min_duration_ms=&max_duration_ms=&target_duration_ms=&min_energy=&max_energy=&target_energy=&min_instrumentalness=&max_instrumentalness=&target_instrumentalness=&min_key=&max_key=&target_key=&min_liveness=&max_liveness=&target_liveness=&min_loudness=&max_loudness=&target_loudness=&min_mode=&max_mode=&target_mode=&min_popularity=&max_popularity=&target_popularity=&min_speechiness=&max_speechiness=&target_speechiness=&min_tempo=&max_tempo=&target_tempo=&min_time_signature=&max_time_signature=&target_time_signature=&min_valence=&max_valence=&target_valence=).\n",
    "\n",
    "User id can be obtained from [your Spotify profile](https://www.spotify.com/us/account/overview/?utm_source=spotify&utm_medium=menu&utm_campaign=your_account)."
   ]
  },
  {
   "cell_type": "code",
   "execution_count": 13,
   "metadata": {},
   "outputs": [],
   "source": [
    "# settings\n",
    "token = \"BQCBJzjT-1VYDujUlVJg0YsUmUaugcT2Z9kA8eEdSdtowXPFPh5FjqmXQuUFGyunVA5-leqb9bhGJIPg2FCJXelL-eQbJEH2i8NTNUEBtkwUZwvoOb-8qW8GNHNuw9uh522mXPLeaBK7zjono5gqOaWXzVvXxYaYDg6ZB8XiwMTcelYOK0E4eySf2BGLZTF04DZidQrP8BtxpA\"\n",
    "user_id = \"pbwppse1hilahmk43ls424ao4\"\n",
    "\n",
    "name = 'previous'   ## name for the new playlist\n",
    "description = '1101' ## description for the new playlist\n",
    "limit = 10  ## for each song in current playlist, 10 recommendations are generated\n",
    "time_percent = 15  ## the time interval width is 30s\n",
    "percents = 0.1  ## the energy is current song's energy * (0.9, 1.1)\n",
    "\n",
    "plst_id = get_plst_ID(user_id, token)  ## get id for each playlist from a user\n",
    "#playlist_id = plst_id[6]    ## set the 2nd playlist to be the target playlist\n",
    "playlist_id = '4N2UHn9HpFc3n93s1gduIM'"
   ]
  },
  {
   "cell_type": "code",
   "execution_count": 10,
   "metadata": {},
   "outputs": [
    {
     "name": "stdout",
     "output_type": "stream",
     "text": [
      "4N2UHn9HpFc3n93s1gduIM\n",
      "0\n",
      "+\n",
      "spotify:track:6n0E5CPhtGPLW1544OlSTg\n",
      "0.562\n",
      "+\n",
      "spotify:track:00P5cJ8I9pNKkWXtHm6BDK\n",
      "0.697\n",
      "-\n",
      "spotify:track:4VAdq9M22v99JHIXNv8TZ6\n",
      "0.598\n",
      "-\n",
      "spotify:track:4Uw7NtaXY0xJrbR9qiaN4H\n",
      "0.634\n",
      "+\n",
      "spotify:track:4GrcbD2aHVUvn0KvvnlKeR\n",
      "0.755\n",
      "+\n",
      "spotify:track:5aoJnOhycrs0NtXomySi3e\n",
      "0.819\n",
      "+\n",
      "spotify:track:4JunvrE0Vca2ETi0DtAc0W\n",
      "0.842\n",
      "-\n",
      "spotify:track:0lc7EIQwNUFeInTzlL5ZW5\n",
      "0.946\n",
      "+\n",
      "spotify:track:6sgwnGLqUj2Nw9UaPo7wNI\n",
      "0.718\n",
      "-\n",
      "spotify:track:5V8QKyt40AbgQXIhGwhT5f\n",
      "0.555\n",
      "-\n",
      "spotify:track:4MvbRbrOEsJgdYRGNGBjTE\n",
      "0.454\n",
      "-\n",
      "spotify:track:41EZTXxSzbAjsOrQoY75FL\n",
      "0.297\n",
      "-\n",
      "spotify:track:0AfIsqZ4gTUg9CwwW2jLeK\n",
      "Playlist previous is successfully created!\n",
      "Playlist previous is successfully filled with recommendations!\n",
      "Your playlist is ready at https://open.spotify.com/playlist/5rHm7ksBQew2s9yaNv7Loy\n"
     ]
    }
   ],
   "source": [
    "# run it\n",
    "get_recommendation_for_a_playlist(user_id, token, playlist_id, name, description, limit, time_percent, percents, market='US')"
   ]
  },
  {
   "cell_type": "code",
   "execution_count": null,
   "metadata": {},
   "outputs": [],
   "source": []
  },
  {
   "cell_type": "markdown",
   "metadata": {},
   "source": [
    "### Measure of Similarity"
   ]
  },
  {
   "cell_type": "code",
   "execution_count": 16,
   "metadata": {},
   "outputs": [],
   "source": [
    "market = 'US'\n",
    "ids, durations = get_ID(user_id, token, playlist_id, market)"
   ]
  },
  {
   "cell_type": "code",
   "execution_count": null,
   "metadata": {},
   "outputs": [],
   "source": [
    "pars = ['acousticness', 'danceability', 'energy', 'instrumentalness', 'key', 'liveness', 'loudness', 'mode', \n",
    "        'popularity', 'speechiness', 'tempo', 'time_signature', 'valence']"
   ]
  },
  {
   "cell_type": "code",
   "execution_count": 18,
   "metadata": {},
   "outputs": [],
   "source": [
    "def weighted_metric(weight, par_name, playlist_id, ):\n",
    "    ids, durations = get_ID(user_id, token, playlist_id, market)\n",
    "    recommend_pl = get_recommendation_for_a_playlist(user_id, token, playlist_id, name, description, limit, time_percent, percents, market='US')\n",
    "    for j in range(len(ids)):\n",
    "        song = get_song(user_id, token, ids[j], market).iloc[0]\n",
    "        original = song[par_name]\n"
   ]
  },
  {
   "cell_type": "code",
   "execution_count": 23,
   "metadata": {},
   "outputs": [],
   "source": [
    "j = 0\n",
    "song = get_song(user_id, token, ids[j], market).iloc[0]"
   ]
  },
  {
   "cell_type": "code",
   "execution_count": null,
   "metadata": {},
   "outputs": [],
   "source": [
    "recommend_pl = get_recommendation_for_a_playlist(user_id, token, playlist_id, name, description, limit, time_percent, percents, market='US')"
   ]
  },
  {
   "cell_type": "code",
   "execution_count": null,
   "metadata": {},
   "outputs": [],
   "source": []
  },
  {
   "cell_type": "markdown",
   "metadata": {},
   "source": [
    "#### Check your new playlist in your Spotify!"
   ]
  }
 ],
 "metadata": {
  "kernelspec": {
   "display_name": "Python 3",
   "language": "python",
   "name": "python3"
  },
  "language_info": {
   "codemirror_mode": {
    "name": "ipython",
    "version": 3
   },
   "file_extension": ".py",
   "mimetype": "text/x-python",
   "name": "python",
   "nbconvert_exporter": "python",
   "pygments_lexer": "ipython3",
   "version": "3.7.6"
  }
 },
 "nbformat": 4,
 "nbformat_minor": 4
}
