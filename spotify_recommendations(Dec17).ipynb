{
 "cells": [
  {
   "cell_type": "markdown",
   "metadata": {},
   "source": [
    "## Goal\n",
    "\n",
    "Our goal is that given a user's playlist history and a target playlist, we want to generate a list of song recommendations that should maintain the trend of `energy` (we only consider the direction of the trend) and the generated playlist should be similar to the target as close as possible, but there may be some other limitations, such as the number of commonly listened songs to include. \n",
    "\n",
    "## Methods\n",
    "There are a total of four proposed methods:\n",
    "\n",
    "- **Pure method**: <u> Submit queries to Spotify Get Recommendations API and get a list of recommendations for each song in the target playlist, and then filter these recommendations according to the trend of energy.</u> This means that if the second song has a smaller energy than the first one in the target playlist, the second recommended song should also have a smaller energy than the first recommended song. \n",
    "\n",
    "- **Meet-middle method**: Since the Pure method starts from the first song, the difference between the target plalylist and the list of recommended songs will enlarge as the number of songs increases. To alleviate this issue, I proposed the **Meet-middle method**. In this method, <u>I first create several buckets based on time</u>. For example, for a target playlist with a total duration 63 mins, I can create 10 mins, 15 mins, 20 mins, 10 mins, and 8 mins buckets. <u>Within each bucket, we generate two lists of recommendations, one of which starts from the first song and the other one starts from the last song. For bucket that has more than one songs, we then try to find a way to connect these two lists of recommendations to generate the final list of recommendations for the whole target playlist.</u> To do this, within each bucket, we start from the middle song, we check whether the energy trend is satisfied. If so, we can connect the two lists at the middle place. If not, we will move to the next song that is close to the middle one, and redo the checking. And finally, we can output the final list of recommended songs.\n",
    "<img src=\"meetmiddle.png\" alt=\"drawing\" style=\"width:550px;\"/>\n",
    "\n",
    "- **Recommend first, then place common songs**: <u>Use a **modified version of Pure method** to generate a list of recommendations. Then replace some recommendations by common songs. </u> To do this, we compare the \"difference\" between each recommendation and each common song and finally replace some recommendations with common songs based on similarity.\n",
    "\n",
    "- **Place common songs first, then recommend**:<u> Compare the \"difference\" between each target song and each common song and determine the places for some common songs. Then use **Meet-middle method** to generate recommendations between common songs. "
   ]
  },
  {
   "cell_type": "markdown",
   "metadata": {},
   "source": [
    "### Helper functions\n",
    "\n",
    "1. Get **a user**'s playlist IDs (and maybe added_time): `get_plst_ID`\n",
    "2. Get **a Playlist**'s Items, including song_id and duration: `get_ID`\n",
    "3. Get information about **a song**. If you only want to know \"name\", \"popularity\" and \"duration_ms\" about a song, use function `get_song_name`. To obtain more comprehensive information about a song, use function `get_song`. (Note: `get_song_name` is only used for displaying song's frequency in the playlist history now.)\n",
    "4. Get **a user**'s common songs from playlist history: `common`\n",
    "5. Get Recommendations for **a song** using Spotify API: `recommend`\n",
    "6. Find places for common songs: `place_common`\n",
    "7. Create an empty playlist in the user's Spotify account: `create_plst`\n",
    "\n",
    "\n",
    "\n",
    "### Pure method\n",
    "Use `get_recommendation_for_a_playlist` and add additional parameters `common_prop = 0` or just skip this parameter.\n",
    "\n",
    "### Meet-middle method\n",
    "Use `meet_middle`.\n",
    "\n",
    "### Recommend first, then place common songs\n",
    "Use `RecommendPlace`\n",
    "\n",
    "### Place common songs first, then recommend\n",
    "Use `PlaceRecommend`"
   ]
  },
  {
   "cell_type": "markdown",
   "metadata": {},
   "source": [
    "## ======================  Code ============================================"
   ]
  },
  {
   "cell_type": "code",
   "execution_count": 1,
   "metadata": {},
   "outputs": [],
   "source": [
    "import requests\n",
    "import json\n",
    "import pandas as pd\n",
    "import numpy as np\n",
    "import re\n",
    "from datetime import datetime, timezone\n",
    "from dateutil.parser import parse\n",
    "from dateutil.relativedelta import relativedelta"
   ]
  },
  {
   "cell_type": "markdown",
   "metadata": {},
   "source": [
    "#### p1. Get a user's playlists (and added_time)"
   ]
  },
  {
   "cell_type": "code",
   "execution_count": 2,
   "metadata": {},
   "outputs": [],
   "source": [
    "def get_plst_ID(user_id, token, market, added_time = False):\n",
    "    tidy = lambda s: s[17:]\n",
    "    \n",
    "    base_url = \"https://api.spotify.com/v1/users/\"\n",
    "    query = f'{base_url}{user_id}/playlists'\n",
    "\n",
    "    response = requests.get(query, \n",
    "                   headers={\"Accept\": \"application/json\",\n",
    "                            \"Content-Type\":\"application/json\", \n",
    "                            \"Authorization\":f\"Bearer {token}\"})\n",
    "    json_response = response.json()\n",
    "    plst_id = [tidy(x['uri'])for x in json_response['items']]\n",
    "    if not added_time:\n",
    "        return plst_id\n",
    "    else:\n",
    "        base_url = \"https://api.spotify.com/v1/playlists/\"\n",
    "        add = []\n",
    "        for idx in plst_id:\n",
    "            query = f'{base_url}{idx}/tracks?market={market}'\n",
    "            response = requests.get(query, \n",
    "                   headers={\"Accept\": \"application/json\",\n",
    "                            \"Content-Type\":\"application/json\", \n",
    "                            \"Authorization\":f\"Bearer {token}\"})\n",
    "            json_response = response.json()\n",
    "            add.append(json_response['items'][0]['added_at'])\n",
    "        return(plst_id, add)"
   ]
  },
  {
   "cell_type": "markdown",
   "metadata": {},
   "source": [
    "#### p2. Get a Playlist's Items: song_id and duration"
   ]
  },
  {
   "cell_type": "code",
   "execution_count": 3,
   "metadata": {},
   "outputs": [],
   "source": [
    "def get_ID(user_id, token, playlist_id, market):\n",
    "    tidy = lambda s: s[14:]\n",
    "    base_url = \"https://api.spotify.com/v1/playlists/\"\n",
    "    query = f'{base_url}{playlist_id}/tracks?market={market}'\n",
    "\n",
    "    response = requests.get(query, \n",
    "                   headers={\"Accept\": \"application/json\",\n",
    "                            \"Content-Type\":\"application/json\", \n",
    "                            \"Authorization\":f\"Bearer {token}\"})\n",
    "    json_response = response.json()\n",
    "    return [tidy(x['track']['uri'])for x in json_response['items']], [json_response['items'][i]['track']['duration_ms'] for i in range(len(json_response['items']))]"
   ]
  },
  {
   "cell_type": "markdown",
   "metadata": {},
   "source": [
    "#### p3. Get information about a song  (Dec 16 updated)"
   ]
  },
  {
   "cell_type": "code",
   "execution_count": 4,
   "metadata": {},
   "outputs": [],
   "source": [
    "def get_song(user_id, token, song_id, market):\n",
    "    \n",
    "    ## get audio features of the song/track\n",
    "    song_url = \"https://api.spotify.com/v1/audio-features/\"\n",
    "    query = f'{song_url}{song_id}'\n",
    "    success = False\n",
    "    while not success:\n",
    "        try:\n",
    "            response = requests.get(query, \n",
    "                           headers={\"Content-Type\":\"application/json\", \n",
    "                                    \"Authorization\":f\"Bearer {token}\"})\n",
    "            json_response = response.json()\n",
    "            df_response = pd.json_normalize(json_response)\n",
    "            success = True\n",
    "        except Exception as e:\n",
    "            print(e)\n",
    "    \n",
    "    ## get album information and the first artist\n",
    "    base_url = \"https://api.spotify.com/v1/tracks/\"\n",
    "    query = f'{base_url}{song_id}?market={market}'\n",
    "    success = False\n",
    "    while not success:\n",
    "        try:\n",
    "            response = requests.get(query, \n",
    "                           headers={\"Accept\": \"application/json\",\n",
    "                                    \"Content-Type\":\"application/json\", \n",
    "                                    \"Authorization\":f\"Bearer {token}\"})\n",
    "            json_response = response.json()\n",
    "            album_id = json_response['album']['id'] if 'album' in json_response.keys() else None\n",
    "            artist_id = json_response['artists'][0]['id'] if 'artists' in json_response.keys() else None\n",
    "            success = True\n",
    "        except Exception as e:\n",
    "            print(e)\n",
    "    \n",
    "    ## get genre of the album\n",
    "    base_url = \"https://api.spotify.com/v1/albums/\"\n",
    "    query = f'{base_url}{album_id}?market={market}'\n",
    "    success = False\n",
    "    while not success:\n",
    "        try:\n",
    "            response = requests.get(query, \n",
    "                           headers={\"Accept\": \"application/json\",\n",
    "                                    \"Content-Type\":\"application/json\", \n",
    "                                    \"Authorization\":f\"Bearer {token}\"})\n",
    "            json_response = response.json()\n",
    "            genre = json_response['genres'] if 'genres' in json_response.keys() else None\n",
    "            success = True\n",
    "        except Exception as e:\n",
    "            print(e)\n",
    "                \n",
    "    df_response['artist_id'] = artist_id if artist_id is not None and len(artist_id) >0 else None\n",
    "    df_response['albuma_id'] = album_id if album_id is not None and len(album_id) >0 else None\n",
    "    df_response['genre'] = genre if genre is not None and len(genre) >0 else None\n",
    "    try:\n",
    "        return df_response.drop(['type', 'uri', 'track_href', 'analysis_url'], axis=1).set_index('id')\n",
    "    except Exception:\n",
    "        print(song_id)"
   ]
  },
  {
   "cell_type": "code",
   "execution_count": 5,
   "metadata": {},
   "outputs": [],
   "source": [
    "def get_song_name(user_id, token, song_id, market):\n",
    "    \n",
    "    ## get album information and the first artist\n",
    "    base_url = \"https://api.spotify.com/v1/tracks/\"\n",
    "    query = f'{base_url}{song_id}?market={market}'\n",
    "    response = requests.get(query, \n",
    "                   headers={\"Accept\": \"application/json\",\n",
    "                            \"Content-Type\":\"application/json\", \n",
    "                            \"Authorization\":f\"Bearer {token}\"})\n",
    "    json_response = response.json()\n",
    "    df_response = pd.json_normalize(json_response)\n",
    "    return df_response[['name', 'popularity', 'duration_ms', 'id']].set_index('id')"
   ]
  },
  {
   "cell_type": "markdown",
   "metadata": {},
   "source": [
    "#### p4. Get a user's common songs from playlist history (Dec 5 updated)"
   ]
  },
  {
   "cell_type": "code",
   "execution_count": 6,
   "metadata": {},
   "outputs": [],
   "source": [
    "def convert_weight(time_list, half_decay = 1):\n",
    "    ''' Calculate weights.'''\n",
    "    ## I use exponential decay now.\n",
    "    ## the weight decays to 50% every `half_decay` days\n",
    "    today = datetime.now(timezone.utc)\n",
    "    log_weights = np.array([- (today - parse(s)).days - (today - parse(s)).seconds / 86400 for s in time_list])\n",
    "    log_weights -= np.max(log_weights)\n",
    "    return np.exp(log_weights / half_decay * np.log(2))\n",
    "\n",
    "def get_song_freq(user_id, token, market, start_plst, end_plst, max_num = 100, use_time = True, decay_rate = 15):\n",
    "    plst_ids, add = get_plst_ID(user_id, token, market, added_time = True)\n",
    "    plst_ids, add = plst_ids[start_plst:(end_plst+1)], add[start_plst:(end_plst+1)]\n",
    "    if use_time:\n",
    "        weights = convert_weight(add, decay_rate)\n",
    "    else:\n",
    "        weights = [np.exp(-0.5*x) for x in range(len(add))]\n",
    "    ids = [get_ID(user_id, token, playlist, market)[0] for playlist in plst_ids]\n",
    "    song_list = [(s, w) for ls, w in list(zip(ids, weights)) for s in ls]\n",
    "    counts = {}\n",
    "    for s, w in song_list:\n",
    "        counts[s] = counts.get(s, 0) + w\n",
    "    df = pd.DataFrame(sorted(counts.items(), key = lambda x: -x[1]), columns = ['id', 'weighted_freq'])\n",
    "    df = df.set_index('id').iloc[:max_num]\n",
    "    dff = pd.concat([get_song_name(user_id, token, idx, market = 'US') for idx in df.index])\n",
    "    return(pd.merge(df, dff, how = 'left', on = 'id')).reset_index().set_index('name')\n",
    "\n",
    "def count_songs(user_id, token, market):\n",
    "    plst_ids= get_plst_ID(user_id, token, market)\n",
    "    ids = [get_ID(user_id, token, playlist, market)[0] for playlist in plst_ids]\n",
    "    return(len(ids))\n",
    "\n",
    "def common(top, user_id, token, market, **kwargs):\n",
    "    num_songs = count_songs(user_id, token, market)\n",
    "    top = round(num_songs * top)\n",
    "    kwargs.pop('max_num', None)        \n",
    "    freq_df = get_song_freq(user_id, token, market, max_num = top, **kwargs)\n",
    "    return(list(freq_df.iloc[:top].reset_index()['id']))"
   ]
  },
  {
   "cell_type": "markdown",
   "metadata": {},
   "source": [
    "#### p5. Get Recommendations for a song using Spotify API"
   ]
  },
  {
   "cell_type": "code",
   "execution_count": 7,
   "metadata": {},
   "outputs": [],
   "source": [
    "def check(par, par_range):\n",
    "    ''' Check if values are in the feasible range. '''\n",
    "    return(np.clip(par, par_range[0], par_range[1]))\n",
    "\n",
    "def check_whole(kwargs):\n",
    "    ''' Run the above check function to all optional parameters. '''\n",
    "    pars = ['valence', 'speechiness', 'acousticness', 'liveness', 'danceability']\n",
    "    ranges = {'valence': [0,1], 'speechiness': [0,1], 'acousticness': [0,1], 'liveness': [0,1], 'danceability': [0,1]}\n",
    "    if len(kwargs) == 0:\n",
    "        return(kwargs)\n",
    "    else:\n",
    "        for item in pars:\n",
    "            if np.array([re.match(f\"(.*?)({item})\", x) is not None for x in kwargs.keys()]).any(): \n",
    "                item_min = 'min_' + item\n",
    "                item_max = 'max_' + item\n",
    "                item_target = 'target_' + item\n",
    "                par_range = ranges.get(item)\n",
    "                kwargs[item_target] = check(kwargs.get(item_target), par_range)\n",
    "                kwargs[item_min] = check(kwargs.get(item_min), par_range)\n",
    "                kwargs[item_max] = check(kwargs.get(item_max), par_range)\n",
    "        return(kwargs)\n",
    "    \n",
    "def recommend(song, limit, target_duration_ms, require_percents, optional_percents, **kwargs):\n",
    "    seed_tracks = song.index[0]\n",
    "    \n",
    "    time_mt = require_percents.get('time')\n",
    "    energy_percent = require_percents.get('energy')\n",
    "    instrumentalness_percent = require_percents.get('instrumentalness')\n",
    "    tempo_percent = require_percents.get('tempo')\n",
    "    \n",
    "    min_duration_ms = int(max(target_duration_ms - time_mt * 1000, 0))\n",
    "    max_duration_ms = int(target_duration_ms + time_mt * 1000)\n",
    "    \n",
    "    ## required percents\n",
    "    target_energy = song['energy'][0]\n",
    "    min_energy = check(target_energy * (1 - energy_percent), [0,1])\n",
    "    max_energy = check(target_energy * (1 + energy_percent), [0,1])\n",
    "    target_instrumentalness = song['instrumentalness'][0]\n",
    "    min_instrumentalness = check(target_instrumentalness * (1 - instrumentalness_percent), [0,1])\n",
    "    #max_instrumentalness = check(target_instrumentalness * (1 + instrumentalness_percent), [0,1])\n",
    "    target_tempo = song['tempo'][0]\n",
    "    min_tempo = check(target_tempo * (1 - tempo_percent), [0, np.inf])\n",
    "    max_tempo = check(target_tempo * (1 + tempo_percent), [0, np.inf])\n",
    "\n",
    "    ## default parameters\n",
    "    target_key = song['key'][0]\n",
    "    target_danceability=song['danceability'][0]\n",
    "    target_mode=song['mode'][0]\n",
    "         \n",
    "    ## optional percents\n",
    "    for item in optional_percents: \n",
    "        item_min = 'min_' + item\n",
    "        item_max = 'max_' + item\n",
    "        item_target = 'target_' + item\n",
    "        target = song[item][0]\n",
    "        kwargs[item_target] = target\n",
    "        if item not in ['mode', 'key', 'popularity', 'time_signature']:\n",
    "            kwargs[item_min] = target * (1 - optional_percents.get(item))\n",
    "            kwargs[item_max] = target * (1 + optional_percents.get(item))\n",
    "    kwargs.pop('optional_percents', None)   ## remove `optional_percents` from kwargs\n",
    "    kwargs = check_whole(kwargs)\n",
    "    \n",
    "    endpoint_url = \"https://api.spotify.com/v1/recommendations?\"\n",
    "    query = f'{endpoint_url}limit={limit}&seed_tracks={seed_tracks}'\n",
    "    query += f'&target_duration_ms={target_duration_ms}&min_duration_ms={min_duration_ms}&max_duration_ms={max_duration_ms}'\n",
    "    query += f'&target_energy={target_energy}&min_energy={min_energy}&max_energy={max_energy}'\n",
    "    query += f'&target_instrumentalness={target_instrumentalness}&min_instrumentalness={min_instrumentalness}'\n",
    "    query += f'&target_tempo={target_tempo}&min_tempo={min_tempo}&max_tempo={max_tempo}'\n",
    "    query += f'&target_key={target_key}'\n",
    "    query += f'&target_danceability={target_danceability}'\n",
    "    query += f'&target_mode={target_mode}'\n",
    "    \n",
    "    if song['genre'][0] is not None:\n",
    "        seed_genres = song['genre'][0]\n",
    "        query += f'&seed_genres={seed_genres}'\n",
    "    if song['artist_id'][0] is not None:\n",
    "        seed_artist = song['artist_id'][0]\n",
    "        query += f'&seed_artist={seed_artist}'\n",
    "\n",
    "    if len(kwargs.keys()) > 0:\n",
    "        query += '&'\n",
    "        lst = [str(x[0])+'='+str(x[1]) for x in zip(kwargs.keys(), kwargs.values())]\n",
    "        query += '&'.join(lst) ## add all limits from kwargs\n",
    "    uris = [] \n",
    "    #print(query)\n",
    "    \n",
    "    success = False\n",
    "    while not success:\n",
    "        try:\n",
    "            response = requests.get(query, \n",
    "                                    headers={\"Content-Type\":\"application/json\", \n",
    "                                             \"Authorization\":f\"Bearer {token}\"})\n",
    "            json_response = response.json()\n",
    "            #print('Recommended Songs:')\n",
    "            uris = []\n",
    "            for i,j in enumerate(json_response['tracks']):\n",
    "                uris.append(j['uri'])\n",
    "                #print(f\"{i+1}) \\\"{j['name']}\\\" by {j['artists'][0]['name']}\")\n",
    "            success = True\n",
    "        except Exception as e:\n",
    "            print(e)\n",
    "\n",
    "    return uris"
   ]
  },
  {
   "cell_type": "markdown",
   "metadata": {},
   "source": [
    "#### p6. Find places for common songs"
   ]
  },
  {
   "cell_type": "code",
   "execution_count": 8,
   "metadata": {},
   "outputs": [],
   "source": [
    "def place_common(user_id, token, market, common_songs, num, playlist_id=None, songs_id=None, pars_weight = None):\n",
    "    if playlist_id is not None:\n",
    "        ids, _ = get_ID(user_id, token, playlist_id, market)\n",
    "    elif songs_id is not None:\n",
    "        ids = songs_id\n",
    "    else:\n",
    "        NameError('Please input either playlist_id or songs_id.')\n",
    "        \n",
    "    pars = ['energy', 'duration_ms', 'instrumentalness', 'danceability', 'key', 'loudness', 'mode', 'speechiness', 'acousticness', 'liveness', 'valence', 'tempo', 'time_signature']\n",
    "    if pars_weight is None:\n",
    "        cols = ['energy', 'duration_ms', 'instrumentalness']\n",
    "        weight = [0.5, 0.4, 0.1] \n",
    "    else:\n",
    "        cols = list(filter(lambda x: x in pars, pars_weight.keys()))\n",
    "        weight = [pars_weight[key] for key in cols]\n",
    "        weight = list(np.array(weight) / np.sum(weight))\n",
    "    \n",
    "    ids = [x[14:] for x in songs_id]\n",
    "    common_songs = [x[14:] for x in common_songs]\n",
    "    dff = pd.concat([get_song(user_id, token, idx, market) for idx in common_songs])._get_numeric_data()[cols]\n",
    "    \n",
    "    candidate = {key: (None, np.inf) for key in dff.index}\n",
    "    for i in range(len(ids)):\n",
    "        if dff.shape[0] < 1:\n",
    "            break\n",
    "        idx = ids[i]\n",
    "        info = get_song(user_id, token, idx, market)[cols]\n",
    "        diff = ((dff.sub(info._get_numeric_data().values[0].tolist(), axis='columns').applymap(np.square))*weight).sum(axis = 1).sort_values()\n",
    "        for j in range(diff.shape[0]):\n",
    "            if diff[j] < candidate[diff.index[j]][1]:\n",
    "                candidate[diff.index[j]] = (i, diff[j])\n",
    "    \n",
    "    sorted_candidate = sorted(candidate.items(),key=lambda x: x[1][1])\n",
    "    output = {key: values[0] for (key, values) in sorted_candidate}\n",
    "    return(['spotify:track:' + x for x in list(output.keys())[:num]], list(output.values())[:num])"
   ]
  },
  {
   "cell_type": "markdown",
   "metadata": {},
   "source": [
    "#### p7. Create a playlist"
   ]
  },
  {
   "cell_type": "code",
   "execution_count": 9,
   "metadata": {},
   "outputs": [],
   "source": [
    "# create a new playlist to store those recommendations\n",
    "def create_plst(user_id, token, uris, name, description, public = False):\n",
    "    endpoint_url = f\"https://api.spotify.com/v1/users/{user_id}/playlists\"\n",
    "    request_body = json.dumps({\n",
    "        \"name\": name,\n",
    "        \"description\": description,\n",
    "        \"public\": public })\n",
    "    # create an empty new playlist\n",
    "    response = requests.post(url = endpoint_url, data = request_body, headers={\"Content-Type\":\"application/json\", \n",
    "                        \"Authorization\":f\"Bearer {token}\"})\n",
    "    url = response.json()['external_urls']['spotify']\n",
    "    if response.status_code == 201:\n",
    "        print('Playlist {} is successfully created!'.format(name))\n",
    "        \n",
    "    # fill the new playlist with the recommendations\n",
    "    playlist_id = response.json()['id']\n",
    "    endpoint_url = f\"https://api.spotify.com/v1/playlists/{playlist_id}/tracks\"\n",
    "    request_body = json.dumps({ \"uris\" : uris })\n",
    "    response = requests.post(url = endpoint_url, data = request_body, headers={\"Content-Type\":\"application/json\", \n",
    "                        \"Authorization\":f\"Bearer {token}\"})\n",
    "    if response.status_code == 201:\n",
    "        print('Playlist {} is successfully filled with recommendations!'.format(name))\n",
    "        print(f'Your playlist is ready at {url}')"
   ]
  },
  {
   "cell_type": "markdown",
   "metadata": {},
   "source": [
    "## Main functions"
   ]
  },
  {
   "cell_type": "markdown",
   "metadata": {},
   "source": [
    "### Generate a similar playlist"
   ]
  },
  {
   "cell_type": "code",
   "execution_count": 10,
   "metadata": {},
   "outputs": [],
   "source": [
    "def get_recommendation_for_a_playlist(user_id, token, limit, name='',description='', playlist_id=None, songs_id=None, create_pl=False, public=False, quiet=False, **kwargs):\n",
    "    if not quiet:\n",
    "        print(\"playlist\", playlist_id)\n",
    "    \n",
    "    market = kwargs.get(\"market\", 'US')\n",
    "    kwargs[\"market\"] = market\n",
    "    \n",
    "    common_top = kwargs.get(\"common_top\", 0.25) ## default: songs that have a frequency within the top 25% are regarded as common songs \n",
    "    kwargs.pop(\"common_top\", None)\n",
    "    start_plst = kwargs.get(\"start_plst\", 0)\n",
    "    end_plst = kwargs.get(\"end_plst\", 20)\n",
    "    kwargs.pop(\"start_plst\", None)\n",
    "    kwargs.pop(\"end_plst\", None)\n",
    "    common_songs = ['spotify:track:'+ x for x in common(common_top, user_id, token, market = market, start_plst = start_plst, end_plst = end_plst)]\n",
    "    #print(common_songs) \n",
    "    \n",
    "    percent_args = kwargs.get(\"percent_args\", {})\n",
    "    requires = ['time', 'energy', 'instrumentalness', 'tempo']\n",
    "    require_percents = {}\n",
    "    optional_percents = {}\n",
    "    for item in requires:  ## for required percents, extract them and store in `require_percents`\n",
    "        require_percents[item] = percent_args.get(item, 0.1)\n",
    "    for item in list(set(percent_args) - set(requires)): ## for optional percents, store them in `optional_percents`\n",
    "        optional_percents[item] = percent_args.get(item)\n",
    "    kwargs.pop('percent_args', None)        \n",
    "    if not quiet:\n",
    "        print(\"args:\", kwargs, require_percents, optional_percents)\n",
    "    \n",
    "    def filter_energy(r, pre_energy, market, trend = None):\n",
    "    \n",
    "        if trend is None or pre_energy == 0:\n",
    "            return r[0]\n",
    "\n",
    "        energys_diff = [get_song(user_id, token, r[i][14:], market)['energy'][0] - pre_energy for i in range(len(r))]\n",
    "        if trend == '+':\n",
    "            if all(np.array(energys_diff) <= 0):\n",
    "                return None\n",
    "            idx = np.argmax( np.array(energys_diff) > 0)\n",
    "        else:\n",
    "            if all(np.array(energys_diff) >= 0):\n",
    "                return None\n",
    "            idx = np.argmax( np.array(energys_diff) < 0)\n",
    "        return(r[idx])\n",
    "\n",
    "    def _get_one_recommendation(idx, limit, target_duration_ms, require_percents, optional_percents, **kwargs):\n",
    "        df_response = get_song(user_id, token, idx, market)\n",
    "        r = recommend(df_response, limit, target_duration_ms, require_percents, optional_percents, **kwargs)\n",
    "        if not quiet:\n",
    "            print(f\"For the {j+1}-th song, no recommendations, enlarged the range about duration.\")\n",
    "        new_time_percent = require_percents.get('time')\n",
    "        new_energy_percent = require_percents.get('energy')\n",
    "        new_require_percents = require_percents.copy()\n",
    "        i = 0\n",
    "        while len(r) == 0 and i < 10:\n",
    "            i += 1\n",
    "            new_time_percent += 10\n",
    "            new_energy_percent *= 2\n",
    "            new_require_percents['time'] = new_time_percent\n",
    "            #new_require_percents['energy'] = new_energy_percent\n",
    "            r = recommend(df_response, limit, target_duration_ms, new_require_percents, optional_percents, **kwargs)\n",
    "        if i == 10:\n",
    "            ## right now I keep the original one, we can improve it later\n",
    "            r = ['spotify:track:' + df_response.index[0]]\n",
    "            ## another way is to remove all optional limitations\n",
    "            # r = recommend(df_response, limit, target_duration_ms, require_percents, {}, **kwargs)\n",
    "        return r\n",
    "        \n",
    "    if playlist_id is not None:\n",
    "        ## if playlist_id is specified, songs_id will not be used.\n",
    "        ids, durations = get_ID(user_id, token, playlist_id, market)\n",
    "    elif songs_id is not None:\n",
    "        ids = songs_id\n",
    "        if 'spotify:track:' in ids[0]:\n",
    "            ids = [x[14:] for x in ids]\n",
    "        durations = [get_song(user_id, token, ids[j], market)['duration_ms'][0] for j in range(len(ids))]\n",
    "    else:\n",
    "        NameError('Please input either playlist_id or songs_id.')\n",
    "    \n",
    "    common_num = round(kwargs.get(\"common_prop\", 0) * len(ids)) ## default: don't use common song to substitute recommendations\n",
    "    kwargs.pop(\"common_prop\", None)\n",
    "    if not quiet:\n",
    "        print('common songs to be included: ', common_num)\n",
    "    \n",
    "    uris = []\n",
    "    duration = 0\n",
    "    diff = 0\n",
    "    pre_energy = 0\n",
    "    ene = 0\n",
    "    trend = None\n",
    "    current_common_num = 0\n",
    "    candidate = []\n",
    "    for j in range(len(ids)):\n",
    "        energy = get_song(user_id, token, ids[j], market)['energy'][0] \n",
    "        trend = '+' if energy > pre_energy else '-'\n",
    "        _limit = limit\n",
    "        _r = None\n",
    "        i = 0\n",
    "        while _r is None and i < 10:\n",
    "            ## if no songs satisfy requirements, we get more recommendations from API and then filter\n",
    "            r = _get_one_recommendation(ids[j], _limit, durations[j]-diff, require_percents, optional_percents, **kwargs)    \n",
    "            ######### if a common song exists in the recommendations, we will adopt it, rather than filtering based on energy trend\n",
    "            if common_num > current_common_num and len(set.intersection(set(common_songs), set(r))) > 0:\n",
    "                _r = [i for i in common_songs if i in r][0]\n",
    "                current_common_num += 1\n",
    "                if not quiet:\n",
    "                    print('common song', _r[14:], 'is used.')\n",
    "                break\n",
    "            _r = filter_energy(r, ene, market, trend) ## add limitations to filter the recommendations and keep the energy trend\n",
    "            if len(r) < _limit: ## no matter how to increase the limitation on the number of recommendations, result will no change\n",
    "                break\n",
    "            _limit = _limit + 10\n",
    "            i = i+1\n",
    "        candidate.append(r)\n",
    "        if i == 10 or _r is None:\n",
    "            _r = r[0] ## if still no songs satisfy requirements, use the most similar song from Spotify Recommendation API\n",
    "        if not quiet:\n",
    "            print('candidate: ', [x[14:] for x in r])\n",
    "            print('recommendation: ', _r[14:])\n",
    "        uris.append(_r)\n",
    "        dur = get_song(user_id, token, _r[14:], market)['duration_ms'][0] ## duration of the recommended song\n",
    "        duration += dur\n",
    "        diff = duration - sum(durations[:j+1])\n",
    "        ene = get_song(user_id, token, _r[14:], market)['energy'][0] ## energy of the recommended song\n",
    "        pre_energy = energy  ## energy of the j-th song in the playlist\n",
    "\n",
    "    if create_pl:\n",
    "        create_plst(user_id, token, [x for x in uris if x is not None], name, description, public)\n",
    "    \n",
    "    if common_num == 0:\n",
    "        return(uris, candidate)\n",
    "    \n",
    "    else:\n",
    "        used_common = list(filter(lambda x: x in uris, common_songs))\n",
    "        return(uris, candidate, common_songs, used_common, common_num, current_common_num)"
   ]
  },
  {
   "cell_type": "markdown",
   "metadata": {},
   "source": [
    "### Meet middle (Dec 16 updated)"
   ]
  },
  {
   "cell_type": "code",
   "execution_count": 11,
   "metadata": {},
   "outputs": [],
   "source": [
    "def meet_middle(user_id, token, limit, bucket_lengths, name='', description='', playlist_id = None, songs_id = None, create_pl=False, public=False, **kwargs):\n",
    "    market = kwargs.get(\"market\", 'US')\n",
    "    kwargs[\"market\"] = market\n",
    "    \n",
    "    if playlist_id is not None: ## if playlist_id is specified, songs_id will not be used.\n",
    "        ids, durations = get_ID(user_id, token, playlist_id, market)\n",
    "    elif songs_id is not None:\n",
    "        ids = songs_id\n",
    "        if 'spotify:track:' in ids[0]:\n",
    "            ids = [x[14:] for x in ids]\n",
    "        durations = [get_song(user_id, token, ids[j], market)['duration_ms'][0] for j in range(len(ids))]\n",
    "    else:\n",
    "        NameError('Please input either playlist_id or songs_id.')\n",
    "    \n",
    "    \n",
    "    def create_bucket(user_id, token, ids, bucket_lengths = None):\n",
    "        durations = [get_song(user_id, token, song_id, market)['duration_ms'][0] for song_id in ids]\n",
    "        if bucket_lengths is None: ## default: the whole playlist is a bucket\n",
    "            bucket_lens = [sum(durations)] \n",
    "        elif (type(bucket_lengths) == int): ## buckets with the same length\n",
    "            print(np.sum(durations) // bucket_lengths + 1)\n",
    "            bucket_lens = [bucket_lengths * 60 * 1000 for i in range(int(np.sum(durations) / 60000 // bucket_lengths + 1))]\n",
    "        elif (len(bucket_lengths) == 1): ## buckets with the same length\n",
    "            bucket_lens = [bucket_lengths[0] * 60 * 1000 for i in range(int(np.sum(durations) / 60000// bucket_lengths[0] + 1))]\n",
    "        else:\n",
    "            bucket_lens = [x * 60 * 1000 for x in bucket_lengths]\n",
    "        bucket = 0\n",
    "        end_songs = [None] * len(bucket_lens)\n",
    "        cur_length = 0\n",
    "        for e, l in enumerate(durations):\n",
    "            if np.abs(cur_length + l - bucket_lens[bucket]) < np.abs(cur_length - bucket_lens[bucket]):\n",
    "                end_songs[bucket] = e\n",
    "                cur_length += l\n",
    "            else:\n",
    "                bucket += 1\n",
    "                if bucket == len(end_songs):\n",
    "                    break\n",
    "                end_songs[bucket] = e\n",
    "                cur_length += l - bucket_lens[bucket - 1]\n",
    "        start = 0\n",
    "        buckets = []\n",
    "        for i in end_songs:\n",
    "            buckets.append(ids[start:(i+1)])\n",
    "            start = i+1\n",
    "        return(buckets)\n",
    "    \n",
    "    \n",
    "    def meet_middle_for_bucket(user_id, token, limit, songs_id, **kwargs):\n",
    "        f_pl, _ = get_recommendation_for_a_playlist(user_id, token, limit=limit, name='', description='', songs_id=songs_id, **kwargs)\n",
    "        b_pl, _ = get_recommendation_for_a_playlist(user_id, token, limit=limit, name='', description='', songs_id=songs_id[::-1], **kwargs)\n",
    "        b_pl = b_pl[::-1]\n",
    "        if len(f_pl) == 1 or f_pl == b_pl:\n",
    "            return([x[14:] for x in f_pl])\n",
    "        else:\n",
    "            f_pl = [x[14:] for x in f_pl]\n",
    "            b_pl = [x[14:] for x in b_pl]\n",
    "            middle = len(f_pl) // 2\n",
    "            energys = [get_song(user_id, token, x, market)['energy'][0]  for x in songs_id]\n",
    "            trends = [1 if energys[i+1] > energys[i] else -1 for i in range(len(energys)-1)]\n",
    "            f_energy = get_song(user_id, token, f_pl[middle-1], market)['energy'][0] \n",
    "            b_energy = get_song(user_id, token, b_pl[middle], market)['energy'][0]\n",
    "            trend = trends[middle-1]\n",
    "            if f_pl[middle] == b_pl[middle] or trend * (b_energy - f_energy) > 0:\n",
    "                return(f_pl[:middle] + b_pl[middle:])\n",
    "            else:\n",
    "                offset = 1\n",
    "                finished = None\n",
    "                while trend * (b_energy - f_energy) <= 0 and middle+1+offset < len(b_pl)-1:\n",
    "                    f_energy = get_song(user_id, token, f_pl[middle-1+offset], market)['energy'][0] \n",
    "                    b_energy = get_song(user_id, token, b_pl[middle+1+offset], market)['energy'][0]\n",
    "                    trend = trends[middle-1+offset]\n",
    "                    if trend * (b_energy - f_energy) > 0:\n",
    "                        return(f_pl[:(middle+1)] + b_pl[(middle+1):])\n",
    "                    else:\n",
    "                        offset += 1\n",
    "            if finished is None:\n",
    "                offset = -1\n",
    "                while trend * (b_energy - f_energy) <= 0 and middle-1+offset > 0:\n",
    "                    f_energy = get_song(user_id, token, f_pl[middle-1+offset], market)['energy'][0] \n",
    "                    b_energy = get_song(user_id, token, b_pl[middle+1+offset], market)['energy'][0]\n",
    "                    trend = trends[middle-1+offset]\n",
    "                    if trend * (b_energy - f_energy) > 0:\n",
    "                        return(f_pl[:(middle+1)] + b_pl[(middle+1):])\n",
    "                    else:\n",
    "                        offset += -1\n",
    "            if finished is None:\n",
    "                ### if after searching from the middle to the end and the beginning, no points between \n",
    "                ### these two playlists can be combined, we just use the original one that goes from the beginning\n",
    "                return (f_pl)\n",
    "    \n",
    "    if (type(bucket_lengths) == int):\n",
    "        bucket_lengths = [bucket_lengths]\n",
    "    if int(max(np.ceil(sum(durations) / 60000- sum(bucket_lengths)), 0)) > 0:\n",
    "        bucket_lengths = bucket_lengths + [int(np.ceil(sum(durations) / 60000- sum(bucket_lengths)))]\n",
    "    # create buckets\n",
    "    buckets = create_bucket(user_id, token, ids = ids, bucket_lengths = bucket_lengths)\n",
    "    recommendations_pl = []\n",
    "    for song_id in buckets:\n",
    "        pl = meet_middle_for_bucket(user_id, token, limit, song_id, quiet = True, **kwargs)\n",
    "        recommendations_pl.append(pl)\n",
    "        \n",
    "    ## flattern\n",
    "    recommendations_pl = [num for elem in recommendations_pl for num in elem]\n",
    "    ## add something so that Spotify API know what it is \n",
    "    recommendations_pl = ['spotify:track:'+ str(x) for x in recommendations_pl]\n",
    "    \n",
    "    if create_pl:\n",
    "        create_plst(user_id, token, uris=recommendations_pl, name=name, description=description, public=public)\n",
    "    \n",
    "    return recommendations_pl"
   ]
  },
  {
   "cell_type": "markdown",
   "metadata": {},
   "source": [
    "### Recommend first, then place common songs"
   ]
  },
  {
   "cell_type": "code",
   "execution_count": 12,
   "metadata": {},
   "outputs": [],
   "source": [
    "def RecommendPlace(user_id, token, limit, name='',description='', playlist_id=None, songs_id=None, create_pl=False, public=False, **kwargs):\n",
    "    \n",
    "    pars_weight = kwargs.get(\"pars_weight\", {'energy': 0.4, 'duration_ms': 0.4, 'danceability': 0.2})\n",
    "    kwargs.pop('pars_weight', None)\n",
    "    create_pl = kwargs.get(\"create_pl\", create_pl)\n",
    "    kwargs.pop('create_pl', None)\n",
    "    \n",
    "    song_recom, candidate, common_songs, used_common, common_num, current_common_num = get_recommendation_for_a_playlist(\n",
    "        user_id, token, limit, name, description, playlist_id=playlist_id, songs_id = songs_id, create_pl=False, public=public, **kwargs)\n",
    "\n",
    "    songs = [x if x not in common_songs else None for x in song_recom]\n",
    "    songs_id = [x for x in songs if x is not None]\n",
    "    market = kwargs.get(\"market\", 'US')\n",
    "    ## place common songs\n",
    "    if common_num - current_common_num > 0:\n",
    "        com, place = place_common(user_id, token, market = market, \n",
    "                                  common_songs = list(filter(lambda x: x not in used_common, common_songs)), \n",
    "                                  num = common_num - current_common_num, songs_id = songs_id, \n",
    "                                  pars_weight = pars_weight)\n",
    "        ## replace recommendations with common songs\n",
    "        count = 0\n",
    "        for i in range(len(songs)):\n",
    "            if songs[i] is not None:\n",
    "                for j in range(len(place)):\n",
    "                    if count == place[j]:\n",
    "                        songs[i] = com[j]\n",
    "                count +=1\n",
    "            else:\n",
    "                songs[i] = song_recom[i]\n",
    "    else:\n",
    "        songs = song_recom\n",
    "    \n",
    "    if create_pl:\n",
    "        create_plst(user_id, token, uris=songs, name=name, description=description, public=public)\n",
    "\n",
    "    return songs"
   ]
  },
  {
   "cell_type": "markdown",
   "metadata": {},
   "source": [
    "### Place common songs first, then recommend"
   ]
  },
  {
   "cell_type": "code",
   "execution_count": 13,
   "metadata": {},
   "outputs": [],
   "source": [
    "def PlaceRecommend(user_id, token, limit, name='',description='', playlist_id=None, songs_id=None, create_pl=False, public=False, **kwargs):\n",
    "    market = kwargs.get(\"market\", 'US')\n",
    "    kwargs[\"market\"] = market\n",
    "\n",
    "    common_top = kwargs.get(\"common_top\", 0.25) ## default: songs that have a frequency within the top 25% are regarded as common songs \n",
    "    start_plst = kwargs.get(\"start_plst\", 0)\n",
    "    end_plst = kwargs.get(\"end_plst\", 20)\n",
    "    common_songs = ['spotify:track:'+ x for x in common(common_top, user_id, token, market = market, start_plst = start_plst, end_plst = end_plst)]\n",
    "    \n",
    "    pars_weight = kwargs.get(\"pars_weight\", {'energy': 0.4, 'duration_ms': 0.4, 'danceability': 0.2})\n",
    "    kwargs.pop('pars_weight', None)\n",
    "    \n",
    "    if playlist_id is not None:\n",
    "        ids, durations = get_ID(user_id, token, playlist_id, market)\n",
    "        ids = ['spotify:track:'+ x for x in ids]\n",
    "    elif songs_id is not None:\n",
    "        ids = songs_id\n",
    "    else:\n",
    "        NameError('Please input either playlist_id or songs_id.')\n",
    "    \n",
    "    common_num = round(kwargs.get(\"common_prop\", 0) * len(ids)) ## default: don't use common song to substitute recommendations\n",
    "    kwargs.pop('common_prop', None)\n",
    "    \n",
    "    def meet_middle_for_bucket(user_id, token, limit, songs_id, **kwargs):\n",
    "        f_pl, _ = get_recommendation_for_a_playlist(user_id, token, limit=limit, name='', description='', songs_id=songs_id, **kwargs)\n",
    "        b_pl, _ = get_recommendation_for_a_playlist(user_id, token, limit=limit, name='', description='', songs_id=songs_id[::-1], **kwargs)\n",
    "        b_pl = b_pl[::-1]\n",
    "        if f_pl == b_pl or len(f_pl) == 1:\n",
    "            return([x[14:] for x in f_pl])\n",
    "        else:\n",
    "            f_pl = [x[14:] for x in f_pl]\n",
    "            b_pl = [x[14:] for x in b_pl]\n",
    "            middle = len(f_pl) // 2\n",
    "            energys = [get_song(user_id, token, x, market)['energy'][0]  for x in songs_id]\n",
    "            trends = [1 if energys[i+1] > energys[i] else -1 for i in range(len(energys)-1)]\n",
    "            f_energy = get_song(user_id, token, f_pl[middle-1], market)['energy'][0] \n",
    "            b_energy = get_song(user_id, token, b_pl[middle], market)['energy'][0]\n",
    "            trend = trends[middle-1]\n",
    "            if f_pl[middle] == b_pl[middle] or trend * (b_energy - f_energy) > 0:\n",
    "                return(f_pl[:middle] + b_pl[middle:])\n",
    "            else:\n",
    "                offset = 1\n",
    "                finished = None\n",
    "                while trend * (b_energy - f_energy) <= 0 and middle+1+offset < len(b_pl)-1:\n",
    "                    f_energy = get_song(user_id, token, f_pl[middle-1+offset], market)['energy'][0] \n",
    "                    b_energy = get_song(user_id, token, b_pl[middle+1+offset], market)['energy'][0]\n",
    "                    trend = trends[middle-1+offset]\n",
    "                    if trend * (b_energy - f_energy) > 0:\n",
    "                        return(f_pl[:(middle+1)] + b_pl[(middle+1):])\n",
    "                    else:\n",
    "                        offset += 1\n",
    "            if finished is None:\n",
    "                offset = -1\n",
    "                while trend * (b_energy - f_energy) <= 0 and middle-1+offset > 0:\n",
    "                    f_energy = get_song(user_id, token, f_pl[middle-1+offset], market)['energy'][0] \n",
    "                    b_energy = get_song(user_id, token, b_pl[middle+1+offset], market)['energy'][0]\n",
    "                    trend = trends[middle-1+offset]\n",
    "                    if trend * (b_energy - f_energy) > 0:\n",
    "                        return(f_pl[:(middle+1)] + b_pl[(middle+1):])\n",
    "                    else:\n",
    "                        offset += -1\n",
    "            if finished is None:\n",
    "                ### if after searching from the middle to the end and the beginning, no points between \n",
    "                ### these two playlists can be combined, we just use the original one that goes from the beginning\n",
    "                return (f_pl)\n",
    "         \n",
    "    songs = [x if x not in common_songs else None for x in ids]\n",
    "    song_id = [x for x in songs if x is not None]\n",
    "    com, place = place_common(user_id, token, market = market, songs_id = song_id, \n",
    "                              common_songs = common_songs, num = common_num, pars_weight = pars_weight)\n",
    "\n",
    "    ## replace target songs with common songs\n",
    "    count = 0\n",
    "    for i in range(len(songs)):\n",
    "        if songs[i] is not None:\n",
    "            for j in range(len(place)):\n",
    "                if count == place[j]:\n",
    "                    songs[i] = com[j]\n",
    "            count +=1\n",
    "        else:\n",
    "            songs[i] = ids[i]\n",
    "\n",
    "    sorted_place = sorted(set(place + [len(songs) - 1, 0]))\n",
    "    buckets = [[songs[i] for i in range(sorted_place[j], sorted_place[j+1])] \n",
    "               if j < len(sorted_place)-2 else [songs[i] for i in range(sorted_place[j], sorted_place[j+1]+1)] \n",
    "               for j in range(len(sorted_place)-1)]\n",
    "    buckets = [[x[14:] for x in lst]for lst in buckets]\n",
    "\n",
    "    ## generate recommendations using meet middle method\n",
    "    recommendations_pl = []\n",
    "    for song_id in buckets:\n",
    "        if len(song_id) > 2:\n",
    "            pl = meet_middle_for_bucket(user_id, token, limit, song_id[1:-1], **kwargs)\n",
    "            pl = [song_id[0]] + pl + [song_id[-1]]\n",
    "        else:\n",
    "            pl = song_id\n",
    "        recommendations_pl.append(pl)\n",
    "\n",
    "    ## flattern\n",
    "    recommendations_pl = [num for elem in recommendations_pl for num in elem]\n",
    "    ## add something so that Spotify API know what it is \n",
    "    recommendations_pl = ['spotify:track:'+ str(x) for x in recommendations_pl]\n",
    "    \n",
    "    if create_pl:\n",
    "        create_plst(user_id, token, uris=recommendations_pl, name=name, description=description, public=public)\n",
    "    \n",
    "    return recommendations_pl"
   ]
  },
  {
   "cell_type": "markdown",
   "metadata": {},
   "source": [
    "## Parameters"
   ]
  },
  {
   "cell_type": "markdown",
   "metadata": {},
   "source": [
    "The number of possible parameters is too large to list all of them. I hope the explanation below can provide a basic idea for the parameters for you. "
   ]
  },
  {
   "cell_type": "markdown",
   "metadata": {},
   "source": [
    "#### 1. For function `get_recommendation_for_a_playlist`: \n",
    "- user_id\n",
    "- token\n",
    "- limit: the target size of the list of recommendations\n",
    "- name: name for the new playlist\n",
    "- description: description for the new playlist\n",
    "- playlist_id: the id for the target playlist\n",
    "- songs_id: a list of target song ids\n",
    "- create_pl: if True, create a playlist with the final recommendations\n",
    "- public: if True, the playlist to be created is a public playlist\n",
    "- quiet: if False, print information during the process\n",
    "- **kwargs**: There are many other optional parameters can be assigned. Assign it as `par_name = par_value`, such as `market = 'US'`. \n",
    "     - market: the country of the song market you want to explore\n",
    "     - common_top: songs with a (weighted) frequency within top \"common_top\" will be regarded as common songs\n",
    "     - start_plst: when getting common songs, start from which playlist. 0 means starting from the latest playlist\n",
    "     - end_plst: when getting common songs, end at which playlist. 1 means ending from the second latest playlist\n",
    "     - common_prop: the proportion of common songs you want to have. **This should be 0 or not provided in the pure method.**\n",
    "     - percent_args: when getting recommendations using Spotify API, we need to submit parameters, including target value, minimum value and maximum value. **This should be a dictionary.** For example, `percent_args = {'time': 15, 'energy': 0.1}`.\n",
    "          - 'time': in the above example, we will consider a duration interval with length 30s.\n",
    "          - other parameters, including 'energy', 'instrumentalness', 'tempo', 'valence', 'speechiness', 'acousticness', 'liveness', 'danceability', 'key', 'loudness', 'mode', 'time_signature': percent range. In the above example, we will set `target_energy` as the target song's energy, `min_energy=(1-0.1)*target_energy` and `max_energy=(1+0.1)*target_energy`. \n",
    "          \n",
    "Note: if both `playlist_id` and `songs_id` are given, we will use `playlist_id` and ignore `songs_id`. If neither is given, throw an error message. "
   ]
  },
  {
   "cell_type": "markdown",
   "metadata": {},
   "source": [
    "#### 2. For function `meet_middle`: \n",
    "- **bucket_lengths**: the number of minutes in each bucket, for example, `bucket_lengths=[10, 15]` means to create two buckets, one has a duration about 10 minutes and the other has a duration about 15 minutes.\n",
    "\n",
    "Note: other parameters as the same as `get_recommendation_for_a_playlist`. "
   ]
  },
  {
   "cell_type": "markdown",
   "metadata": {},
   "source": [
    "#### 3. For function `RecommendPlace`: \n",
    "- **pars_weight**: the weight for each parameter when compare difference between songs. For example, `pars_weight={'energy': 0.4, 'duration_ms': 0.4, 'danceability': 0.2}` means that when calculating the difference between two songs, \\begin{equation} diff = 0.4*(energy1-energy2)^2+0.4*(duration\\_ms1-duration\\_ms2)^2+0.2*(danceability1-danceability2)^2 \\end{equation}\n",
    "\n",
    "Note: other parameters as the same as `get_recommendation_for_a_playlist`. "
   ]
  },
  {
   "cell_type": "markdown",
   "metadata": {},
   "source": [
    "#### 4. For function `PlaceRecommend`: \n",
    "`common_top`, `start_plst`, `end_plst`, `common_prop` and `pars_weight` are required, instead of optional parameters.\n",
    "\n",
    "Note: other parameters as the same as `get_recommendation_for_a_playlist`. "
   ]
  },
  {
   "cell_type": "markdown",
   "metadata": {},
   "source": [
    "## Test"
   ]
  },
  {
   "cell_type": "markdown",
   "metadata": {},
   "source": [
    "Note: token should have scope at least \"playlist-modify-private\", you can find get one at the botton GET TOKEN from [here](https://developer.spotify.com/console/get-recommendations/?limit=10&market=ES&seed_artists=4NHQUGzhtTLFvgF5SZesLK&seed_genres=classical%2Ccountry&seed_tracks=0c6xIDDpzE81m2q797ordA&min_acousticness=&max_acousticness=&target_acousticness=&min_danceability=&max_danceability=&target_danceability=&min_duration_ms=&max_duration_ms=&target_duration_ms=&min_energy=&max_energy=&target_energy=&min_instrumentalness=&max_instrumentalness=&target_instrumentalness=&min_key=&max_key=&target_key=&min_liveness=&max_liveness=&target_liveness=&min_loudness=&max_loudness=&target_loudness=&min_mode=&max_mode=&target_mode=&min_popularity=&max_popularity=&target_popularity=&min_speechiness=&max_speechiness=&target_speechiness=&min_tempo=&max_tempo=&target_tempo=&min_time_signature=&max_time_signature=&target_time_signature=&min_valence=&max_valence=&target_valence=).\n",
    "\n",
    "User id can be obtained from [your Spotify profile](https://www.spotify.com/us/account/overview/?utm_source=spotify&utm_medium=menu&utm_campaign=your_account)."
   ]
  },
  {
   "cell_type": "code",
   "execution_count": null,
   "metadata": {},
   "outputs": [],
   "source": [
    "# settings\n",
    "token = \"BQDdbJ0tx0Nz0O7fboxfugCaYyZgPVjoGbRzbqN6abdNiAySIExSL06jeODo0O7FtNree79PlRTXRZHI1recFIxqed6vgUXV3ySwZCdq2dlvxAtVmRU-Bl5ZpW7S7-4n-_rAMlm_0bn3dm0AZilqIv6-1S-RgG3VvZP6PUc4Um2pT4Fw8w2qLI7S8bJGoKAeJE4sYN61LrBCRw\"\n",
    "user_id = \"pbwppse1hilahmk43ls424ao4\""
   ]
  },
  {
   "cell_type": "code",
   "execution_count": null,
   "metadata": {},
   "outputs": [],
   "source": [
    "## for test use only\n",
    "target_songs = ['spotify:track:7bzks4LGpQUuPKBzJ6iQ7y',\n",
    " 'spotify:track:7nBR4Tt431p1MTgv3lVsmX',\n",
    " 'spotify:track:4VAdq9M22v99JHIXNv8TZ6',\n",
    " 'spotify:track:5prMnA9apLCmFBjL9sbpUR',\n",
    " 'spotify:track:6mybKC52hIM1WYfp73CaOl',\n",
    " 'spotify:track:0dbqPssLj7KzNTH81tcsrZ',\n",
    " 'spotify:track:7caJcFZTtLzy0ZSol1AXKH',\n",
    " 'spotify:track:7JPjG8J0sXCIh9KkWBy4vw',\n",
    " 'spotify:track:09RXXnMSVrES6xju7IXrsX',\n",
    " 'spotify:track:6IBCA5bu9eIBOsaoO0MqJj',\n",
    " 'spotify:track:4MvbRbrOEsJgdYRGNGBjTE']"
   ]
  },
  {
   "cell_type": "markdown",
   "metadata": {},
   "source": [
    "#### Test pure method"
   ]
  },
  {
   "cell_type": "code",
   "execution_count": null,
   "metadata": {},
   "outputs": [],
   "source": [
    "name = 'pure_pl'\n",
    "description = ''\n",
    "limit = 10  ## for each song in current playlist, 10 recommendations are generated\n",
    "market = 'US'\n",
    "\n",
    "playlist_id = '4N2UHn9HpFc3n93s1gduIM'\n",
    "percent_args = {'time': 15, 'energy': 0.1} #'liveness': 0.05"
   ]
  },
  {
   "cell_type": "code",
   "execution_count": null,
   "metadata": {},
   "outputs": [],
   "source": [
    "song_recom, candidate = get_recommendation_for_a_playlist(user_id, token, limit, name, description, \n",
    "                                                          playlist_id = playlist_id, create_pl=True, market=market, \n",
    "                                                          percent_args = percent_args, quiet = True)"
   ]
  },
  {
   "cell_type": "code",
   "execution_count": null,
   "metadata": {},
   "outputs": [],
   "source": [
    "song_recom"
   ]
  },
  {
   "cell_type": "code",
   "execution_count": null,
   "metadata": {},
   "outputs": [],
   "source": [
    "name = 'pure_songs'\n",
    "description = ''\n",
    "song_recom, candidate = get_recommendation_for_a_playlist(user_id, token, limit, name, description, \n",
    "                                                          songs_id = target_songs, create_pl=True, market='US', \n",
    "                                                          percent_args = percent_args, quiet = True)"
   ]
  },
  {
   "cell_type": "code",
   "execution_count": null,
   "metadata": {},
   "outputs": [],
   "source": [
    "song_recom"
   ]
  },
  {
   "cell_type": "markdown",
   "metadata": {},
   "source": [
    "#### Test Meet Middle"
   ]
  },
  {
   "cell_type": "code",
   "execution_count": null,
   "metadata": {},
   "outputs": [],
   "source": [
    "name = 'meetmiddle_pl'\n",
    "description = ''\n",
    "r_meetmiddle = meet_middle(user_id, token, bucket_lengths = [15, 20, 2], limit=limit, name=name, description=description, \n",
    "                           playlist_id = playlist_id, market = 'US', percent_args = percent_args, create_pl=True)"
   ]
  },
  {
   "cell_type": "code",
   "execution_count": null,
   "metadata": {},
   "outputs": [],
   "source": [
    "r_meetmiddle"
   ]
  },
  {
   "cell_type": "code",
   "execution_count": null,
   "metadata": {},
   "outputs": [],
   "source": [
    "name = 'meetmiddle_songs'\n",
    "description = ''\n",
    "r_meetmiddle = meet_middle(user_id, token, bucket_lengths = [5, 15, 25, 13], limit=limit, name=name, description=description, \n",
    "                           songs_id = target_songs, market = 'US', percent_args = percent_args, create_pl=True)"
   ]
  },
  {
   "cell_type": "code",
   "execution_count": null,
   "metadata": {},
   "outputs": [],
   "source": [
    "r_meetmiddle"
   ]
  },
  {
   "cell_type": "markdown",
   "metadata": {},
   "source": [
    "#### Test \"Recommend first, then place common songs\""
   ]
  },
  {
   "cell_type": "code",
   "execution_count": null,
   "metadata": {},
   "outputs": [],
   "source": [
    "## all possible parameters\n",
    "## ['energy', 'duration_ms', 'instrumentalness', 'danceability', 'key', 'loudness', \n",
    "## 'mode', 'speechiness', 'acousticness', 'liveness', 'valence', 'tempo', 'time_signature']\n",
    "\n",
    "pars_weight = {'energy': 0.4, 'duration_ms': 0.4, 'danceability': 0.2}\n",
    "name = 'recomplace_pl'\n",
    "description = ''\n",
    "r_recommendplace = RecommendPlace(user_id, token, limit, name, description, \n",
    "                                  playlist_id=playlist_id, \n",
    "                                  market='US', percent_args = percent_args, pars_weight = pars_weight, quiet = True, \n",
    "                                  common_top = 0.6, start_plst = 2, end_plst = 10, common_prop = 0.2, create_pl=True)"
   ]
  },
  {
   "cell_type": "code",
   "execution_count": null,
   "metadata": {},
   "outputs": [],
   "source": [
    "r_recommendplace"
   ]
  },
  {
   "cell_type": "code",
   "execution_count": null,
   "metadata": {},
   "outputs": [],
   "source": [
    "name = 'recomplace_songs'\n",
    "description = ''\n",
    "r_recommendplace = RecommendPlace(user_id, token, limit, name, description, market='US', percent_args = percent_args, \n",
    "                                  songs_id = target_songs, common_top = 0.6, start_plst = 2, end_plst = 10, common_prop = 0.2, \n",
    "                                  pars_weight = pars_weight, quiet = True, create_pl=True)"
   ]
  },
  {
   "cell_type": "code",
   "execution_count": null,
   "metadata": {},
   "outputs": [],
   "source": [
    "r_recommendplace"
   ]
  },
  {
   "cell_type": "markdown",
   "metadata": {},
   "source": [
    "#### Test \"Place common songs first, then recommend\""
   ]
  },
  {
   "cell_type": "code",
   "execution_count": null,
   "metadata": {},
   "outputs": [],
   "source": [
    "pars_weight = {'energy': 0.4, 'duration_ms': 0.4, 'danceability': 0.2}\n",
    "name = 'placerecom_pl'\n",
    "description = ''\n",
    "r_placerecommend = PlaceRecommend(user_id, token, limit, name, description, playlist_id = playlist_id, \n",
    "               market = 'US', pars_weight=pars_weight, percent_args = percent_args, \n",
    "               common_top = 0.6, start_plst = 2, end_plst = 10, common_prop = 0.2, quiet = True, create_pl=True)"
   ]
  },
  {
   "cell_type": "code",
   "execution_count": null,
   "metadata": {},
   "outputs": [],
   "source": [
    "r_placerecommend"
   ]
  },
  {
   "cell_type": "code",
   "execution_count": null,
   "metadata": {},
   "outputs": [],
   "source": [
    "name = 'placerecom_songs'\n",
    "description = ''\n",
    "r_placerecommend = PlaceRecommend(user_id, token, limit, name, description, songs_id = target_songs, \n",
    "               market = 'US', pars_weight=pars_weight, percent_args = percent_args, \n",
    "               common_top = 0.6, start_plst = 2, end_plst = 10, common_prop = 0.2, quiet = True, create_pl=True)"
   ]
  },
  {
   "cell_type": "code",
   "execution_count": null,
   "metadata": {},
   "outputs": [],
   "source": [
    "r_placerecommend"
   ]
  },
  {
   "cell_type": "markdown",
   "metadata": {},
   "source": [
    "## ======================  Appendix =========================================\n",
    "#### Test for song frequency"
   ]
  },
  {
   "cell_type": "code",
   "execution_count": null,
   "metadata": {},
   "outputs": [],
   "source": [
    "start_plst = 0 ## 0 means start from the most recent one\n",
    "end_plst = 10 ## 10 means end at the 10 recent one\n",
    "## in this case, 11 playlists are used "
   ]
  },
  {
   "cell_type": "markdown",
   "metadata": {},
   "source": [
    "#### Use create time for playlist"
   ]
  },
  {
   "cell_type": "code",
   "execution_count": null,
   "metadata": {},
   "outputs": [],
   "source": [
    "df = get_song_freq(user_id, token, market = 'US', start_plst = 0, end_plst = 20, use_time = False)\n",
    "df.head(10)"
   ]
  },
  {
   "cell_type": "markdown",
   "metadata": {},
   "source": [
    "#### Don't use create time for playlist"
   ]
  },
  {
   "cell_type": "code",
   "execution_count": null,
   "metadata": {},
   "outputs": [],
   "source": [
    "df1 = get_song_freq(user_id, token, market = 'US', start_plst = 0, end_plst = 20, use_time = True, decay_rate = 15)\n",
    "df1.head(10)"
   ]
  }
 ],
 "metadata": {
  "kernelspec": {
   "display_name": "Python 3",
   "language": "python",
   "name": "python3"
  },
  "language_info": {
   "codemirror_mode": {
    "name": "ipython",
    "version": 3
   },
   "file_extension": ".py",
   "mimetype": "text/x-python",
   "name": "python",
   "nbconvert_exporter": "python",
   "pygments_lexer": "ipython3",
   "version": "3.7.6"
  }
 },
 "nbformat": 4,
 "nbformat_minor": 4
}
