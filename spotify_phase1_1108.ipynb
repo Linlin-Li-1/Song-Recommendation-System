{
 "cells": [
  {
   "cell_type": "code",
   "execution_count": 1,
   "metadata": {},
   "outputs": [],
   "source": [
    "import requests\n",
    "import json\n",
    "import pandas as pd\n",
    "import numpy as np\n",
    "import re"
   ]
  },
  {
   "cell_type": "markdown",
   "metadata": {},
   "source": [
    "### Get a user's playlists"
   ]
  },
  {
   "cell_type": "code",
   "execution_count": 2,
   "metadata": {},
   "outputs": [],
   "source": [
    "def get_plst_ID(user_id, token):\n",
    "    tidy = lambda s: s[17:]\n",
    "    base_url = \"https://api.spotify.com/v1/users/\"\n",
    "    query = f'{base_url}{user_id}/playlists'\n",
    "\n",
    "    response = requests.get(query, \n",
    "                   headers={\"Accept\": \"application/json\",\n",
    "                            \"Content-Type\":\"application/json\", \n",
    "                            \"Authorization\":f\"Bearer {token}\"})\n",
    "    json_response = response.json()\n",
    "    return [tidy(x['uri'])for x in json_response['items']]"
   ]
  },
  {
   "cell_type": "markdown",
   "metadata": {},
   "source": [
    "### Get a Playlist's Items"
   ]
  },
  {
   "cell_type": "code",
   "execution_count": 3,
   "metadata": {},
   "outputs": [],
   "source": [
    "def get_ID(user_id, token, playlist_id, market = 'US'):\n",
    "    tidy = lambda s: s[14:]\n",
    "    base_url = \"https://api.spotify.com/v1/playlists/\"\n",
    "    query = f'{base_url}{playlist_id}/tracks?market={market}'\n",
    "\n",
    "    response = requests.get(query, \n",
    "                   headers={\"Accept\": \"application/json\",\n",
    "                            \"Content-Type\":\"application/json\", \n",
    "                            \"Authorization\":f\"Bearer {token}\"})\n",
    "    json_response = response.json()\n",
    "    return [tidy(x['track']['uri'])for x in json_response['items']], [json_response['items'][i]['track']['duration_ms'] for i in range(len(json_response['items']))]"
   ]
  },
  {
   "cell_type": "markdown",
   "metadata": {},
   "source": [
    "### Get information about a song"
   ]
  },
  {
   "cell_type": "code",
   "execution_count": 4,
   "metadata": {},
   "outputs": [],
   "source": [
    "def get_song(user_id, token, song_id, market = 'US'):\n",
    "    \n",
    "    ## get audio features of the song/track\n",
    "    song_url = \"https://api.spotify.com/v1/audio-features/\"\n",
    "    query = f'{song_url}{song_id}'\n",
    "    response = requests.get(query, \n",
    "                   headers={\"Content-Type\":\"application/json\", \n",
    "                            \"Authorization\":f\"Bearer {token}\"})\n",
    "    json_response = response.json()\n",
    "    df_response = pd.json_normalize(json_response)\n",
    "    \n",
    "    ## get album information and the first artist\n",
    "    base_url = \"https://api.spotify.com/v1/tracks/\"\n",
    "    query = f'{base_url}{song_id}?market={market}'\n",
    "    response = requests.get(query, \n",
    "                   headers={\"Accept\": \"application/json\",\n",
    "                            \"Content-Type\":\"application/json\", \n",
    "                            \"Authorization\":f\"Bearer {token}\"})\n",
    "    json_response = response.json()\n",
    "    album_id = json_response['album']['id']\n",
    "    artist_id = json_response['artists'][0]['id']\n",
    "    \n",
    "    ## get genre of the album\n",
    "    base_url = \"https://api.spotify.com/v1/albums/\"\n",
    "    query = f'{base_url}{album_id}?market={market}'\n",
    "    response = requests.get(query, \n",
    "                   headers={\"Accept\": \"application/json\",\n",
    "                            \"Content-Type\":\"application/json\", \n",
    "                            \"Authorization\":f\"Bearer {token}\"})\n",
    "    json_response = response.json()\n",
    "    genre = json_response['genres']\n",
    "    \n",
    "    \n",
    "    df_response['artist_id'] = artist_id if len(artist_id) >0 else None\n",
    "    df_response['albuma_id'] = album_id if len(album_id) >0 else None\n",
    "    df_response['genre'] = genre if len(genre) >0 else None\n",
    "    \n",
    "    return df_response.drop(['type', 'uri', 'track_href', 'analysis_url'], axis=1).set_index('id')"
   ]
  },
  {
   "cell_type": "markdown",
   "metadata": {},
   "source": [
    "### Get Recommendations from Spotify API (Nov 7 updated)"
   ]
  },
  {
   "cell_type": "code",
   "execution_count": 5,
   "metadata": {},
   "outputs": [],
   "source": [
    "def check(par, par_range):\n",
    "    ''' Check if values are in the feasible range. '''\n",
    "    return(np.clip(par, par_range[0], par_range[1]))"
   ]
  },
  {
   "cell_type": "code",
   "execution_count": 6,
   "metadata": {},
   "outputs": [],
   "source": [
    "def check_whole(kwargs):\n",
    "    ''' Run the above check function to all optional parameters. '''\n",
    "    pars = ['valence', 'speechiness', 'acousticness', 'liveness', 'danceability', 'hahaha']\n",
    "    ranges = {'valence': [0,1], 'speechiness': [0,1], 'acousticness': [0,1], 'liveness': [0,1], 'danceability': [0,1]}\n",
    "    if len(kwargs) == 0:\n",
    "        return(kwargs)\n",
    "    else:\n",
    "        for item in pars:\n",
    "            if np.array([re.match(f\"(.*?)({item})\", x) is not None for x in kwargs.keys()]).any(): \n",
    "                item_min = 'min_' + item\n",
    "                item_max = 'max_' + item\n",
    "                item_target = 'target_' + item\n",
    "                par_range = ranges.get(item)\n",
    "                kwargs[item_target] = check(kwargs.get(item_target), par_range)\n",
    "                kwargs[item_min] = check(kwargs.get(item_min), par_range)\n",
    "                kwargs[item_max] = check(kwargs.get(item_max), par_range)\n",
    "        return(kwargs)"
   ]
  },
  {
   "cell_type": "code",
   "execution_count": 7,
   "metadata": {},
   "outputs": [],
   "source": [
    "def recommend(song, limit, target_duration_ms, require_percents, optional_percents, **kwargs):\n",
    "    seed_tracks = song.index[0]\n",
    "    \n",
    "    time_mt = require_percents.get('time')\n",
    "    energy_percent = require_percents.get('energy')\n",
    "    instrumentalness_percent = require_percents.get('instrumentalness')\n",
    "    tempo_percent = require_percents.get('tempo')\n",
    "    \n",
    "    min_duration_ms = max(target_duration_ms - time_mt * 1000, 0)\n",
    "    max_duration_ms = target_duration_ms + time_mt * 1000\n",
    "    \n",
    "    ## required percents\n",
    "    target_energy = song['energy'][0]\n",
    "    min_energy = check(target_energy * (1 - energy_percent), [0,1])\n",
    "    max_energy = check(target_energy * (1 + energy_percent), [0,1])\n",
    "    target_instrumentalness = song['instrumentalness'][0]\n",
    "    min_instrumentalness = check(target_instrumentalness * (1 - instrumentalness_percent), [0,1])\n",
    "    #max_instrumentalness = check(target_instrumentalness * (1 + instrumentalness_percent), [0,1])\n",
    "    target_tempo = song['tempo'][0]\n",
    "    min_tempo = check(target_tempo * (1 - tempo_percent), [0, np.inf])\n",
    "    max_tempo = check(target_tempo * (1 + tempo_percent), [0, np.inf])\n",
    "\n",
    "    ## default parameters\n",
    "    target_key = song['key'][0]\n",
    "    target_danceability=song['danceability'][0]\n",
    "    target_mode=song['mode'][0]\n",
    "         \n",
    "    ## optional percents\n",
    "    for item in optional_percents: \n",
    "        item_min = 'min_' + item\n",
    "        item_max = 'max_' + item\n",
    "        item_target = 'target_' + item\n",
    "        target = song[item][0]\n",
    "        kwargs[item_target] = target\n",
    "        if item not in ['mode', 'key', 'popularity', 'time_signature']:\n",
    "            kwargs[item_min] = target * (1 - optional_percents.get(item))\n",
    "            kwargs[item_max] = target * (1 + optional_percents.get(item))\n",
    "    kwargs.pop('optional_percents', None)   ## remove `optional_percents` from kwargs\n",
    "    kwargs = check_whole(kwargs)\n",
    "    \n",
    "    endpoint_url = \"https://api.spotify.com/v1/recommendations?\"\n",
    "    query = f'{endpoint_url}limit={limit}&seed_tracks={seed_tracks}'\n",
    "    query += f'&target_duration_ms={target_duration_ms}&min_duration_ms={min_duration_ms}&max_duration_ms={max_duration_ms}'\n",
    "    query += f'&target_energy={target_energy}&min_energy={min_energy}&max_energy={max_energy}'\n",
    "    query += f'&target_instrumentalness={target_instrumentalness}&min_instrumentalness={min_instrumentalness}'\n",
    "    query += f'&target_tempo={target_tempo}&min_tempo={min_tempo}&max_tempo={max_tempo}'\n",
    "    query += f'&target_key={target_key}'\n",
    "    query += f'&target_danceability={target_danceability}'\n",
    "    query += f'&target_mode={target_mode}'\n",
    "    \n",
    "    if song['genre'][0] is not None:\n",
    "        seed_genres = song['genre'][0]\n",
    "        query += f'&seed_genres={seed_genres}'\n",
    "    if song['artist_id'][0] is not None:\n",
    "        seed_artist = song['artist_id'][0]\n",
    "        query += f'&seed_artist={seed_artist}'\n",
    "\n",
    "    if len(kwargs.keys()) > 0:\n",
    "        query += '&'\n",
    "        lst = [str(x[0])+'='+str(x[1]) for x in zip(kwargs.keys(), kwargs.values())]\n",
    "        query += '&'.join(lst) ## add all limits from kwargs\n",
    "    uris = [] \n",
    "    #print(query)\n",
    "    \n",
    "    response = requests.get(query, \n",
    "               headers={\"Content-Type\":\"application/json\", \n",
    "                        \"Authorization\":f\"Bearer {token}\"})\n",
    "    json_response = response.json()\n",
    "    #print('Recommended Songs:')\n",
    "    uris = []\n",
    "    for i,j in enumerate(json_response['tracks']):\n",
    "        uris.append(j['uri'])\n",
    "        #print(f\"{i+1}) \\\"{j['name']}\\\" by {j['artists'][0]['name']}\")\n",
    "    return uris"
   ]
  },
  {
   "cell_type": "markdown",
   "metadata": {},
   "source": [
    "### Filter recommended songs"
   ]
  },
  {
   "cell_type": "code",
   "execution_count": 8,
   "metadata": {},
   "outputs": [],
   "source": [
    "def filter_energy(r, pre_energy, market, trend = None):\n",
    "    ''' filter recommended songs according to the energy trend '''\n",
    "    \n",
    "    if trend is None or pre_energy == 0:\n",
    "        return r[0]\n",
    "    \n",
    "    energys_diff = [get_song(user_id, token, r[i][14:], market)['energy'][0] - pre_energy for i in range(len(r))]\n",
    "    if trend == '+':\n",
    "        if all(np.array(energys_diff) <= 0):\n",
    "            return None\n",
    "        idx = np.argmax( np.array(energys_diff) > 0)\n",
    "    else:\n",
    "        if all(np.array(energys_diff) >= 0):\n",
    "            return None\n",
    "        idx = np.argmax( np.array(energys_diff) < 0)\n",
    "    return(r[idx])"
   ]
  },
  {
   "cell_type": "markdown",
   "metadata": {},
   "source": [
    "### Create a playlist"
   ]
  },
  {
   "cell_type": "code",
   "execution_count": 9,
   "metadata": {},
   "outputs": [],
   "source": [
    "# create a new playlist to store those recommendations\n",
    "def create_plst(user_id, token, uris, name, description, public):\n",
    "    endpoint_url = f\"https://api.spotify.com/v1/users/{user_id}/playlists\"\n",
    "    request_body = json.dumps({\n",
    "        \"name\": name,\n",
    "        \"description\": description,\n",
    "        \"public\": public })\n",
    "    # create an empty new playlist\n",
    "    response = requests.post(url = endpoint_url, data = request_body, headers={\"Content-Type\":\"application/json\", \n",
    "                        \"Authorization\":f\"Bearer {token}\"})\n",
    "    url = response.json()['external_urls']['spotify']\n",
    "    if response.status_code == 201:\n",
    "        print('Playlist {} is successfully created!'.format(name))\n",
    "        \n",
    "    # fill the new playlist with the recommendations\n",
    "    playlist_id = response.json()['id']\n",
    "    endpoint_url = f\"https://api.spotify.com/v1/playlists/{playlist_id}/tracks\"\n",
    "    request_body = json.dumps({ \"uris\" : uris })\n",
    "    response = requests.post(url = endpoint_url, data = request_body, headers={\"Content-Type\":\"application/json\", \n",
    "                        \"Authorization\":f\"Bearer {token}\"})\n",
    "    if response.status_code == 201:\n",
    "        print('Playlist {} is successfully filled with recommendations!'.format(name))\n",
    "        print(f'Your playlist is ready at {url}')"
   ]
  },
  {
   "cell_type": "markdown",
   "metadata": {},
   "source": [
    "### Generate a similar playlist"
   ]
  },
  {
   "cell_type": "code",
   "execution_count": 10,
   "metadata": {},
   "outputs": [],
   "source": [
    "def get_recommendation_for_a_playlist(user_id, token, playlist_id, name, description, limit, public=False, **kwargs):\n",
    "    print(playlist_id)\n",
    "    \n",
    "    market = kwargs.get(\"market\", 'US')\n",
    "    kwargs[\"market\"] = market\n",
    "    \n",
    "    percent_args = kwargs.get(\"percent_args\", {})\n",
    "    requires = ['time', 'energy', 'instrumentalness', 'tempo']\n",
    "    require_percents = {}\n",
    "    optional_percents = {}\n",
    "    for item in requires:  ## for required percents, extract them and store in `require_percents`\n",
    "        require_percents[item] = percent_args.get(item, 0.1)\n",
    "    for item in list(set(percent_args) - set(requires)): ## for optional percents, store it in `optional_percents`\n",
    "        optional_percents[item] = percent_args.get(item)\n",
    "    kwargs.pop('percent_args', None)        \n",
    "    print(kwargs, require_percents, optional_percents)\n",
    "    \n",
    "    def _get_one_recommendation(idx, limit, target_duration_ms, require_percents, optional_percents, **kwargs):\n",
    "        df_response = get_song(user_id, token, idx, market)\n",
    "        r = recommend(df_response, limit, target_duration_ms, require_percents, optional_percents, **kwargs)\n",
    "\n",
    "        print(f\"For the {j+1}-th song, no recommendations, enlarged the range about duration.\")\n",
    "        new_time_percent = require_percents.get('time')\n",
    "        new_energy_percent = require_percents.get('energy')\n",
    "        new_require_percents = require_percents.copy()\n",
    "        i = 0\n",
    "        while len(r) == 0 and i < 10:\n",
    "            i += 1\n",
    "            new_time_percent += 10\n",
    "            new_energy_percent *= 2\n",
    "            new_require_percents['time'] = new_time_percent\n",
    "            #new_require_percents['energy'] = new_energy_percent\n",
    "            r = recommend(df_response, limit, target_duration_ms, new_require_percents, optional_percents, **kwargs)\n",
    "        if i == 10:\n",
    "            ## right now I keep the original one, we can improve it later\n",
    "            r = ['spotify:track:' + df_response.index[0]]\n",
    "            ## another way is to remove all optional limitations\n",
    "            # r = recommend(df_response, limit, target_duration_ms, require_percents, {}, **kwargs)\n",
    "        return r\n",
    "        \n",
    "    uris = []\n",
    "    duration = 0\n",
    "    ids, durations = get_ID(user_id, token, playlist_id, market)\n",
    "    diff = 0\n",
    "    pre_energy = 0\n",
    "    ene = 0\n",
    "    trend = None\n",
    "    for j in range(len(ids)):\n",
    "        energy = get_song(user_id, token, ids[j], market)['energy'][0] \n",
    "        trend = '+' if energy > pre_energy else '-'\n",
    "        _limit = limit\n",
    "        _r = None\n",
    "        i = 0\n",
    "        while _r is None and i < 10:\n",
    "            ## if no songs satisfy requirements, we get more recommendations from API and then filter\n",
    "            r = _get_one_recommendation(ids[j], _limit, durations[j]-diff, require_percents, optional_percents, **kwargs)    \n",
    "            #print(ene)\n",
    "            #print(trend)\n",
    "            if len(r) < _limit:\n",
    "                break\n",
    "            _r = filter_energy(r, ene, market, trend) ## add limitations to filter the recommendations and keep the energy trend\n",
    "            _limit = _limit + 10\n",
    "            i = i+1\n",
    "        if i == 10 or len(r) < _limit:\n",
    "            _r = r[0] ## if still no songs satisfy requirements, use the most similar song from Spotify Recommendation API\n",
    "\n",
    "        print('recommendation: ', _r[14:])\n",
    "        uris.append(_r)\n",
    "        dur = get_song(user_id, token, _r[14:], market)['duration_ms'][0] ## duration of the recommended song\n",
    "        duration += dur\n",
    "        diff = duration - sum(durations[:j+1])\n",
    "        ene = get_song(user_id, token, _r[14:], market)['energy'][0] ## energy of the recommended song\n",
    "        pre_energy = energy  ## energy of the j-th song in the playlist\n",
    "    \n",
    "    create_plst(user_id, token, [x for x in uris if x is not None], name, description, public)\n",
    "    return([x[14:] for x in uris if x is not None])"
   ]
  },
  {
   "cell_type": "markdown",
   "metadata": {},
   "source": [
    "## Test"
   ]
  },
  {
   "cell_type": "markdown",
   "metadata": {},
   "source": [
    "Note: token should have scope at least \"playlist-modify-private\", you can find get one at the botton GET TOKEN from [here](https://developer.spotify.com/console/get-recommendations/?limit=10&market=ES&seed_artists=4NHQUGzhtTLFvgF5SZesLK&seed_genres=classical%2Ccountry&seed_tracks=0c6xIDDpzE81m2q797ordA&min_acousticness=&max_acousticness=&target_acousticness=&min_danceability=&max_danceability=&target_danceability=&min_duration_ms=&max_duration_ms=&target_duration_ms=&min_energy=&max_energy=&target_energy=&min_instrumentalness=&max_instrumentalness=&target_instrumentalness=&min_key=&max_key=&target_key=&min_liveness=&max_liveness=&target_liveness=&min_loudness=&max_loudness=&target_loudness=&min_mode=&max_mode=&target_mode=&min_popularity=&max_popularity=&target_popularity=&min_speechiness=&max_speechiness=&target_speechiness=&min_tempo=&max_tempo=&target_tempo=&min_time_signature=&max_time_signature=&target_time_signature=&min_valence=&max_valence=&target_valence=).\n",
    "\n",
    "User id can be obtained from [your Spotify profile](https://www.spotify.com/us/account/overview/?utm_source=spotify&utm_medium=menu&utm_campaign=your_account)."
   ]
  },
  {
   "cell_type": "code",
   "execution_count": 11,
   "metadata": {},
   "outputs": [],
   "source": [
    "# settings\n",
    "token = \"BQCeeccYOwM0dG_P2tAwRPyNoHBHm9e3U3on2wzW4sygzzs85irk8t91IonjHgyXhRkuNFaBESnlHJ7S4ajcVcsu84YnbMsEVL7OW4bZRV1usV_pvIAxjlqUe9xOrimQh6TQhVs2v5B80SwhfQHoA8eyPeOE8FGCZlYtISbwk6O87UZMEYNIK_-Mya1DRXlzIqnnofLIpLx70w\"\n",
    "user_id = \"pbwppse1hilahmk43ls424ao4\"\n",
    "\n",
    "name = 'new method no energy 6/21'   ## name for the new playlist\n",
    "description = 'new method' ## description for the new playlist\n",
    "#f'recommendations based on {re.match(\"(.*?)Recommandation\", name).group(1)}' \n",
    "limit = 10  ## for each song in current playlist, 10 recommendations are generated\n",
    "\n",
    "plst_id = get_plst_ID(user_id, token)  ## get id for each playlist from a user\n",
    "#playlist_id = plst_id[7]    ## set the 2nd playlist to be the target playlist"
   ]
  },
  {
   "cell_type": "code",
   "execution_count": 12,
   "metadata": {},
   "outputs": [],
   "source": [
    "playlist_id = '4N2UHn9HpFc3n93s1gduIM'"
   ]
  },
  {
   "cell_type": "code",
   "execution_count": 13,
   "metadata": {},
   "outputs": [],
   "source": [
    "percent_args = {'time': 15, 'energy': 0.1} #'liveness': 0.05"
   ]
  },
  {
   "cell_type": "code",
   "execution_count": 14,
   "metadata": {},
   "outputs": [
    {
     "name": "stdout",
     "output_type": "stream",
     "text": [
      "4N2UHn9HpFc3n93s1gduIM\n",
      "{'market': 'US'} {'time': 15, 'energy': 0.1, 'instrumentalness': 0.1, 'tempo': 0.1} {}\n",
      "For the 1-th song, no recommendations, enlarged the range about duration and energy.\n",
      "recommendation:  7bzks4LGpQUuPKBzJ6iQ7y\n",
      "For the 2-th song, no recommendations, enlarged the range about duration and energy.\n",
      "recommendation:  7nBR4Tt431p1MTgv3lVsmX\n",
      "For the 3-th song, no recommendations, enlarged the range about duration and energy.\n",
      "recommendation:  6Fkdtw5xR9OgK8G62l0xjs\n",
      "For the 4-th song, no recommendations, enlarged the range about duration and energy.\n",
      "recommendation:  4Uw7NtaXY0xJrbR9qiaN4H\n",
      "For the 5-th song, no recommendations, enlarged the range about duration and energy.\n",
      "recommendation:  5860DNiiXsxmcRrZquqNH4\n",
      "For the 6-th song, no recommendations, enlarged the range about duration and energy.\n",
      "recommendation:  6GYD9MwygCfPurS4Dd7uvT\n",
      "For the 7-th song, no recommendations, enlarged the range about duration and energy.\n",
      "recommendation:  7caJcFZTtLzy0ZSol1AXKH\n",
      "For the 8-th song, no recommendations, enlarged the range about duration and energy.\n",
      "recommendation:  4FmvlFR6xsp1VbFZdjhSmR\n",
      "For the 9-th song, no recommendations, enlarged the range about duration and energy.\n",
      "recommendation:  09RXXnMSVrES6xju7IXrsX\n",
      "For the 10-th song, no recommendations, enlarged the range about duration and energy.\n",
      "recommendation:  2xql0pid3EUwW38AsywxhV\n",
      "For the 11-th song, no recommendations, enlarged the range about duration and energy.\n",
      "recommendation:  4MvbRbrOEsJgdYRGNGBjTE\n",
      "For the 12-th song, no recommendations, enlarged the range about duration and energy.\n",
      "recommendation:  4Fknl5coWTUwhBHuABw5lu\n",
      "For the 13-th song, no recommendations, enlarged the range about duration and energy.\n",
      "recommendation:  0tBCr4Xvvc3XyDYd0B4YsS\n",
      "Playlist new method no energy 6/21 is successfully created!\n",
      "Playlist new method no energy 6/21 is successfully filled with recommendations!\n",
      "Your playlist is ready at https://open.spotify.com/playlist/6r2Y4kDCh0Roxv0YNgaexb\n"
     ]
    }
   ],
   "source": [
    "# run it\n",
    "recommend_pl = get_recommendation_for_a_playlist(user_id, token, playlist_id, name, description, limit, market='US', percent_args = percent_args)"
   ]
  },
  {
   "cell_type": "markdown",
   "metadata": {},
   "source": [
    "#### Check your new playlist in your Spotify!"
   ]
  },
  {
   "cell_type": "code",
   "execution_count": null,
   "metadata": {},
   "outputs": [],
   "source": []
  },
  {
   "cell_type": "markdown",
   "metadata": {},
   "source": [
    "### Measure of Similarity"
   ]
  },
  {
   "cell_type": "code",
   "execution_count": 15,
   "metadata": {},
   "outputs": [],
   "source": [
    "pars = ['energy', 'instrumentalness', 'tempo', 'key', 'liveness', 'loudness', 'acousticness', 'danceability', 'mode', \n",
    "        'speechiness', 'time_signature', 'valence']"
   ]
  },
  {
   "cell_type": "code",
   "execution_count": 16,
   "metadata": {},
   "outputs": [],
   "source": [
    "def weighted_metric(weight, par_name, original_playlist, recommend_playlist):\n",
    "    original = 0\n",
    "    recommend = 0\n",
    "    ori_weight = 0\n",
    "    rec_weight = 0\n",
    "    for j in range(len(original_playlist)):\n",
    "        ori_song = get_song(user_id, token, original_playlist[j], market).iloc[0]\n",
    "        ori_weight += ori_song[weight]\n",
    "        original += ori_song[par_name] * ori_song[weight]\n",
    "        #print('weight', song[weight], '\\n par', song[par_name])\n",
    "        rec_song = get_song(user_id, token, recommend_playlist[j], market).iloc[0]\n",
    "        rec_weight += rec_song[weight]\n",
    "        recommend += rec_song[par_name] * rec_song[weight]\n",
    "\n",
    "    return((recommend/rec_weight - original/ori_weight), original/ori_weight, recommend/rec_weight)"
   ]
  },
  {
   "cell_type": "code",
   "execution_count": 21,
   "metadata": {},
   "outputs": [
    {
     "name": "stdout",
     "output_type": "stream",
     "text": [
      "energy\n",
      "instrumentalness\n",
      "tempo\n",
      "key\n",
      "liveness\n",
      "loudness\n",
      "acousticness\n",
      "danceability\n",
      "mode\n",
      "speechiness\n",
      "time_signature\n",
      "valence\n"
     ]
    }
   ],
   "source": [
    "market = 'US'\n",
    "ori_ids, ori_durations = get_ID(user_id, token, playlist_id, market)\n",
    "\n",
    "metrics = pd.DataFrame(index = pars, columns = ['difference', 'original', 'recommendations'])\n",
    "for i in range(len(pars)):\n",
    "    print(pars[i])\n",
    "    metrics.loc[pars[i], :] = weighted_metric('duration_ms', pars[i], ori_ids, recommend_pl)"
   ]
  },
  {
   "cell_type": "code",
   "execution_count": 22,
   "metadata": {},
   "outputs": [
    {
     "data": {
      "text/html": [
       "<div>\n",
       "<style scoped>\n",
       "    .dataframe tbody tr th:only-of-type {\n",
       "        vertical-align: middle;\n",
       "    }\n",
       "\n",
       "    .dataframe tbody tr th {\n",
       "        vertical-align: top;\n",
       "    }\n",
       "\n",
       "    .dataframe thead th {\n",
       "        text-align: right;\n",
       "    }\n",
       "</style>\n",
       "<table border=\"1\" class=\"dataframe\">\n",
       "  <thead>\n",
       "    <tr style=\"text-align: right;\">\n",
       "      <th></th>\n",
       "      <th>difference</th>\n",
       "      <th>original</th>\n",
       "      <th>recommendations</th>\n",
       "    </tr>\n",
       "  </thead>\n",
       "  <tbody>\n",
       "    <tr>\n",
       "      <th>energy</th>\n",
       "      <td>0.01381</td>\n",
       "      <td>0.685684</td>\n",
       "      <td>0.699494</td>\n",
       "    </tr>\n",
       "    <tr>\n",
       "      <th>instrumentalness</th>\n",
       "      <td>0.19987</td>\n",
       "      <td>0.472374</td>\n",
       "      <td>0.672244</td>\n",
       "    </tr>\n",
       "    <tr>\n",
       "      <th>tempo</th>\n",
       "      <td>-0.750569</td>\n",
       "      <td>120.125</td>\n",
       "      <td>119.374</td>\n",
       "    </tr>\n",
       "    <tr>\n",
       "      <th>key</th>\n",
       "      <td>-1.82023</td>\n",
       "      <td>6.74098</td>\n",
       "      <td>4.92075</td>\n",
       "    </tr>\n",
       "    <tr>\n",
       "      <th>liveness</th>\n",
       "      <td>0.034828</td>\n",
       "      <td>0.117799</td>\n",
       "      <td>0.152627</td>\n",
       "    </tr>\n",
       "    <tr>\n",
       "      <th>loudness</th>\n",
       "      <td>0.506385</td>\n",
       "      <td>-7.79164</td>\n",
       "      <td>-7.28525</td>\n",
       "    </tr>\n",
       "    <tr>\n",
       "      <th>acousticness</th>\n",
       "      <td>-0.0148573</td>\n",
       "      <td>0.18191</td>\n",
       "      <td>0.167052</td>\n",
       "    </tr>\n",
       "    <tr>\n",
       "      <th>danceability</th>\n",
       "      <td>-0.00535384</td>\n",
       "      <td>0.722525</td>\n",
       "      <td>0.717171</td>\n",
       "    </tr>\n",
       "    <tr>\n",
       "      <th>mode</th>\n",
       "      <td>-0.220894</td>\n",
       "      <td>0.69677</td>\n",
       "      <td>0.475875</td>\n",
       "    </tr>\n",
       "    <tr>\n",
       "      <th>speechiness</th>\n",
       "      <td>0.00767977</td>\n",
       "      <td>0.0464536</td>\n",
       "      <td>0.0541334</td>\n",
       "    </tr>\n",
       "    <tr>\n",
       "      <th>time_signature</th>\n",
       "      <td>0.0486063</td>\n",
       "      <td>3.95139</td>\n",
       "      <td>4</td>\n",
       "    </tr>\n",
       "    <tr>\n",
       "      <th>valence</th>\n",
       "      <td>0.0567334</td>\n",
       "      <td>0.438775</td>\n",
       "      <td>0.495509</td>\n",
       "    </tr>\n",
       "  </tbody>\n",
       "</table>\n",
       "</div>"
      ],
      "text/plain": [
       "                  difference   original recommendations\n",
       "energy               0.01381   0.685684        0.699494\n",
       "instrumentalness     0.19987   0.472374        0.672244\n",
       "tempo              -0.750569    120.125         119.374\n",
       "key                 -1.82023    6.74098         4.92075\n",
       "liveness            0.034828   0.117799        0.152627\n",
       "loudness            0.506385   -7.79164        -7.28525\n",
       "acousticness      -0.0148573    0.18191        0.167052\n",
       "danceability     -0.00535384   0.722525        0.717171\n",
       "mode               -0.220894    0.69677        0.475875\n",
       "speechiness       0.00767977  0.0464536       0.0541334\n",
       "time_signature     0.0486063    3.95139               4\n",
       "valence            0.0567334   0.438775        0.495509"
      ]
     },
     "execution_count": 22,
     "metadata": {},
     "output_type": "execute_result"
    }
   ],
   "source": [
    "metrics"
   ]
  },
  {
   "cell_type": "markdown",
   "metadata": {},
   "source": [
    "The difference between the original playlist and the recommendations seems trivial."
   ]
  },
  {
   "cell_type": "code",
   "execution_count": null,
   "metadata": {},
   "outputs": [],
   "source": []
  }
 ],
 "metadata": {
  "kernelspec": {
   "display_name": "Python 3",
   "language": "python",
   "name": "python3"
  },
  "language_info": {
   "codemirror_mode": {
    "name": "ipython",
    "version": 3
   },
   "file_extension": ".py",
   "mimetype": "text/x-python",
   "name": "python",
   "nbconvert_exporter": "python",
   "pygments_lexer": "ipython3",
   "version": "3.7.6"
  }
 },
 "nbformat": 4,
 "nbformat_minor": 4
}
