{
 "cells": [
  {
   "cell_type": "code",
   "execution_count": 1,
   "metadata": {},
   "outputs": [],
   "source": [
    "import requests\n",
    "import json\n",
    "import pandas as pd\n",
    "import numpy as np\n",
    "import re\n",
    "from datetime import datetime, timezone\n",
    "from dateutil.parser import parse\n",
    "from dateutil.relativedelta import relativedelta"
   ]
  },
  {
   "cell_type": "markdown",
   "metadata": {},
   "source": [
    "## ============ Phase 1 ===================================================="
   ]
  },
  {
   "cell_type": "markdown",
   "metadata": {},
   "source": [
    "#### Get a Playlist's Items (song_id and duration)"
   ]
  },
  {
   "cell_type": "code",
   "execution_count": 2,
   "metadata": {},
   "outputs": [],
   "source": [
    "def get_ID(user_id, token, playlist_id, market = 'US'):\n",
    "    tidy = lambda s: s[14:]\n",
    "    base_url = \"https://api.spotify.com/v1/playlists/\"\n",
    "    query = f'{base_url}{playlist_id}/tracks?market={market}'\n",
    "\n",
    "    response = requests.get(query, \n",
    "                   headers={\"Accept\": \"application/json\",\n",
    "                            \"Content-Type\":\"application/json\", \n",
    "                            \"Authorization\":f\"Bearer {token}\"})\n",
    "    json_response = response.json()\n",
    "    return [tidy(x['track']['uri'])for x in json_response['items']], [json_response['items'][i]['track']['duration_ms'] for i in range(len(json_response['items']))]"
   ]
  },
  {
   "cell_type": "markdown",
   "metadata": {},
   "source": [
    "#### Get (audio) information about a song"
   ]
  },
  {
   "cell_type": "code",
   "execution_count": 3,
   "metadata": {},
   "outputs": [],
   "source": [
    "def get_song(user_id, token, song_id, market = 'US'):\n",
    "    \n",
    "    ## get audio features of the song/track\n",
    "    song_url = \"https://api.spotify.com/v1/audio-features/\"\n",
    "    query = f'{song_url}{song_id}'\n",
    "    response = requests.get(query, \n",
    "                   headers={\"Content-Type\":\"application/json\", \n",
    "                            \"Authorization\":f\"Bearer {token}\"})\n",
    "    json_response = response.json()\n",
    "    df_response = pd.json_normalize(json_response)\n",
    "    \n",
    "    ## get album information and the first artist\n",
    "    base_url = \"https://api.spotify.com/v1/tracks/\"\n",
    "    query = f'{base_url}{song_id}?market={market}'\n",
    "    response = requests.get(query, \n",
    "                   headers={\"Accept\": \"application/json\",\n",
    "                            \"Content-Type\":\"application/json\", \n",
    "                            \"Authorization\":f\"Bearer {token}\"})\n",
    "    json_response = response.json()\n",
    "    album_id = json_response['album']['id'] if 'album' in json_response.keys() else None\n",
    "    artist_id = json_response['artists'][0]['id'] if 'artists' in json_response.keys() else None\n",
    "    \n",
    "    ## get genre of the album\n",
    "    base_url = \"https://api.spotify.com/v1/albums/\"\n",
    "    query = f'{base_url}{album_id}?market={market}'\n",
    "    response = requests.get(query, \n",
    "                   headers={\"Accept\": \"application/json\",\n",
    "                            \"Content-Type\":\"application/json\", \n",
    "                            \"Authorization\":f\"Bearer {token}\"})\n",
    "    json_response = response.json()\n",
    "    genre = json_response['genres'] if 'genres' in json_response.keys() else None\n",
    "    \n",
    "    \n",
    "    df_response['artist_id'] = artist_id if artist_id is not None and len(artist_id) >0 else None\n",
    "    df_response['albuma_id'] = album_id if album_id is not None and len(album_id) >0 else None\n",
    "    df_response['genre'] = genre if genre is not None and len(genre) >0 else None\n",
    "\n",
    "    return df_response.drop(['type', 'uri', 'track_href', 'analysis_url'], axis=1).set_index('id')"
   ]
  },
  {
   "cell_type": "markdown",
   "metadata": {},
   "source": [
    "#### Get Recommendations for a song using Spotify API"
   ]
  },
  {
   "cell_type": "code",
   "execution_count": 4,
   "metadata": {},
   "outputs": [],
   "source": [
    "def check(par, par_range):\n",
    "    ''' Check if values are in the feasible range. '''\n",
    "    return(np.clip(par, par_range[0], par_range[1]))\n",
    "\n",
    "def check_whole(kwargs):\n",
    "    ''' Run the above check function to all optional parameters. '''\n",
    "    pars = ['valence', 'speechiness', 'acousticness', 'liveness', 'danceability', 'hahaha']\n",
    "    ranges = {'valence': [0,1], 'speechiness': [0,1], 'acousticness': [0,1], 'liveness': [0,1], 'danceability': [0,1]}\n",
    "    if len(kwargs) == 0:\n",
    "        return(kwargs)\n",
    "    else:\n",
    "        for item in pars:\n",
    "            if np.array([re.match(f\"(.*?)({item})\", x) is not None for x in kwargs.keys()]).any(): \n",
    "                item_min = 'min_' + item\n",
    "                item_max = 'max_' + item\n",
    "                item_target = 'target_' + item\n",
    "                par_range = ranges.get(item)\n",
    "                kwargs[item_target] = check(kwargs.get(item_target), par_range)\n",
    "                kwargs[item_min] = check(kwargs.get(item_min), par_range)\n",
    "                kwargs[item_max] = check(kwargs.get(item_max), par_range)\n",
    "        return(kwargs)\n",
    "    \n",
    "def recommend(song, limit, target_duration_ms, require_percents, optional_percents, **kwargs):\n",
    "    seed_tracks = song.index[0]\n",
    "    \n",
    "    time_mt = require_percents.get('time')\n",
    "    energy_percent = require_percents.get('energy')\n",
    "    instrumentalness_percent = require_percents.get('instrumentalness')\n",
    "    tempo_percent = require_percents.get('tempo')\n",
    "    \n",
    "    min_duration_ms = int(max(target_duration_ms - time_mt * 1000, 0))\n",
    "    max_duration_ms = int(target_duration_ms + time_mt * 1000)\n",
    "    \n",
    "    ## required percents\n",
    "    target_energy = song['energy'][0]\n",
    "    min_energy = check(target_energy * (1 - energy_percent), [0,1])\n",
    "    max_energy = check(target_energy * (1 + energy_percent), [0,1])\n",
    "    target_instrumentalness = song['instrumentalness'][0]\n",
    "    min_instrumentalness = check(target_instrumentalness * (1 - instrumentalness_percent), [0,1])\n",
    "    #max_instrumentalness = check(target_instrumentalness * (1 + instrumentalness_percent), [0,1])\n",
    "    target_tempo = song['tempo'][0]\n",
    "    min_tempo = check(target_tempo * (1 - tempo_percent), [0, np.inf])\n",
    "    max_tempo = check(target_tempo * (1 + tempo_percent), [0, np.inf])\n",
    "\n",
    "    ## default parameters\n",
    "    target_key = song['key'][0]\n",
    "    target_danceability=song['danceability'][0]\n",
    "    target_mode=song['mode'][0]\n",
    "         \n",
    "    ## optional percents\n",
    "    for item in optional_percents: \n",
    "        item_min = 'min_' + item\n",
    "        item_max = 'max_' + item\n",
    "        item_target = 'target_' + item\n",
    "        target = song[item][0]\n",
    "        kwargs[item_target] = target\n",
    "        if item not in ['mode', 'key', 'popularity', 'time_signature']:\n",
    "            kwargs[item_min] = target * (1 - optional_percents.get(item))\n",
    "            kwargs[item_max] = target * (1 + optional_percents.get(item))\n",
    "    kwargs.pop('optional_percents', None)   ## remove `optional_percents` from kwargs\n",
    "    kwargs = check_whole(kwargs)\n",
    "    \n",
    "    endpoint_url = \"https://api.spotify.com/v1/recommendations?\"\n",
    "    query = f'{endpoint_url}limit={limit}&seed_tracks={seed_tracks}'\n",
    "    query += f'&target_duration_ms={target_duration_ms}&min_duration_ms={min_duration_ms}&max_duration_ms={max_duration_ms}'\n",
    "    query += f'&target_energy={target_energy}&min_energy={min_energy}&max_energy={max_energy}'\n",
    "    query += f'&target_instrumentalness={target_instrumentalness}&min_instrumentalness={min_instrumentalness}'\n",
    "    query += f'&target_tempo={target_tempo}&min_tempo={min_tempo}&max_tempo={max_tempo}'\n",
    "    query += f'&target_key={target_key}'\n",
    "    query += f'&target_danceability={target_danceability}'\n",
    "    query += f'&target_mode={target_mode}'\n",
    "    \n",
    "    if song['genre'][0] is not None:\n",
    "        seed_genres = song['genre'][0]\n",
    "        query += f'&seed_genres={seed_genres}'\n",
    "    if song['artist_id'][0] is not None:\n",
    "        seed_artist = song['artist_id'][0]\n",
    "        query += f'&seed_artist={seed_artist}'\n",
    "\n",
    "    if len(kwargs.keys()) > 0:\n",
    "        query += '&'\n",
    "        lst = [str(x[0])+'='+str(x[1]) for x in zip(kwargs.keys(), kwargs.values())]\n",
    "        query += '&'.join(lst) ## add all limits from kwargs\n",
    "    uris = [] \n",
    "    #print(query)\n",
    "    \n",
    "    response = requests.get(query, \n",
    "               headers={\"Content-Type\":\"application/json\", \n",
    "                        \"Authorization\":f\"Bearer {token}\"})\n",
    "    json_response = response.json()\n",
    "    #print('Recommended Songs:')\n",
    "    uris = []\n",
    "    for i,j in enumerate(json_response['tracks']):\n",
    "        uris.append(j['uri'])\n",
    "        #print(f\"{i+1}) \\\"{j['name']}\\\" by {j['artists'][0]['name']}\")\n",
    "    return uris"
   ]
  },
  {
   "cell_type": "markdown",
   "metadata": {},
   "source": [
    "#### Filter recommended songs based on the trend of energy"
   ]
  },
  {
   "cell_type": "code",
   "execution_count": 5,
   "metadata": {},
   "outputs": [],
   "source": [
    "def filter_energy(r, pre_energy, market, trend = None):\n",
    "    ''' filter recommended songs according to the energy trend '''\n",
    "    \n",
    "    if trend is None or pre_energy == 0:\n",
    "        return r[0]\n",
    "    \n",
    "    energys_diff = [get_song(user_id, token, r[i][14:], market)['energy'][0] - pre_energy for i in range(len(r))]\n",
    "    if trend == '+':\n",
    "        if all(np.array(energys_diff) <= 0):\n",
    "            return None\n",
    "        idx = np.argmax( np.array(energys_diff) > 0)\n",
    "    else:\n",
    "        if all(np.array(energys_diff) >= 0):\n",
    "            return None\n",
    "        idx = np.argmax( np.array(energys_diff) < 0)\n",
    "    return(r[idx])"
   ]
  },
  {
   "cell_type": "markdown",
   "metadata": {},
   "source": [
    "#### Create a playlist"
   ]
  },
  {
   "cell_type": "code",
   "execution_count": 6,
   "metadata": {},
   "outputs": [],
   "source": [
    "# create a new playlist to store those recommendations\n",
    "def create_plst(user_id, token, uris, name, description, public = False):\n",
    "    endpoint_url = f\"https://api.spotify.com/v1/users/{user_id}/playlists\"\n",
    "    request_body = json.dumps({\n",
    "        \"name\": name,\n",
    "        \"description\": description,\n",
    "        \"public\": public })\n",
    "    # create an empty new playlist\n",
    "    response = requests.post(url = endpoint_url, data = request_body, headers={\"Content-Type\":\"application/json\", \n",
    "                        \"Authorization\":f\"Bearer {token}\"})\n",
    "    url = response.json()['external_urls']['spotify']\n",
    "    if response.status_code == 201:\n",
    "        print('Playlist {} is successfully created!'.format(name))\n",
    "        \n",
    "    # fill the new playlist with the recommendations\n",
    "    playlist_id = response.json()['id']\n",
    "    endpoint_url = f\"https://api.spotify.com/v1/playlists/{playlist_id}/tracks\"\n",
    "    request_body = json.dumps({ \"uris\" : uris })\n",
    "    response = requests.post(url = endpoint_url, data = request_body, headers={\"Content-Type\":\"application/json\", \n",
    "                        \"Authorization\":f\"Bearer {token}\"})\n",
    "    if response.status_code == 201:\n",
    "        print('Playlist {} is successfully filled with recommendations!'.format(name))\n",
    "        print(f'Your playlist is ready at {url}')"
   ]
  },
  {
   "cell_type": "markdown",
   "metadata": {},
   "source": [
    "#### Create bucket"
   ]
  },
  {
   "cell_type": "code",
   "execution_count": 7,
   "metadata": {},
   "outputs": [],
   "source": [
    "def create_bucket(playlist_id, bucket_lengths = None):\n",
    "    ids, durations = get_ID(user_id, token, playlist_id)\n",
    "    \n",
    "    if bucket_lengths is None: ## default: the whole playlist is a bucket\n",
    "        end_songs = len(durations)-1\n",
    "    elif (type(bucket_lengths) == 'int'): ## buckets with the same length\n",
    "        bucket_lens = [bucket_lengths * 60 * 1000 for i in range(np.sum(durations) // bucket_lengths + 1)]\n",
    "    elif (len(bucket_lengths) == 1): ## buckets with the same length\n",
    "        bucket_lens = [bucket_lengths[0] * 60 * 1000 for i in range(np.sum(durations) // bucket_lengths[0] + 1)]\n",
    "    else:\n",
    "        bucket_lens = [x * 60 * 1000 for x in bucket_lengths]\n",
    "    \n",
    "    bucket = 0\n",
    "    end_songs = [None] * len(bucket_lens)\n",
    "    cur_length = 0\n",
    "    for e, l in enumerate(durations):\n",
    "        if np.abs(cur_length + l - bucket_lens[bucket]) < np.abs(cur_length - bucket_lens[bucket]):\n",
    "            end_songs[bucket] = e\n",
    "            cur_length += l\n",
    "        else:\n",
    "            bucket += 1\n",
    "            if bucket == len(end_songs):\n",
    "                break\n",
    "            end_songs[bucket] = e\n",
    "            cur_length += l - bucket_lens[bucket - 1]\n",
    "         \n",
    "    \n",
    "    start = 0\n",
    "    buckets = []\n",
    "    for i in end_songs:\n",
    "        buckets.append(ids[start:(i+1)])\n",
    "        start = i+1\n",
    "    return(buckets)"
   ]
  },
  {
   "cell_type": "code",
   "execution_count": null,
   "metadata": {},
   "outputs": [],
   "source": []
  },
  {
   "cell_type": "markdown",
   "metadata": {},
   "source": [
    "## ============ Phase 2 ===================================================="
   ]
  },
  {
   "cell_type": "markdown",
   "metadata": {},
   "source": [
    "### Get a user's playlists (Nov 28 updated)"
   ]
  },
  {
   "cell_type": "code",
   "execution_count": 8,
   "metadata": {},
   "outputs": [],
   "source": [
    "def get_plst_ID(user_id, token, market = 'US', added_time = False):\n",
    "    tidy = lambda s: s[17:]\n",
    "    \n",
    "    base_url = \"https://api.spotify.com/v1/users/\"\n",
    "    query = f'{base_url}{user_id}/playlists'\n",
    "\n",
    "    response = requests.get(query, \n",
    "                   headers={\"Accept\": \"application/json\",\n",
    "                            \"Content-Type\":\"application/json\", \n",
    "                            \"Authorization\":f\"Bearer {token}\"})\n",
    "    json_response = response.json()\n",
    "    plst_id = [tidy(x['uri'])for x in json_response['items']]\n",
    "    if not added_time:\n",
    "        return plst_id\n",
    "    else:\n",
    "        base_url = \"https://api.spotify.com/v1/playlists/\"\n",
    "        add = []\n",
    "        for idx in plst_id:\n",
    "            query = f'{base_url}{idx}/tracks?market={market}'\n",
    "            response = requests.get(query, \n",
    "                   headers={\"Accept\": \"application/json\",\n",
    "                            \"Content-Type\":\"application/json\", \n",
    "                            \"Authorization\":f\"Bearer {token}\"})\n",
    "            json_response = response.json()\n",
    "            add.append(json_response['items'][0]['added_at'])\n",
    "        return(plst_id, add)"
   ]
  },
  {
   "cell_type": "markdown",
   "metadata": {},
   "source": [
    "### Get information about a song (Dec 5 updated) "
   ]
  },
  {
   "cell_type": "code",
   "execution_count": 9,
   "metadata": {},
   "outputs": [],
   "source": [
    "def get_song_name(user_id, token, song_id, market = 'US'):\n",
    "    \n",
    "    ## get album information and the first artist\n",
    "    base_url = \"https://api.spotify.com/v1/tracks/\"\n",
    "    query = f'{base_url}{song_id}?market={market}'\n",
    "    response = requests.get(query, \n",
    "                   headers={\"Accept\": \"application/json\",\n",
    "                            \"Content-Type\":\"application/json\", \n",
    "                            \"Authorization\":f\"Bearer {token}\"})\n",
    "    json_response = response.json()\n",
    "    df_response = pd.json_normalize(json_response)\n",
    "    return df_response[['name', 'popularity', 'duration_ms', 'id']].set_index('id')"
   ]
  },
  {
   "cell_type": "markdown",
   "metadata": {},
   "source": [
    "### Get a user's song frequency from playlists (Dec 5 updated)"
   ]
  },
  {
   "cell_type": "code",
   "execution_count": 10,
   "metadata": {},
   "outputs": [],
   "source": [
    "def convert_weight(time_list, half_decay = 1):\n",
    "    ''' Calculate weights.'''\n",
    "    ## I use exponential decay now.\n",
    "    ## the weight decays to 50% every `half_decay` days\n",
    "    today = datetime.now(timezone.utc)\n",
    "    log_weights = np.array([- (today - parse(s)).days - (today - parse(s)).seconds / 86400 for s in time_list])\n",
    "    log_weights -= np.max(log_weights)\n",
    "    return np.exp(log_weights / half_decay * np.log(2))\n",
    "\n",
    "def get_song_freq(user_id, token, market, start_plst, end_plst, max_num = 100, use_time = True, decay_rate = 15):\n",
    "    plst_ids, add = get_plst_ID(user_id, token, market, added_time = True)\n",
    "    plst_ids, add = plst_ids[start_plst:(end_plst+1)], add[start_plst:(end_plst+1)]\n",
    "    if use_time:\n",
    "        weights = convert_weight(add, decay_rate)\n",
    "    else:\n",
    "        weights = [np.exp(-0.5*x) for x in range(len(add))]\n",
    "    ids = [get_ID(user_id, token, playlist, market)[0] for playlist in plst_ids]\n",
    "    song_list = [(s, w) for ls, w in list(zip(ids, weights)) for s in ls]\n",
    "    counts = {}\n",
    "    for s, w in song_list:\n",
    "        counts[s] = counts.get(s, 0) + w\n",
    "    df = pd.DataFrame(sorted(counts.items(), key = lambda x: -x[1]), columns = ['id', 'weighted_freq'])\n",
    "    df = df.set_index('id').iloc[:max_num]\n",
    "    dff = pd.concat([get_song_name(user_id, token, idx, market = 'US') for idx in df.index])\n",
    "    return(pd.merge(df, dff, how = 'left', on = 'id')).reset_index().set_index('name')"
   ]
  },
  {
   "cell_type": "markdown",
   "metadata": {},
   "source": [
    "### Get a user's common songs from playlist history (Dec 5 updated)"
   ]
  },
  {
   "cell_type": "code",
   "execution_count": 11,
   "metadata": {},
   "outputs": [],
   "source": [
    "def count_songs(user_id, token, market):\n",
    "    plst_ids= get_plst_ID(user_id, token, market)\n",
    "    ids = [get_ID(user_id, token, playlist, market)[0] for playlist in plst_ids]\n",
    "    return(len(ids))"
   ]
  },
  {
   "cell_type": "code",
   "execution_count": 12,
   "metadata": {},
   "outputs": [],
   "source": [
    "def common(top, user_id, token, market, **kwargs):\n",
    "    num_songs = count_songs(user_id, token, market)\n",
    "    top = round(num_songs * top)\n",
    "    kwargs.pop('max_num', None)        \n",
    "    freq_df = get_song_freq(user_id, token, market, max_num = top, **kwargs)\n",
    "    return(list(freq_df.iloc[:top].reset_index()['id']))"
   ]
  },
  {
   "cell_type": "markdown",
   "metadata": {},
   "source": [
    "### Generate a similar playlist (Dec 8 updated) \n",
    "\n",
    "**If a common song is in the recommendation candidates, we will use it instead of filtering based on energy.**"
   ]
  },
  {
   "cell_type": "code",
   "execution_count": 13,
   "metadata": {},
   "outputs": [],
   "source": [
    "def get_recommendation_for_a_playlist(user_id, token, name, description, limit, playlist_id=None, songs_id=None, create_pl=False, public=False, quiet=False, **kwargs):\n",
    "    if not quiet:\n",
    "        print(\"playlist\", playlist_id)\n",
    "    \n",
    "    market = kwargs.get(\"market\", 'US')\n",
    "    kwargs[\"market\"] = market\n",
    "    \n",
    "    common_top = kwargs.get(\"common_top\", 0.25) ## default: songs that have a frequency within the top 25% are regarded as common songs \n",
    "    start_plst = kwargs.get(\"start_plst\", 0)\n",
    "    end_plst = kwargs.get(\"end_plst\", 20)\n",
    "    common_songs = ['spotify:track:'+ x for x in common(common_top, user_id, token, market = market, start_plst = start_plst, end_plst = end_plst)]\n",
    "    #print(common_songs) \n",
    "    \n",
    "    percent_args = kwargs.get(\"percent_args\", {})\n",
    "    requires = ['time', 'energy', 'instrumentalness', 'tempo']\n",
    "    require_percents = {}\n",
    "    optional_percents = {}\n",
    "    for item in requires:  ## for required percents, extract them and store in `require_percents`\n",
    "        require_percents[item] = percent_args.get(item, 0.1)\n",
    "    for item in list(set(percent_args) - set(requires)): ## for optional percents, store them in `optional_percents`\n",
    "        optional_percents[item] = percent_args.get(item)\n",
    "    kwargs.pop('percent_args', None)        \n",
    "    if not quiet:\n",
    "        print(\"args:\", kwargs, require_percents, optional_percents)\n",
    "    \n",
    "    def _get_one_recommendation(idx, limit, target_duration_ms, require_percents, optional_percents, **kwargs):\n",
    "        df_response = get_song(user_id, token, idx, market)\n",
    "        r = recommend(df_response, limit, target_duration_ms, require_percents, optional_percents, **kwargs)\n",
    "        if not quiet:\n",
    "            print(f\"For the {j+1}-th song, no recommendations, enlarged the range about duration.\")\n",
    "        new_time_percent = require_percents.get('time')\n",
    "        new_energy_percent = require_percents.get('energy')\n",
    "        new_require_percents = require_percents.copy()\n",
    "        i = 0\n",
    "        while len(r) == 0 and i < 10:\n",
    "            i += 1\n",
    "            new_time_percent += 10\n",
    "            new_energy_percent *= 2\n",
    "            new_require_percents['time'] = new_time_percent\n",
    "            #new_require_percents['energy'] = new_energy_percent\n",
    "            r = recommend(df_response, limit, target_duration_ms, new_require_percents, optional_percents, **kwargs)\n",
    "        if i == 10:\n",
    "            ## right now I keep the original one, we can improve it later\n",
    "            r = ['spotify:track:' + df_response.index[0]]\n",
    "            ## another way is to remove all optional limitations\n",
    "            # r = recommend(df_response, limit, target_duration_ms, require_percents, {}, **kwargs)\n",
    "        return r\n",
    "        \n",
    "    if playlist_id is not None:\n",
    "        ## if playlist_id is specified, songs_id will not be used.\n",
    "        ids, durations = get_ID(user_id, token, playlist_id, market)\n",
    "    elif songs_id is not None:\n",
    "        ids = songs_id\n",
    "        durations = [get_song(user_id, token, ids[j], market)['duration_ms'][0] for j in range(len(ids))]\n",
    "    else:\n",
    "        NameError('Please input either playlist_id or songs_id.')\n",
    "    \n",
    "    common_num = round(kwargs.get(\"common_prop\", 0) * len(ids)) ## default: don't use common song to substitute recommendations\n",
    "    print(common_num)\n",
    "    \n",
    "    uris = []\n",
    "    duration = 0\n",
    "    diff = 0\n",
    "    pre_energy = 0\n",
    "    ene = 0\n",
    "    trend = None\n",
    "    current_common_num = 0\n",
    "    candidate = []\n",
    "    for j in range(len(ids)):\n",
    "        energy = get_song(user_id, token, ids[j], market)['energy'][0] \n",
    "        trend = '+' if energy > pre_energy else '-'\n",
    "        _limit = limit\n",
    "        _r = None\n",
    "        i = 0\n",
    "        while _r is None and i < 10:\n",
    "            ## if no songs satisfy requirements, we get more recommendations from API and then filter\n",
    "            r = _get_one_recommendation(ids[j], _limit, durations[j]-diff, require_percents, optional_percents, **kwargs)    \n",
    "            ######### if a common song exists in the recommendations, we will adopt it, rather than filtering based on energy trend\n",
    "            if len(set.intersection(set(common_songs), set(r))) > 0 and common_num > current_common_num:\n",
    "                _r = [i for i in common_songs if i in r][0]\n",
    "                current_common_num += 1\n",
    "                print('common song', _r[14:], 'is used.')\n",
    "                break\n",
    "            _r = filter_energy(r, ene, market, trend) ## add limitations to filter the recommendations and keep the energy trend\n",
    "            if len(r) < _limit: ## no matter how to increase the limitation on the number of recommendations, result will no change\n",
    "                break\n",
    "            _limit = _limit + 10\n",
    "            i = i+1\n",
    "        candidate.append(r)\n",
    "        if i == 10 or _r is None:\n",
    "            _r = r[0] ## if still no songs satisfy requirements, use the most similar song from Spotify Recommendation API\n",
    "        if not quiet:\n",
    "            print('candidate: ', [x[14:] for x in r])\n",
    "            print('recommendation: ', _r[14:])\n",
    "        uris.append(_r)\n",
    "        dur = get_song(user_id, token, _r[14:], market)['duration_ms'][0] ## duration of the recommended song\n",
    "        duration += dur\n",
    "        diff = duration - sum(durations[:j+1])\n",
    "        ene = get_song(user_id, token, _r[14:], market)['energy'][0] ## energy of the recommended song\n",
    "        pre_energy = energy  ## energy of the j-th song in the playlist\n",
    "\n",
    "    if create_pl:\n",
    "        create_plst(user_id, token, [x for x in uris if x is not None], name, description, public)\n",
    "    \n",
    "    used_common = list(filter(lambda x: x in uris, common_songs))\n",
    "    return(uris, candidate, common_songs, used_common, common_num, current_common_num)"
   ]
  },
  {
   "cell_type": "markdown",
   "metadata": {},
   "source": [
    "### Find place for common songs (Dec 8 updated) "
   ]
  },
  {
   "cell_type": "code",
   "execution_count": 14,
   "metadata": {},
   "outputs": [],
   "source": [
    "def place_common(user_id, token, market, common_songs, num, playlist_id=None, songs_id=None, pars_weight = None):\n",
    "    if playlist_id is not None:\n",
    "        ids, _ = get_ID(user_id, token, playlist_id, market)\n",
    "    elif songs_id is not None:\n",
    "        ids = songs_id\n",
    "    else:\n",
    "        NameError('Please input either playlist_id or songs_id.')\n",
    "        \n",
    "    pars = ['energy', 'duration_ms', 'instrumentalness', 'danceability', 'key', 'loudness', 'mode', 'speechiness', 'acousticness', 'liveness', 'valence', 'tempo', 'time_signature']\n",
    "    if pars_weight is None:\n",
    "        cols = ['energy', 'duration_ms', 'instrumentalness']\n",
    "        weight = [0.5, 0.4, 0.1] \n",
    "    else:\n",
    "        cols = list(filter(lambda x: x in pars, pars_weight.keys()))\n",
    "        weight = [pars_weight[key] for key in cols]\n",
    "        weight = list(np.array(weight) / np.sum(weight))\n",
    "    \n",
    "    ids = [x[14:] for x in songs_id]\n",
    "    common_songs = [x[14:] for x in common_songs]\n",
    "    dff = pd.concat([get_song(user_id, token, idx, market) for idx in common_songs])._get_numeric_data()[cols]\n",
    "    \n",
    "    candidate = {key: (None, np.inf) for key in dff.index}\n",
    "    for i in range(len(ids)):\n",
    "        if dff.shape[0] < 1:\n",
    "            break\n",
    "        idx = ids[i]\n",
    "        info = get_song(user_id, token, idx, market)[cols]\n",
    "        diff = ((dff.sub(info._get_numeric_data().values[0].tolist(), axis='columns').applymap(np.square))*weight).sum(axis = 1).sort_values()\n",
    "        for j in range(diff.shape[0]):\n",
    "            if diff[j] < candidate[diff.index[j]][1]:\n",
    "                candidate[diff.index[j]] = (i, diff[j])\n",
    "    \n",
    "    sorted_candidate = sorted(candidate.items(),key=lambda x: x[1][1])\n",
    "    output = {key: values[0] for (key, values) in sorted_candidate}\n",
    "    return(['spotify:track:' + x for x in list(output.keys())[:num]], list(output.values())[:num])"
   ]
  },
  {
   "cell_type": "markdown",
   "metadata": {},
   "source": [
    "### Meet middle"
   ]
  },
  {
   "cell_type": "code",
   "execution_count": 15,
   "metadata": {},
   "outputs": [],
   "source": [
    "def meet_middle(user_id, token, limit, songs_id, **kwargs):\n",
    "    f_pl, _, _, _, _ = get_recommendation_for_a_playlist(user_id, token, name='', description='', limit=limit, songs_id=songs_id, **kwargs)\n",
    "    b_pl, _, _, _, _  = get_recommendation_for_a_playlist(user_id, token, name='', description='', limit=limit, songs_id=songs_id[::-1], **kwargs)\n",
    "    b_pl = b_pl[::-1]\n",
    "    if f_pl == b_pl or len(f_pl) == 1:\n",
    "        return(f_pl)\n",
    "    else:\n",
    "        middle = len(f_pl) // 2\n",
    "        energys = [get_song(user_id, token, x)['energy'][0]  for x in songs_id]\n",
    "        trends = [1 if energys[i+1] > energys[i] else -1 for i in range(len(energys)-1)]\n",
    "        f_energy = get_song(user_id, token, f_pl[middle-1])['energy'][0] \n",
    "        b_energy = get_song(user_id, token, b_pl[middle])['energy'][0]\n",
    "        trend = trends[middle-1]\n",
    "        if f_pl[middle] == b_pl[middle] or trend * (b_energy - f_energy) > 0:\n",
    "            return(f_pl[:middle] + b_pl[middle:])\n",
    "        else:\n",
    "            offset = 1\n",
    "            finished = None\n",
    "            while trend * (b_energy - f_energy) <= 0 and middle+1+offset < len(b_pl)-1:\n",
    "                f_energy = get_song(user_id, token, f_pl[middle-1+offset])['energy'][0] \n",
    "                b_energy = get_song(user_id, token, b_pl[middle+1+offset])['energy'][0]\n",
    "                trend = trends[middle-1+offset]\n",
    "                if trend * (b_energy - f_energy) > 0:\n",
    "                    return(f_pl[:(middle+1)] + b_pl[(middle+1):])\n",
    "                else:\n",
    "                    offset += 1\n",
    "        if finished is None:\n",
    "            offset = -1\n",
    "            while trend * (b_energy - f_energy) <= 0 and middle-1+offset > 0:\n",
    "                f_energy = get_song(user_id, token, f_pl[middle-1+offset])['energy'][0] \n",
    "                b_energy = get_song(user_id, token, b_pl[middle+1+offset])['energy'][0]\n",
    "                trend = trends[middle-1+offset]\n",
    "                if trend * (b_energy - f_energy) > 0:\n",
    "                    return(f_pl[:(middle+1)] + b_pl[(middle+1):])\n",
    "                else:\n",
    "                    offset += -1\n",
    "        if finished is None:\n",
    "            ### if after searching from the middle to the end and the beginning, no points between \n",
    "            ### these two playlists can be combined, we just use the original one that goes from the beginning\n",
    "            return (f_pl)"
   ]
  },
  {
   "cell_type": "markdown",
   "metadata": {},
   "source": [
    "## Test"
   ]
  },
  {
   "cell_type": "markdown",
   "metadata": {},
   "source": [
    "Note: token should have scope at least \"playlist-modify-private\", you can find get one at the botton GET TOKEN from [here](https://developer.spotify.com/console/get-recommendations/?limit=10&market=ES&seed_artists=4NHQUGzhtTLFvgF5SZesLK&seed_genres=classical%2Ccountry&seed_tracks=0c6xIDDpzE81m2q797ordA&min_acousticness=&max_acousticness=&target_acousticness=&min_danceability=&max_danceability=&target_danceability=&min_duration_ms=&max_duration_ms=&target_duration_ms=&min_energy=&max_energy=&target_energy=&min_instrumentalness=&max_instrumentalness=&target_instrumentalness=&min_key=&max_key=&target_key=&min_liveness=&max_liveness=&target_liveness=&min_loudness=&max_loudness=&target_loudness=&min_mode=&max_mode=&target_mode=&min_popularity=&max_popularity=&target_popularity=&min_speechiness=&max_speechiness=&target_speechiness=&min_tempo=&max_tempo=&target_tempo=&min_time_signature=&max_time_signature=&target_time_signature=&min_valence=&max_valence=&target_valence=).\n",
    "\n",
    "User id can be obtained from [your Spotify profile](https://www.spotify.com/us/account/overview/?utm_source=spotify&utm_medium=menu&utm_campaign=your_account)."
   ]
  },
  {
   "cell_type": "code",
   "execution_count": 16,
   "metadata": {},
   "outputs": [],
   "source": [
    "# settings\n",
    "token = \"BQDssGmKoWVgdj4jUtYCAaBfZ_yumzSaeCnP0M3C4wZg3WyQ2WLY8iyYBk2SyW7w06oysORfMY8iDvXQ4LOS3nMIlBraWx8Wf942Ej-whmnUVynYAuokbF8_CJL39K3oQO88PqO_8iddfcFiMRMPQxskPq3LxiRt9UjRYJW6Yn1Ppdz7TmsZeXl9hpvqUXKfyRQ7HLxWUKNirg\"\n",
    "user_id = \"pbwppse1hilahmk43ls424ao4\"\n",
    "\n",
    "name = 'new method no energy 6/21'   ## name for the new playlist\n",
    "description = 'new method' ## description for the new playlist\n",
    "#f'recommendations based on {re.match(\"(.*?)Recommandation\", name).group(1)}' \n",
    "limit = 10  ## for each song in current playlist, 10 recommendations are generated\n",
    "\n",
    "plst_id = get_plst_ID(user_id, token)  ## get id for each playlist from a user\n",
    "#playlist_id = plst_id[7]    ## set the 2nd playlist to be the target playlist\n",
    "playlist_id = '4N2UHn9HpFc3n93s1gduIM'\n",
    "percent_args = {'time': 15, 'energy': 0.1} #'liveness': 0.05"
   ]
  },
  {
   "cell_type": "code",
   "execution_count": 17,
   "metadata": {
    "scrolled": true
   },
   "outputs": [
    {
     "name": "stdout",
     "output_type": "stream",
     "text": [
      "3\n"
     ]
    }
   ],
   "source": [
    "song_recom, candidate, common_songs, used_common, common_num, current_common_num= get_recommendation_for_a_playlist(user_id, token, name, description, limit, playlist_id, create_pl=False, market='US', \n",
    "                                  percent_args = percent_args, \n",
    "                                  common_top = 0.6, start_plst = 2, end_plst = 10, common_prop = 0.2, quiet = True)"
   ]
  },
  {
   "cell_type": "code",
   "execution_count": 18,
   "metadata": {},
   "outputs": [
    {
     "data": {
      "text/plain": [
       "['spotify:track:7bzks4LGpQUuPKBzJ6iQ7y',\n",
       " 'spotify:track:1qg2GMCuGX0T4VoFI5kOee',\n",
       " 'spotify:track:3PAGiKZQwOwVM3Z80b4UAD',\n",
       " 'spotify:track:4Uw7NtaXY0xJrbR9qiaN4H',\n",
       " 'spotify:track:4GrcbD2aHVUvn0KvvnlKeR',\n",
       " 'spotify:track:6GYD9MwygCfPurS4Dd7uvT',\n",
       " 'spotify:track:7caJcFZTtLzy0ZSol1AXKH',\n",
       " 'spotify:track:1tQnFdcE9VeqLyIHS55ijF',\n",
       " 'spotify:track:0RrVVSeayZOynI2ukmYhpk',\n",
       " 'spotify:track:2xql0pid3EUwW38AsywxhV',\n",
       " 'spotify:track:0Sept02SvvMyFBka1KLcOL',\n",
       " 'spotify:track:4Fknl5coWTUwhBHuABw5lu',\n",
       " 'spotify:track:0tBCr4Xvvc3XyDYd0B4YsS']"
      ]
     },
     "execution_count": 18,
     "metadata": {},
     "output_type": "execute_result"
    }
   ],
   "source": [
    "song_recom"
   ]
  },
  {
   "cell_type": "code",
   "execution_count": 19,
   "metadata": {},
   "outputs": [
    {
     "data": {
      "text/plain": [
       "[['spotify:track:7bzks4LGpQUuPKBzJ6iQ7y'],\n",
       " ['spotify:track:1qg2GMCuGX0T4VoFI5kOee',\n",
       "  'spotify:track:7nBR4Tt431p1MTgv3lVsmX',\n",
       "  'spotify:track:6AQ9EbL5EfYlrIX3s2gVa7',\n",
       "  'spotify:track:1pJ4sLJuth2iKvHzFjU0bZ',\n",
       "  'spotify:track:23hiSG0y0cRBa34mDWLp1y',\n",
       "  'spotify:track:1Tda8qcRED3rn0nUDSY07F',\n",
       "  'spotify:track:26fdI6wu2JzD1IPsRIedQV',\n",
       "  'spotify:track:5ymor3b8Gs82TouTl7z7Yj',\n",
       "  'spotify:track:6OEfLAUzFUe3xVdsXkU5eZ',\n",
       "  'spotify:track:2Uf2oU5DifHnJD7rcQcBpM'],\n",
       " ['spotify:track:3PAGiKZQwOwVM3Z80b4UAD',\n",
       "  'spotify:track:50L4TGtO5U2MktfsHDfXSA'],\n",
       " ['spotify:track:4Uw7NtaXY0xJrbR9qiaN4H'],\n",
       " ['spotify:track:4GrcbD2aHVUvn0KvvnlKeR',\n",
       "  'spotify:track:6JU6B3alhgZNNBTsgfMDAp',\n",
       "  'spotify:track:5860DNiiXsxmcRrZquqNH4'],\n",
       " ['spotify:track:6GYD9MwygCfPurS4Dd7uvT',\n",
       "  'spotify:track:5aoJnOhycrs0NtXomySi3e'],\n",
       " ['spotify:track:7caJcFZTtLzy0ZSol1AXKH',\n",
       "  'spotify:track:5hNeatT8kKThMjqGNi9SZk'],\n",
       " ['spotify:track:1tQnFdcE9VeqLyIHS55ijF',\n",
       "  'spotify:track:4FmvlFR6xsp1VbFZdjhSmR',\n",
       "  'spotify:track:3T0iZASqaz5pz1bbDjROuP'],\n",
       " ['spotify:track:0RrVVSeayZOynI2ukmYhpk'],\n",
       " ['spotify:track:2xql0pid3EUwW38AsywxhV'],\n",
       " ['spotify:track:0Sept02SvvMyFBka1KLcOL'],\n",
       " ['spotify:track:4Fknl5coWTUwhBHuABw5lu'],\n",
       " ['spotify:track:0tBCr4Xvvc3XyDYd0B4YsS']]"
      ]
     },
     "execution_count": 19,
     "metadata": {},
     "output_type": "execute_result"
    }
   ],
   "source": [
    "candidate"
   ]
  },
  {
   "cell_type": "code",
   "execution_count": 20,
   "metadata": {},
   "outputs": [
    {
     "data": {
      "text/plain": [
       "['spotify:track:0ZCRriwMzsMfBXQn2T47SR',\n",
       " 'spotify:track:3ZTRTKx8uqpzqqWOA3JyNN',\n",
       " 'spotify:track:2dnIR38rKEDmwbE2bk589B',\n",
       " 'spotify:track:3FUBJQIMv98S3SNKWiDshn']"
      ]
     },
     "execution_count": 20,
     "metadata": {},
     "output_type": "execute_result"
    }
   ],
   "source": [
    "common_songs"
   ]
  },
  {
   "cell_type": "code",
   "execution_count": 21,
   "metadata": {},
   "outputs": [
    {
     "data": {
      "text/plain": [
       "[]"
      ]
     },
     "execution_count": 21,
     "metadata": {},
     "output_type": "execute_result"
    }
   ],
   "source": [
    "used_common"
   ]
  },
  {
   "cell_type": "code",
   "execution_count": 22,
   "metadata": {},
   "outputs": [
    {
     "data": {
      "text/plain": [
       "0"
      ]
     },
     "execution_count": 22,
     "metadata": {},
     "output_type": "execute_result"
    }
   ],
   "source": [
    "current_common_num"
   ]
  },
  {
   "cell_type": "markdown",
   "metadata": {},
   "source": [
    "### Test for place common songs\n",
    "#### Change some recommendations to common songs"
   ]
  },
  {
   "cell_type": "code",
   "execution_count": 34,
   "metadata": {},
   "outputs": [
    {
     "data": {
      "text/plain": [
       "['spotify:track:0ZCRriwMzsMfBXQn2T47SR',\n",
       " 'spotify:track:3ZTRTKx8uqpzqqWOA3JyNN',\n",
       " 'spotify:track:2dnIR38rKEDmwbE2bk589B',\n",
       " 'spotify:track:3FUBJQIMv98S3SNKWiDshn']"
      ]
     },
     "execution_count": 34,
     "metadata": {},
     "output_type": "execute_result"
    }
   ],
   "source": [
    "common_songs"
   ]
  },
  {
   "cell_type": "code",
   "execution_count": 35,
   "metadata": {},
   "outputs": [],
   "source": [
    "## all possible parameters\n",
    "## ['energy', 'duration_ms', 'instrumentalness', 'danceability', 'key', 'loudness', \n",
    "## 'mode', 'speechiness', 'acousticness', 'liveness', 'valence', 'tempo', 'time_signature']\n",
    "   \n",
    "pars_weight = {'energy': 0.4, 'duration_ms': 0.4, 'danceability': 0.2}"
   ]
  },
  {
   "cell_type": "code",
   "execution_count": 36,
   "metadata": {},
   "outputs": [],
   "source": [
    "songs = [x if x not in common_songs else None for x in song_recom]\n",
    "songs_id = [x for x in songs if x is not None]\n",
    "market = 'US'\n",
    "com, place = place_common(user_id, token, market = market, \n",
    "                          common_songs = list(filter(lambda x: x not in used_common, common_songs)), \n",
    "                          num = common_num - current_common_num, songs_id = songs_id, \n",
    "                          pars_weight = pars_weight)"
   ]
  },
  {
   "cell_type": "code",
   "execution_count": 37,
   "metadata": {},
   "outputs": [
    {
     "data": {
      "text/plain": [
       "(['spotify:track:0ZCRriwMzsMfBXQn2T47SR',\n",
       "  'spotify:track:3FUBJQIMv98S3SNKWiDshn',\n",
       "  'spotify:track:3ZTRTKx8uqpzqqWOA3JyNN'],\n",
       " [8, 10, 6])"
      ]
     },
     "execution_count": 37,
     "metadata": {},
     "output_type": "execute_result"
    }
   ],
   "source": [
    "com, place"
   ]
  },
  {
   "cell_type": "code",
   "execution_count": 38,
   "metadata": {},
   "outputs": [],
   "source": [
    "## replace recommendations with common songs\n",
    "count = 0\n",
    "for i in range(len(songs)):\n",
    "    if songs[i] is not None:\n",
    "        count +=1\n",
    "        for j in range(len(place)):\n",
    "            if count == place[j]:\n",
    "                songs[i] = com[j]\n",
    "    else:\n",
    "        songs[i] = song_recom[i]"
   ]
  },
  {
   "cell_type": "code",
   "execution_count": 39,
   "metadata": {},
   "outputs": [
    {
     "data": {
      "text/plain": [
       "['spotify:track:7bzks4LGpQUuPKBzJ6iQ7y',\n",
       " 'spotify:track:1qg2GMCuGX0T4VoFI5kOee',\n",
       " 'spotify:track:3PAGiKZQwOwVM3Z80b4UAD',\n",
       " 'spotify:track:4Uw7NtaXY0xJrbR9qiaN4H',\n",
       " 'spotify:track:4GrcbD2aHVUvn0KvvnlKeR',\n",
       " 'spotify:track:6GYD9MwygCfPurS4Dd7uvT',\n",
       " 'spotify:track:7caJcFZTtLzy0ZSol1AXKH',\n",
       " 'spotify:track:1tQnFdcE9VeqLyIHS55ijF',\n",
       " 'spotify:track:0RrVVSeayZOynI2ukmYhpk',\n",
       " 'spotify:track:2xql0pid3EUwW38AsywxhV',\n",
       " 'spotify:track:0Sept02SvvMyFBka1KLcOL',\n",
       " 'spotify:track:4Fknl5coWTUwhBHuABw5lu',\n",
       " 'spotify:track:0tBCr4Xvvc3XyDYd0B4YsS']"
      ]
     },
     "execution_count": 39,
     "metadata": {},
     "output_type": "execute_result"
    }
   ],
   "source": [
    "# old\n",
    "song_recom"
   ]
  },
  {
   "cell_type": "code",
   "execution_count": 40,
   "metadata": {},
   "outputs": [
    {
     "data": {
      "text/plain": [
       "['spotify:track:7bzks4LGpQUuPKBzJ6iQ7y',\n",
       " 'spotify:track:1qg2GMCuGX0T4VoFI5kOee',\n",
       " 'spotify:track:3PAGiKZQwOwVM3Z80b4UAD',\n",
       " 'spotify:track:4Uw7NtaXY0xJrbR9qiaN4H',\n",
       " 'spotify:track:4GrcbD2aHVUvn0KvvnlKeR',\n",
       " 'spotify:track:3ZTRTKx8uqpzqqWOA3JyNN',\n",
       " 'spotify:track:7caJcFZTtLzy0ZSol1AXKH',\n",
       " 'spotify:track:0ZCRriwMzsMfBXQn2T47SR',\n",
       " 'spotify:track:0RrVVSeayZOynI2ukmYhpk',\n",
       " 'spotify:track:3FUBJQIMv98S3SNKWiDshn',\n",
       " 'spotify:track:0Sept02SvvMyFBka1KLcOL',\n",
       " 'spotify:track:4Fknl5coWTUwhBHuABw5lu',\n",
       " 'spotify:track:0tBCr4Xvvc3XyDYd0B4YsS']"
      ]
     },
     "execution_count": 40,
     "metadata": {},
     "output_type": "execute_result"
    }
   ],
   "source": [
    "# new\n",
    "songs"
   ]
  },
  {
   "cell_type": "code",
   "execution_count": 41,
   "metadata": {},
   "outputs": [
    {
     "data": {
      "text/plain": [
       "['spotify:track:3ZTRTKx8uqpzqqWOA3JyNN',\n",
       " 'spotify:track:0ZCRriwMzsMfBXQn2T47SR',\n",
       " 'spotify:track:3FUBJQIMv98S3SNKWiDshn']"
      ]
     },
     "execution_count": 41,
     "metadata": {},
     "output_type": "execute_result"
    }
   ],
   "source": [
    "## we can check those common songs in the updated recommendations\n",
    "list(filter(lambda x: x not in song_recom, songs))"
   ]
  },
  {
   "cell_type": "code",
   "execution_count": 30,
   "metadata": {},
   "outputs": [
    {
     "name": "stdout",
     "output_type": "stream",
     "text": [
      "Playlist test for common songs is successfully created!\n",
      "Playlist test for common songs is successfully filled with recommendations!\n",
      "Your playlist is ready at https://open.spotify.com/playlist/0sB10sCofKGpRefQOrjpvZ\n"
     ]
    }
   ],
   "source": [
    "#### if you want to create a playlist with these recommendations, run it.\n",
    "name = 'test for common songs'\n",
    "description = 'with 4 common songs'\n",
    "public = False\n",
    "create_plst(user_id, token, [x for x in songs if x is not None], name, description, public)"
   ]
  },
  {
   "cell_type": "code",
   "execution_count": null,
   "metadata": {},
   "outputs": [],
   "source": []
  },
  {
   "cell_type": "markdown",
   "metadata": {},
   "source": [
    "### Test for song frequency"
   ]
  },
  {
   "cell_type": "code",
   "execution_count": 31,
   "metadata": {},
   "outputs": [],
   "source": [
    "start_plst = 0 ## 0 means start from the most recent one\n",
    "end_plst = 10 ## 10 means end at the 10 recent one\n",
    "## in this case, 11 playlists are used "
   ]
  },
  {
   "cell_type": "markdown",
   "metadata": {},
   "source": [
    "#### Use create time for playlist"
   ]
  },
  {
   "cell_type": "code",
   "execution_count": 32,
   "metadata": {},
   "outputs": [
    {
     "data": {
      "text/html": [
       "<div>\n",
       "<style scoped>\n",
       "    .dataframe tbody tr th:only-of-type {\n",
       "        vertical-align: middle;\n",
       "    }\n",
       "\n",
       "    .dataframe tbody tr th {\n",
       "        vertical-align: top;\n",
       "    }\n",
       "\n",
       "    .dataframe thead th {\n",
       "        text-align: right;\n",
       "    }\n",
       "</style>\n",
       "<table border=\"1\" class=\"dataframe\">\n",
       "  <thead>\n",
       "    <tr style=\"text-align: right;\">\n",
       "      <th></th>\n",
       "      <th>id</th>\n",
       "      <th>weighted_freq</th>\n",
       "      <th>popularity</th>\n",
       "      <th>duration_ms</th>\n",
       "    </tr>\n",
       "    <tr>\n",
       "      <th>name</th>\n",
       "      <th></th>\n",
       "      <th></th>\n",
       "      <th></th>\n",
       "      <th></th>\n",
       "    </tr>\n",
       "  </thead>\n",
       "  <tbody>\n",
       "    <tr>\n",
       "      <th>Playground</th>\n",
       "      <td>7bzks4LGpQUuPKBzJ6iQ7y</td>\n",
       "      <td>1.974410</td>\n",
       "      <td>47</td>\n",
       "      <td>274386</td>\n",
       "    </tr>\n",
       "    <tr>\n",
       "      <th>Empty With You</th>\n",
       "      <td>7caJcFZTtLzy0ZSol1AXKH</td>\n",
       "      <td>1.974410</td>\n",
       "      <td>36</td>\n",
       "      <td>203520</td>\n",
       "    </tr>\n",
       "    <tr>\n",
       "      <th>I Want To Hold Your Hand - From \"Across The Universe\" Soundtrack</th>\n",
       "      <td>4Fknl5coWTUwhBHuABw5lu</td>\n",
       "      <td>1.591010</td>\n",
       "      <td>45</td>\n",
       "      <td>165533</td>\n",
       "    </tr>\n",
       "    <tr>\n",
       "      <th>Underneath</th>\n",
       "      <td>0tBCr4Xvvc3XyDYd0B4YsS</td>\n",
       "      <td>1.591010</td>\n",
       "      <td>40</td>\n",
       "      <td>206883</td>\n",
       "    </tr>\n",
       "    <tr>\n",
       "      <th>I Feel Love</th>\n",
       "      <td>4Uw7NtaXY0xJrbR9qiaN4H</td>\n",
       "      <td>1.367879</td>\n",
       "      <td>37</td>\n",
       "      <td>422400</td>\n",
       "    </tr>\n",
       "    <tr>\n",
       "      <th>Rocket Fuel (feat. De La Soul)</th>\n",
       "      <td>3ZTRTKx8uqpzqqWOA3JyNN</td>\n",
       "      <td>1.217420</td>\n",
       "      <td>56</td>\n",
       "      <td>195666</td>\n",
       "    </tr>\n",
       "    <tr>\n",
       "      <th>Oooh - Original Mix</th>\n",
       "      <td>0ZCRriwMzsMfBXQn2T47SR</td>\n",
       "      <td>1.217420</td>\n",
       "      <td>32</td>\n",
       "      <td>386065</td>\n",
       "    </tr>\n",
       "    <tr>\n",
       "      <th>The Truth that You Leave</th>\n",
       "      <td>3FUBJQIMv98S3SNKWiDshn</td>\n",
       "      <td>1.049787</td>\n",
       "      <td>38</td>\n",
       "      <td>223467</td>\n",
       "    </tr>\n",
       "    <tr>\n",
       "      <th>Love Core</th>\n",
       "      <td>1qg2GMCuGX0T4VoFI5kOee</td>\n",
       "      <td>1.000000</td>\n",
       "      <td>18</td>\n",
       "      <td>416558</td>\n",
       "    </tr>\n",
       "    <tr>\n",
       "      <th>Nikki</th>\n",
       "      <td>3PAGiKZQwOwVM3Z80b4UAD</td>\n",
       "      <td>1.000000</td>\n",
       "      <td>47</td>\n",
       "      <td>331547</td>\n",
       "    </tr>\n",
       "  </tbody>\n",
       "</table>\n",
       "</div>"
      ],
      "text/plain": [
       "                                                                        id  \\\n",
       "name                                                                         \n",
       "Playground                                          7bzks4LGpQUuPKBzJ6iQ7y   \n",
       "Empty With You                                      7caJcFZTtLzy0ZSol1AXKH   \n",
       "I Want To Hold Your Hand - From \"Across The Uni...  4Fknl5coWTUwhBHuABw5lu   \n",
       "Underneath                                          0tBCr4Xvvc3XyDYd0B4YsS   \n",
       "I Feel Love                                         4Uw7NtaXY0xJrbR9qiaN4H   \n",
       "Rocket Fuel (feat. De La Soul)                      3ZTRTKx8uqpzqqWOA3JyNN   \n",
       "Oooh - Original Mix                                 0ZCRriwMzsMfBXQn2T47SR   \n",
       "The Truth that You Leave                            3FUBJQIMv98S3SNKWiDshn   \n",
       "Love Core                                           1qg2GMCuGX0T4VoFI5kOee   \n",
       "Nikki                                               3PAGiKZQwOwVM3Z80b4UAD   \n",
       "\n",
       "                                                    weighted_freq  popularity  \\\n",
       "name                                                                            \n",
       "Playground                                               1.974410          47   \n",
       "Empty With You                                           1.974410          36   \n",
       "I Want To Hold Your Hand - From \"Across The Uni...       1.591010          45   \n",
       "Underneath                                               1.591010          40   \n",
       "I Feel Love                                              1.367879          37   \n",
       "Rocket Fuel (feat. De La Soul)                           1.217420          56   \n",
       "Oooh - Original Mix                                      1.217420          32   \n",
       "The Truth that You Leave                                 1.049787          38   \n",
       "Love Core                                                1.000000          18   \n",
       "Nikki                                                    1.000000          47   \n",
       "\n",
       "                                                    duration_ms  \n",
       "name                                                             \n",
       "Playground                                               274386  \n",
       "Empty With You                                           203520  \n",
       "I Want To Hold Your Hand - From \"Across The Uni...       165533  \n",
       "Underneath                                               206883  \n",
       "I Feel Love                                              422400  \n",
       "Rocket Fuel (feat. De La Soul)                           195666  \n",
       "Oooh - Original Mix                                      386065  \n",
       "The Truth that You Leave                                 223467  \n",
       "Love Core                                                416558  \n",
       "Nikki                                                    331547  "
      ]
     },
     "execution_count": 32,
     "metadata": {},
     "output_type": "execute_result"
    }
   ],
   "source": [
    "df = get_song_freq(user_id, token, market = 'US', start_plst = 0, end_plst = 20, use_time = False)\n",
    "df.head(10)"
   ]
  },
  {
   "cell_type": "markdown",
   "metadata": {},
   "source": [
    "#### Don't use create time for playlist"
   ]
  },
  {
   "cell_type": "code",
   "execution_count": 33,
   "metadata": {},
   "outputs": [
    {
     "data": {
      "text/html": [
       "<div>\n",
       "<style scoped>\n",
       "    .dataframe tbody tr th:only-of-type {\n",
       "        vertical-align: middle;\n",
       "    }\n",
       "\n",
       "    .dataframe tbody tr th {\n",
       "        vertical-align: top;\n",
       "    }\n",
       "\n",
       "    .dataframe thead th {\n",
       "        text-align: right;\n",
       "    }\n",
       "</style>\n",
       "<table border=\"1\" class=\"dataframe\">\n",
       "  <thead>\n",
       "    <tr style=\"text-align: right;\">\n",
       "      <th></th>\n",
       "      <th>id</th>\n",
       "      <th>weighted_freq</th>\n",
       "      <th>popularity</th>\n",
       "      <th>duration_ms</th>\n",
       "    </tr>\n",
       "    <tr>\n",
       "      <th>name</th>\n",
       "      <th></th>\n",
       "      <th></th>\n",
       "      <th></th>\n",
       "      <th></th>\n",
       "    </tr>\n",
       "  </thead>\n",
       "  <tbody>\n",
       "    <tr>\n",
       "      <th>Playground</th>\n",
       "      <td>7bzks4LGpQUuPKBzJ6iQ7y</td>\n",
       "      <td>1.611422</td>\n",
       "      <td>47</td>\n",
       "      <td>274386</td>\n",
       "    </tr>\n",
       "    <tr>\n",
       "      <th>Empty With You</th>\n",
       "      <td>7caJcFZTtLzy0ZSol1AXKH</td>\n",
       "      <td>1.611422</td>\n",
       "      <td>36</td>\n",
       "      <td>203520</td>\n",
       "    </tr>\n",
       "    <tr>\n",
       "      <th>I Want To Hold Your Hand - From \"Across The Universe\" Soundtrack</th>\n",
       "      <td>4Fknl5coWTUwhBHuABw5lu</td>\n",
       "      <td>1.249484</td>\n",
       "      <td>45</td>\n",
       "      <td>165533</td>\n",
       "    </tr>\n",
       "    <tr>\n",
       "      <th>Underneath</th>\n",
       "      <td>0tBCr4Xvvc3XyDYd0B4YsS</td>\n",
       "      <td>1.249484</td>\n",
       "      <td>40</td>\n",
       "      <td>206883</td>\n",
       "    </tr>\n",
       "    <tr>\n",
       "      <th>I Feel Love</th>\n",
       "      <td>4Uw7NtaXY0xJrbR9qiaN4H</td>\n",
       "      <td>1.249146</td>\n",
       "      <td>37</td>\n",
       "      <td>422400</td>\n",
       "    </tr>\n",
       "    <tr>\n",
       "      <th>Rocket Fuel (feat. De La Soul)</th>\n",
       "      <td>3ZTRTKx8uqpzqqWOA3JyNN</td>\n",
       "      <td>1.131339</td>\n",
       "      <td>56</td>\n",
       "      <td>195666</td>\n",
       "    </tr>\n",
       "    <tr>\n",
       "      <th>Oooh - Original Mix</th>\n",
       "      <td>0ZCRriwMzsMfBXQn2T47SR</td>\n",
       "      <td>1.131339</td>\n",
       "      <td>32</td>\n",
       "      <td>386065</td>\n",
       "    </tr>\n",
       "    <tr>\n",
       "      <th>The Truth that You Leave</th>\n",
       "      <td>3FUBJQIMv98S3SNKWiDshn</td>\n",
       "      <td>1.090227</td>\n",
       "      <td>38</td>\n",
       "      <td>223467</td>\n",
       "    </tr>\n",
       "    <tr>\n",
       "      <th>Love Core</th>\n",
       "      <td>1qg2GMCuGX0T4VoFI5kOee</td>\n",
       "      <td>1.000000</td>\n",
       "      <td>18</td>\n",
       "      <td>416558</td>\n",
       "    </tr>\n",
       "    <tr>\n",
       "      <th>Nikki</th>\n",
       "      <td>3PAGiKZQwOwVM3Z80b4UAD</td>\n",
       "      <td>1.000000</td>\n",
       "      <td>47</td>\n",
       "      <td>331547</td>\n",
       "    </tr>\n",
       "  </tbody>\n",
       "</table>\n",
       "</div>"
      ],
      "text/plain": [
       "                                                                        id  \\\n",
       "name                                                                         \n",
       "Playground                                          7bzks4LGpQUuPKBzJ6iQ7y   \n",
       "Empty With You                                      7caJcFZTtLzy0ZSol1AXKH   \n",
       "I Want To Hold Your Hand - From \"Across The Uni...  4Fknl5coWTUwhBHuABw5lu   \n",
       "Underneath                                          0tBCr4Xvvc3XyDYd0B4YsS   \n",
       "I Feel Love                                         4Uw7NtaXY0xJrbR9qiaN4H   \n",
       "Rocket Fuel (feat. De La Soul)                      3ZTRTKx8uqpzqqWOA3JyNN   \n",
       "Oooh - Original Mix                                 0ZCRriwMzsMfBXQn2T47SR   \n",
       "The Truth that You Leave                            3FUBJQIMv98S3SNKWiDshn   \n",
       "Love Core                                           1qg2GMCuGX0T4VoFI5kOee   \n",
       "Nikki                                               3PAGiKZQwOwVM3Z80b4UAD   \n",
       "\n",
       "                                                    weighted_freq  popularity  \\\n",
       "name                                                                            \n",
       "Playground                                               1.611422          47   \n",
       "Empty With You                                           1.611422          36   \n",
       "I Want To Hold Your Hand - From \"Across The Uni...       1.249484          45   \n",
       "Underneath                                               1.249484          40   \n",
       "I Feel Love                                              1.249146          37   \n",
       "Rocket Fuel (feat. De La Soul)                           1.131339          56   \n",
       "Oooh - Original Mix                                      1.131339          32   \n",
       "The Truth that You Leave                                 1.090227          38   \n",
       "Love Core                                                1.000000          18   \n",
       "Nikki                                                    1.000000          47   \n",
       "\n",
       "                                                    duration_ms  \n",
       "name                                                             \n",
       "Playground                                               274386  \n",
       "Empty With You                                           203520  \n",
       "I Want To Hold Your Hand - From \"Across The Uni...       165533  \n",
       "Underneath                                               206883  \n",
       "I Feel Love                                              422400  \n",
       "Rocket Fuel (feat. De La Soul)                           195666  \n",
       "Oooh - Original Mix                                      386065  \n",
       "The Truth that You Leave                                 223467  \n",
       "Love Core                                                416558  \n",
       "Nikki                                                    331547  "
      ]
     },
     "execution_count": 33,
     "metadata": {},
     "output_type": "execute_result"
    }
   ],
   "source": [
    "df1 = get_song_freq(user_id, token, market = 'US', start_plst = 0, end_plst = 20, use_time = True, decay_rate = 15)\n",
    "df1.head(10)"
   ]
  }
 ],
 "metadata": {
  "kernelspec": {
   "display_name": "Python 3",
   "language": "python",
   "name": "python3"
  },
  "language_info": {
   "codemirror_mode": {
    "name": "ipython",
    "version": 3
   },
   "file_extension": ".py",
   "mimetype": "text/x-python",
   "name": "python",
   "nbconvert_exporter": "python",
   "pygments_lexer": "ipython3",
   "version": "3.7.6"
  }
 },
 "nbformat": 4,
 "nbformat_minor": 4
}
