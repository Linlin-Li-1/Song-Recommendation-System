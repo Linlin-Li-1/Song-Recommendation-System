{
 "cells": [
  {
   "cell_type": "code",
   "execution_count": 1,
   "metadata": {},
   "outputs": [],
   "source": [
    "import requests\n",
    "import json\n",
    "import pandas as pd\n",
    "import numpy as np"
   ]
  },
  {
   "cell_type": "markdown",
   "metadata": {},
   "source": [
    "#### Create a playlist"
   ]
  },
  {
   "cell_type": "code",
   "execution_count": 2,
   "metadata": {},
   "outputs": [],
   "source": [
    "# create a new playlist to store those recommendations\n",
    "def create_plst(user_id, token, uris, name, description, public = False):\n",
    "    endpoint_url = f\"https://api.spotify.com/v1/users/{user_id}/playlists\"\n",
    "    request_body = json.dumps({\n",
    "        \"name\": name,\n",
    "        \"description\": description,\n",
    "        \"public\": public })\n",
    "    # create an empty new playlist\n",
    "    response = requests.post(url = endpoint_url, data = request_body, headers={\"Content-Type\":\"application/json\", \n",
    "                        \"Authorization\":f\"Bearer {token}\"})\n",
    "    url = response.json()['external_urls']['spotify']\n",
    "    if response.status_code == 201:\n",
    "        print('Playlist {} is successfully created!'.format(name))\n",
    "        \n",
    "    # fill the new playlist with the recommendations\n",
    "    playlist_id = response.json()['id']\n",
    "    endpoint_url = f\"https://api.spotify.com/v1/playlists/{playlist_id}/tracks\"\n",
    "    request_body = json.dumps({ \"uris\" : uris })\n",
    "    response = requests.post(url = endpoint_url, data = request_body, headers={\"Content-Type\":\"application/json\", \n",
    "                        \"Authorization\":f\"Bearer {token}\"})\n",
    "    if response.status_code == 201:\n",
    "        print('Playlist {} is successfully filled with recommendations!'.format(name))\n",
    "        print(f'Your playlist is ready at {url}')"
   ]
  },
  {
   "cell_type": "markdown",
   "metadata": {},
   "source": [
    "### Get a user's recently played songs\n",
    "- `limit`: The maximum number of items to return. Default: `20`. Minimum: `1`. Maximum: `50`.\n",
    "- `after`: A Unix timestamp in milliseconds. Returns all items after (but not including) this cursor position. If `after` is specified, `before` must not be specified.\n",
    "- `before`: A Unix timestamp in milliseconds. Returns all items before (but not including) this cursor position. If `before` is specified, `after` must not be specified."
   ]
  },
  {
   "cell_type": "code",
   "execution_count": 3,
   "metadata": {},
   "outputs": [],
   "source": [
    "def get_recent_songs(user_id, token, **kwargs):\n",
    "    query = \"https://api.spotify.com/v1/me/player/recently-played\"\n",
    "    \n",
    "    if len(kwargs.keys()) > 0:\n",
    "        query += '?'\n",
    "        lst = [str(x[0]) + '=' + str(x[1]) for x in zip(kwargs.keys(), kwargs.values())]\n",
    "        query += '&'.join(lst) ## add all parameters from kwargs \n",
    "    #print(query)\n",
    "\n",
    "    response = requests.get(query, \n",
    "                   headers={\"Accept\": \"application/json\",\n",
    "                            \"Content-Type\":\"application/json\", \n",
    "                            \"Authorization\":f\"Bearer {token}\"})\n",
    "    json_response = response.json()\n",
    "    print(\"status:\", response.status_code)\n",
    "    song_ids = [json_response['items'][i]['track']['id'] for i in range(len(json_response['items']))]\n",
    "    return song_ids"
   ]
  },
  {
   "cell_type": "markdown",
   "metadata": {},
   "source": [
    "### Get a User's Top Artists and Tracks\n",
    "- `time_range`: Over what time frame the affinities are computed. Valid values: `long_term` (calculated from several years of data and including all new data as it becomes available), `medium_term` (approximately last 6 months), `short_term` (approximately last 4 weeks). Default: `medium_term`\n",
    "- `limit`: The maximum number of items to return. Default: `20`. Minimum: `1`. Maximum: `50`.\n",
    "- `offset`: The index of the first entity to return. Default: `0` (i.e., the first track). Use with limit to get the next set of entities.\n",
    "\n",
    "**Note: songs that have been played for once will not be considered as a top song.**"
   ]
  },
  {
   "cell_type": "code",
   "execution_count": 4,
   "metadata": {},
   "outputs": [],
   "source": [
    "def get_top_songs(user_id, token, **kwargs):\n",
    "    query = \"https://api.spotify.com/v1/me/top/tracks?\"\n",
    "    \n",
    "    if len(kwargs.keys()) > 0:\n",
    "        lst = [str(x[0]) + '=' + str(x[1]) for x in zip(kwargs.keys(), kwargs.values())]\n",
    "        query += '&'.join(lst) ## add all parameters from kwargs \n",
    "    #print(query)\n",
    "\n",
    "    response = requests.get(query, \n",
    "                   headers={\"Accept\": \"application/json\",\n",
    "                            \"Content-Type\":\"application/json\", \n",
    "                            \"Authorization\":f\"Bearer {token}\"})\n",
    "    json_response = response.json()\n",
    "    print(\"status:\", response.status_code)\n",
    "    song_ids = [json_response['items'][i]['id'] for i in range(len(json_response['items']))]\n",
    "    return song_ids"
   ]
  },
  {
   "cell_type": "markdown",
   "metadata": {},
   "source": [
    "### Get information about a song"
   ]
  },
  {
   "cell_type": "markdown",
   "metadata": {},
   "source": [
    "- `market`: The market you’d like to request."
   ]
  },
  {
   "cell_type": "code",
   "execution_count": 5,
   "metadata": {},
   "outputs": [],
   "source": [
    "def get_song(user_id, token, song_id, market):\n",
    "    \n",
    "    ## get audio features of the song/track\n",
    "    song_url = \"https://api.spotify.com/v1/audio-features/\"\n",
    "    query = f'{song_url}{song_id}'\n",
    "    success = False\n",
    "    while not success:\n",
    "        try:\n",
    "            response = requests.get(query, \n",
    "                           headers={\"Content-Type\":\"application/json\", \n",
    "                                    \"Authorization\":f\"Bearer {token}\"})\n",
    "            json_response = response.json()\n",
    "            df_response = pd.json_normalize(json_response)\n",
    "            success = True\n",
    "        except Exception as e:\n",
    "            pass\n",
    "            \n",
    "    ## get album information and the first artist\n",
    "    base_url = \"https://api.spotify.com/v1/tracks/\"\n",
    "    query = f'{base_url}{song_id}?market={market}'\n",
    "    success = False\n",
    "    while not success:\n",
    "        try:\n",
    "            response = requests.get(query, \n",
    "                           headers={\"Accept\": \"application/json\",\n",
    "                                    \"Content-Type\":\"application/json\", \n",
    "                                    \"Authorization\":f\"Bearer {token}\"})\n",
    "            json_response = response.json()\n",
    "            album_id = json_response['album']['id'] if 'album' in json_response.keys() else None\n",
    "            artist_id = json_response['artists'][0]['id'] if 'artists' in json_response.keys() else None\n",
    "            success = True\n",
    "        except Exception as e:\n",
    "            pass\n",
    "            \n",
    "    if 'genre' in df_response.columns and df_response['genre'] is not None and len(df_response['genre']) > 0:\n",
    "        return df_response.drop(['type', 'uri', 'track_href', 'analysis_url'], axis=1).set_index('id')\n",
    "    else:            \n",
    "        ## get genre of the album\n",
    "        base_url = \"https://api.spotify.com/v1/albums/\"\n",
    "        query = f'{base_url}{album_id}?market={market}'\n",
    "        success = False\n",
    "        while not success:\n",
    "            try:\n",
    "                response = requests.get(query, \n",
    "                               headers={\"Accept\": \"application/json\",\n",
    "                                        \"Content-Type\":\"application/json\", \n",
    "                                        \"Authorization\":f\"Bearer {token}\"})\n",
    "                json_response = response.json()\n",
    "                genre = json_response['genres'] if 'genres' in json_response.keys() else None\n",
    "                success = True\n",
    "            except Exception as e:\n",
    "                pass\n",
    "\n",
    "        if genre is None or len(genre) < 1:\n",
    "            ## get genre of the artist\n",
    "            base_url = \"https://api.spotify.com/v1/artists/\"\n",
    "            query = f'{base_url}{artist_id}'\n",
    "            success = False\n",
    "            while not success:\n",
    "                try:\n",
    "                    response = requests.get(query, \n",
    "                                   headers={\"Accept\": \"application/json\",\n",
    "                                            \"Content-Type\":\"application/json\", \n",
    "                                            \"Authorization\":f\"Bearer {token}\"})\n",
    "                    json_response = response.json()\n",
    "                    genre = json_response['genres'] if 'genres' in json_response.keys() else None\n",
    "                    success = True\n",
    "                except Exception as e:\n",
    "                    pass\n",
    "\n",
    "    df_response['artist_id'] = artist_id if artist_id is not None and len(artist_id) >0 else None\n",
    "    df_response['albuma_id'] = album_id if album_id is not None and len(album_id) >0 else None\n",
    "    df_response['genre'] = [genre] if genre is not None and len(genre) > 0 else None\n",
    "    try:\n",
    "        return df_response.drop(['type', 'uri', 'track_href', 'analysis_url'], axis=1).set_index('id')\n",
    "    except Exception:\n",
    "        print(\"Cannot find features about this song: \", song_id)"
   ]
  },
  {
   "cell_type": "markdown",
   "metadata": {},
   "source": [
    "## Generate a target playlist"
   ]
  },
  {
   "cell_type": "markdown",
   "metadata": {},
   "source": [
    "- `workout_plan`: Workout plan. For example, `workout_plan=[(0, 0.2), (8, 0.9), (20, 0.4)]` means that in the first 8 minutes, to increase energy from 0.2 to 0.9 and then decrease energy to 0.4 in the next 12 minutes.\n",
    "- `history_args`: Parameters used to extract recently played songs. For example, `history_args = {'limit': 15, 'after': 28885117}`.\n",
    "- `start_song`: The first song in the target playlist. You can input the id of a song.\n",
    "- `end_song`: The last song in the target playlist. You can input the id of a song.\n",
    "- `pars_weight`: When calculating the difference between songs, we use a weighted average of the difference. \n",
    "- `genre`: If it is not None, we will filter songs based on genre.\n",
    "- `recently`: If it is True, we will use recently played songs; otherwise, we will use top songs.\n",
    "\n",
    "**Note 1. if `recently=True`, `history_args` can accept \"limit\", \"after\" (or \"before\"); otherwise, `history_args` can accept \"limit\", \"time_range\", \"offset\".** \n",
    "\n",
    "**Note 2. The required scopes of token is different for \"top\" and \"recently played\" songs.**"
   ]
  },
  {
   "cell_type": "code",
   "execution_count": 6,
   "metadata": {},
   "outputs": [],
   "source": [
    "def generate_target(user_id, token, market, workout_plan, history_args = {}, start_song = None, end_song = None,\n",
    "                    pars_weight = {'energy': 0.6, 'duration_ms': 0.4},\n",
    "                    genre = None, recently = True):\n",
    "    \n",
    "    convert = lambda x: 60 * 1000 * x ## convert to ms\n",
    "    reconvert = lambda x: x / 60 / 1000 ## convert to minute\n",
    "    intersection = lambda lst1, lst2: [value for value in lst1 if value in lst2]\n",
    "    \n",
    "    def get_songs(my_offset):\n",
    "        ## Note: for recently played songs, it cannot iterate to get more songs right now, it can be improved later.\n",
    "        if recently:\n",
    "            song_ids = get_recent_songs(user_id, token, **history_args)\n",
    "        else:\n",
    "            offset = max(my_offset, history_args.get('offset', 0))\n",
    "            history_args['offset'] = offset\n",
    "            song_ids = get_top_songs(user_id, token, **history_args)\n",
    "        if len(song_ids) > 0:\n",
    "            song_ids = set(song_ids) ## remove duplicate songs\n",
    "            song_df = pd.concat([get_song(user_id, token, id, market) for id in song_ids])\n",
    "            return song_df\n",
    "        else:\n",
    "            return None\n",
    "    \n",
    "    def filter_genre(song_df):\n",
    "        if genre is not None:\n",
    "            i = 0\n",
    "            while i < song_df.shape[0]:\n",
    "                if song_df.genre[i] is None or len(intersection(genre, song_df.genre[i])) < 1:\n",
    "                    song_df = song_df.drop(index = song_df.index[i], axis = 0)\n",
    "                else:\n",
    "                    i += 1\n",
    "        return song_df[pars_weight.keys()]\n",
    "    \n",
    "    my_offset = history_args.get('offset', 0)\n",
    "    song_df = get_songs(my_offset)\n",
    "    if song_df is None:\n",
    "        print(\" There is no avaliable top songs, please change `history_args`.\")\n",
    "    else:\n",
    "        song_df = filter_genre(song_df)\n",
    "    while song_df.duration_ms.sum() / 60000 < workout_plan[-1][0]:\n",
    "        ## check total duration, if the sum of the duration of songs is smaller than the duration of the work out plan, \n",
    "        ## get more songs\n",
    "        my_offset += history_args.get('limit', 20)\n",
    "        new_song = get_songs(my_offset)\n",
    "        if new_song is None:\n",
    "            break\n",
    "        else:\n",
    "            new_song = filter_genre(new_song)\n",
    "            song_df = pd.concat([song_df, new_song])\n",
    "    ###############\n",
    "    ## remove duplicates\n",
    "    #if workout_plan[0][1] == 'none':\n",
    "    #    workout_plan = [workout_plan[i] for i in range(1, len(workout_plan)) \n",
    "    #                    if workout_plan[i][1] != workout_plan[i-1][1] and workout_plan[i][1] != 'none']\n",
    "    #else:\n",
    "    #    workout_plan = [workout_plan[0]] + [workout_plan[i] for i in range(1, len(workout_plan)) \n",
    "    #                       if workout_plan[i][1] != workout_plan[i-1][1] and workout_plan[i][1] != 'none']\n",
    "\n",
    "    if song_df.shape[0] < 2:\n",
    "        print(\" There are no enough top songs, please change `history_args`.\")\n",
    "    else:\n",
    "        songs = []\n",
    "        total_durations = 0\n",
    "        \n",
    "        if isinstance(start_song, str) and start_song in song_df.index:\n",
    "            song_df = song_df.drop(index = start_song, axis = 0)\n",
    "        elif start_song is None:\n",
    "            start_song = song_df.index[np.argmin((song_df['energy'] - workout_plan[0][1]).apply(abs))]\n",
    "            song_df = song_df.drop(index = start_song, axis = 0)\n",
    "        \n",
    "        if isinstance(end_song, str) and end_song in song_df.index:\n",
    "            song_df = song_df.drop(index = end_song, axis = 0)  \n",
    "        elif end_song is None:\n",
    "            end_song = song_df.index[np.argmin((song_df['energy'] - workout_plan[-1][1]).apply(abs))]\n",
    "            song_df = song_df.drop(index = end_song, axis = 0)\n",
    "\n",
    "        total_durations += get_song(user_id, token, start_song, market)['duration_ms'][0]\n",
    "        songs.append(start_song)\n",
    "        current_energy = get_song(user_id, token, start_song, market)['energy'][0]\n",
    "\n",
    "        print('Start!')\n",
    "        for i in range(1, len(workout_plan)):\n",
    "            next_position = convert(workout_plan[i][0])\n",
    "            if i == len(workout_plan)-1:\n",
    "                next_position = next_position - get_song(user_id, token, end_song, market)['duration_ms'][0]\n",
    "            next_energy = workout_plan[i][1]\n",
    "            trend = '+' if next_energy - current_energy > 0 else '-'\n",
    "            \n",
    "            while total_durations < next_position:\n",
    "                df = song_df[song_df.energy > current_energy] if trend == '+' else song_df[song_df.energy < current_energy]\n",
    "                if df.shape[0] < 1:\n",
    "                    break\n",
    "                if any(next_position - total_durations >= df.duration_ms):\n",
    "                    energy_weights = [0.5, 0.5]\n",
    "                else:\n",
    "                    energy_weights = [0.2, 0.8]\n",
    "\n",
    "                energy_weights = np.array(energy_weights) * pars_weight['energy']\n",
    "                weight = list(energy_weights) + [pars_weight['duration_ms']]\n",
    "                diff_current = df['energy'] - current_energy\n",
    "                diff_next = df['energy'] - next_energy\n",
    "                diff_duration = reconvert(df['duration_ms'] - (next_position - total_durations))\n",
    "                diff = ((pd.DataFrame(np.c_[np.array(diff_current), np.array(diff_next), np.array(diff_duration)], index = df.index).apply(abs))*weight).sum(axis = 1).sort_values()\n",
    "                song_id = diff.index[0]\n",
    "                total_durations += get_song(user_id, token, song_id, market)['duration_ms'][0]\n",
    "                songs.append(song_id)\n",
    "                print('Add song:', song_id, total_durations/60000)\n",
    "                current_energy = get_song(user_id, token, song_id, market)['energy'][0]\n",
    "                song_df = song_df.drop(index = song_id, axis = 0)\n",
    "        \n",
    "        durations_with_last = total_durations+get_song(user_id, token, end_song, market)['duration_ms'][0]\n",
    "        durations_without_last = durations_with_last - get_song(user_id, token, song_id, market)['duration_ms'][0]\n",
    "        if abs(durations_without_last-convert(workout_plan[i][0])) < abs(durations_with_last-convert(workout_plan[i][0])):\n",
    "            songs.pop(-1)\n",
    "        songs.append(end_song)\n",
    "        return songs"
   ]
  },
  {
   "cell_type": "markdown",
   "metadata": {},
   "source": [
    "# Test"
   ]
  },
  {
   "cell_type": "code",
   "execution_count": 7,
   "metadata": {},
   "outputs": [],
   "source": [
    "# settings\n",
    "user_id = \"pbwppse1hilahmk43ls424ao4\""
   ]
  },
  {
   "cell_type": "markdown",
   "metadata": {},
   "source": [
    "#### Test recently played songs without genre"
   ]
  },
  {
   "cell_type": "code",
   "execution_count": 8,
   "metadata": {},
   "outputs": [],
   "source": [
    "token = \"BQBgDH0lyUfwMm0Sfxsrn_CCwCA_XPQejNQ3czSKUT1OGl8xkFkYC6o3LIWyRrvAIy3IOdojD1gJHFCaj8tZ8E03lCGmxRg78FikKVDq99x_DQQglRmVp9zYWhcCsedqsZphkUc9AxZGVEQFeNDLs8-kb0EUdGo5FQBCb6dWChm6h4l9ThBAm6sfLwSkvAielbT5v5ax-YUJPnSI8TTZzLJ4DwY470Cgjv3hhMAjm2uR-BWbw1xmuQ\""
   ]
  },
  {
   "cell_type": "code",
   "execution_count": 9,
   "metadata": {},
   "outputs": [],
   "source": [
    "market = 'US'\n",
    "workout_plan = [(0, 0.2), (8, 0.9), (20, 0.4), (28, 0.7)]\n",
    "pars_weight = {'energy': 0.8, 'duration_ms': 0.2}\n",
    "\n",
    "history_args = {'limit': 15, 'after': 28885117} ## {} means using default values"
   ]
  },
  {
   "cell_type": "code",
   "execution_count": 10,
   "metadata": {},
   "outputs": [
    {
     "name": "stdout",
     "output_type": "stream",
     "text": [
      "status: 200\n",
      "Start!\n",
      "Add song: 7dF4sXP1ISIharu35gQ86k 7.9478\n",
      "Add song: 7caJcFZTtLzy0ZSol1AXKH 11.3398\n",
      "Add song: 7nBR4Tt431p1MTgv3lVsmX 18.165766666666666\n",
      "Add song: 6n0E5CPhtGPLW1544OlSTg 23.057316666666665\n",
      "Add song: 6Jk7mNRofCpHStChx1EYOj 28.040866666666666\n"
     ]
    },
    {
     "data": {
      "text/plain": [
       "['4MvbRbrOEsJgdYRGNGBjTE',\n",
       " '7dF4sXP1ISIharu35gQ86k',\n",
       " '7caJcFZTtLzy0ZSol1AXKH',\n",
       " '7nBR4Tt431p1MTgv3lVsmX',\n",
       " '6n0E5CPhtGPLW1544OlSTg',\n",
       " '7bzks4LGpQUuPKBzJ6iQ7y']"
      ]
     },
     "execution_count": 10,
     "metadata": {},
     "output_type": "execute_result"
    }
   ],
   "source": [
    "songs = generate_target(user_id, token, market, workout_plan, history_args, pars_weight = pars_weight, recently = True)\n",
    "songs"
   ]
  },
  {
   "cell_type": "markdown",
   "metadata": {},
   "source": [
    "See the duration for each song and the total duration"
   ]
  },
  {
   "cell_type": "code",
   "execution_count": 11,
   "metadata": {},
   "outputs": [
    {
     "data": {
      "text/plain": [
       "(id\n",
       " 4MvbRbrOEsJgdYRGNGBjTE    3.382733\n",
       " 7dF4sXP1ISIharu35gQ86k    4.565067\n",
       " 7caJcFZTtLzy0ZSol1AXKH    3.392000\n",
       " 7nBR4Tt431p1MTgv3lVsmX    6.825967\n",
       " 6n0E5CPhtGPLW1544OlSTg    4.891550\n",
       " 7bzks4LGpQUuPKBzJ6iQ7y    4.573117\n",
       " Name: duration_ms, dtype: float64,\n",
       " 27.630433333333336)"
      ]
     },
     "execution_count": 11,
     "metadata": {},
     "output_type": "execute_result"
    }
   ],
   "source": [
    "durations = pd.concat([get_song(user_id, token, id, market)['duration_ms'] for id in songs])\n",
    "durations / 60/ 1000, durations.sum() / 60/ 1000"
   ]
  },
  {
   "cell_type": "markdown",
   "metadata": {},
   "source": [
    "See the energy for each song"
   ]
  },
  {
   "cell_type": "code",
   "execution_count": 12,
   "metadata": {},
   "outputs": [
    {
     "data": {
      "text/plain": [
       "id\n",
       "4MvbRbrOEsJgdYRGNGBjTE    0.454\n",
       "7dF4sXP1ISIharu35gQ86k    0.655\n",
       "7caJcFZTtLzy0ZSol1AXKH    0.957\n",
       "7nBR4Tt431p1MTgv3lVsmX    0.685\n",
       "6n0E5CPhtGPLW1544OlSTg    0.562\n",
       "7bzks4LGpQUuPKBzJ6iQ7y    0.700\n",
       "Name: energy, dtype: float64"
      ]
     },
     "execution_count": 12,
     "metadata": {},
     "output_type": "execute_result"
    }
   ],
   "source": [
    "pd.concat([get_song(user_id, token, id, market)['energy'] for id in songs])"
   ]
  },
  {
   "cell_type": "markdown",
   "metadata": {},
   "source": [
    "Create a playlist with those songs"
   ]
  },
  {
   "cell_type": "code",
   "execution_count": 13,
   "metadata": {},
   "outputs": [],
   "source": [
    "#create_plst(user_id, token, ['spotify:track:'+ str(x) for x in songs], \n",
    "#            name='Recently no genre', description='', public=False)"
   ]
  },
  {
   "cell_type": "markdown",
   "metadata": {},
   "source": [
    "#### Test recently played songs with genre"
   ]
  },
  {
   "cell_type": "markdown",
   "metadata": {},
   "source": [
    "You can go to https://developer.spotify.com/console/get-available-genre-seeds/ to find all avaliable genres."
   ]
  },
  {
   "cell_type": "code",
   "execution_count": 14,
   "metadata": {},
   "outputs": [],
   "source": [
    "pars_weight = {'energy': 0.8, 'duration_ms': 0.2}\n",
    "\n",
    "history_args = {'limit': 15, 'after': 28885117} ## {} means using default values\n",
    "\n",
    "genre = ['new french touch']"
   ]
  },
  {
   "cell_type": "code",
   "execution_count": 15,
   "metadata": {},
   "outputs": [
    {
     "name": "stdout",
     "output_type": "stream",
     "text": [
      "status: 200\n",
      "status: 200\n",
      "Start!\n",
      "Add song: 7dF4sXP1ISIharu35gQ86k 9.456616666666667\n",
      "Add song: 6Jk7mNRofCpHStChx1EYOj 14.440166666666666\n"
     ]
    },
    {
     "data": {
      "text/plain": [
       "['6n0E5CPhtGPLW1544OlSTg',\n",
       " '7dF4sXP1ISIharu35gQ86k',\n",
       " '6Jk7mNRofCpHStChx1EYOj',\n",
       " '7bzks4LGpQUuPKBzJ6iQ7y']"
      ]
     },
     "execution_count": 15,
     "metadata": {},
     "output_type": "execute_result"
    }
   ],
   "source": [
    "songs = generate_target(user_id, token, market, workout_plan, history_args, \n",
    "                    pars_weight = pars_weight, genre = genre)\n",
    "songs"
   ]
  },
  {
   "cell_type": "code",
   "execution_count": 16,
   "metadata": {},
   "outputs": [
    {
     "data": {
      "text/plain": [
       "(id\n",
       " 6n0E5CPhtGPLW1544OlSTg    4.891550\n",
       " 7dF4sXP1ISIharu35gQ86k    4.565067\n",
       " 6Jk7mNRofCpHStChx1EYOj    4.983550\n",
       " 7bzks4LGpQUuPKBzJ6iQ7y    4.573117\n",
       " Name: duration_ms, dtype: float64,\n",
       " 19.013283333333334)"
      ]
     },
     "execution_count": 16,
     "metadata": {},
     "output_type": "execute_result"
    }
   ],
   "source": [
    "durations = pd.concat([get_song(user_id, token, id, market)['duration_ms'] for id in songs])\n",
    "durations/ 60/ 1000, durations.sum() / 60/ 1000"
   ]
  },
  {
   "cell_type": "code",
   "execution_count": 17,
   "metadata": {},
   "outputs": [
    {
     "data": {
      "text/plain": [
       "id\n",
       "6n0E5CPhtGPLW1544OlSTg    0.562\n",
       "7dF4sXP1ISIharu35gQ86k    0.655\n",
       "6Jk7mNRofCpHStChx1EYOj    0.646\n",
       "7bzks4LGpQUuPKBzJ6iQ7y    0.700\n",
       "Name: energy, dtype: float64"
      ]
     },
     "execution_count": 17,
     "metadata": {},
     "output_type": "execute_result"
    }
   ],
   "source": [
    "pd.concat([get_song(user_id, token, id, market)['energy'] for id in songs])"
   ]
  },
  {
   "cell_type": "markdown",
   "metadata": {},
   "source": [
    "Create a playlist with those songs"
   ]
  },
  {
   "cell_type": "code",
   "execution_count": 18,
   "metadata": {},
   "outputs": [],
   "source": [
    "#create_plst(user_id, token, ['spotify:track:'+ str(x) for x in songs], \n",
    "#            name='Recently with a genre', description='', public=False)"
   ]
  },
  {
   "cell_type": "markdown",
   "metadata": {},
   "source": [
    "#### Test top songs without genre"
   ]
  },
  {
   "cell_type": "code",
   "execution_count": 19,
   "metadata": {},
   "outputs": [],
   "source": [
    "token = \"BQCoCfROM70s8JQFbbcCOAKdQmc90Ejf6KSsWlbZauDIqYDQk_WrD7X-Zxi-o2lnUDeTveTCS_0obQdU8Ysri4xi0IrqNiq46eY5uMKgpXqgVGU0YTZQ5Rl0cYDWf_AvZCuUqvCTdYXKM4lDlxDNn4k0MtsqhkknTZBY9q253Vy2uFnPUfm7ctrVoXFX83hE97XwUgaGIFVQX4PagPqkyPNbyk4LBjPm3jnRyiCEXu_I-GVo_z712A\""
   ]
  },
  {
   "cell_type": "code",
   "execution_count": 20,
   "metadata": {},
   "outputs": [],
   "source": [
    "pars_weight = {'energy': 0.8, 'duration_ms': 0.2}\n",
    "\n",
    "history_args = {'limit': 15, 'time_range': 'medium_term', 'offset': 0}"
   ]
  },
  {
   "cell_type": "code",
   "execution_count": 21,
   "metadata": {},
   "outputs": [
    {
     "name": "stdout",
     "output_type": "stream",
     "text": [
      "status: 200\n",
      "status: 200\n",
      "Start!\n",
      "Add song: 09RXXnMSVrES6xju7IXrsX 13.234433333333333\n"
     ]
    },
    {
     "data": {
      "text/plain": [
       "['7nBR4Tt431p1MTgv3lVsmX', '09RXXnMSVrES6xju7IXrsX', '7bzks4LGpQUuPKBzJ6iQ7y']"
      ]
     },
     "execution_count": 21,
     "metadata": {},
     "output_type": "execute_result"
    }
   ],
   "source": [
    "songs = generate_target(user_id, token, market, workout_plan, history_args, \n",
    "                    pars_weight = pars_weight, recently = False, genre = None)\n",
    "songs"
   ]
  },
  {
   "cell_type": "code",
   "execution_count": 22,
   "metadata": {},
   "outputs": [
    {
     "data": {
      "text/plain": [
       "(id\n",
       " 7nBR4Tt431p1MTgv3lVsmX    6.825967\n",
       " 09RXXnMSVrES6xju7IXrsX    6.408467\n",
       " 7bzks4LGpQUuPKBzJ6iQ7y    4.573117\n",
       " Name: duration_ms, dtype: float64,\n",
       " 17.80755)"
      ]
     },
     "execution_count": 22,
     "metadata": {},
     "output_type": "execute_result"
    }
   ],
   "source": [
    "durations = pd.concat([get_song(user_id, token, id, market)['duration_ms'] for id in songs])\n",
    "durations/ 60/ 1000, durations.sum() / 60/ 1000"
   ]
  },
  {
   "cell_type": "code",
   "execution_count": 23,
   "metadata": {},
   "outputs": [
    {
     "data": {
      "text/plain": [
       "id\n",
       "7nBR4Tt431p1MTgv3lVsmX    0.685\n",
       "09RXXnMSVrES6xju7IXrsX    0.973\n",
       "7bzks4LGpQUuPKBzJ6iQ7y    0.700\n",
       "Name: energy, dtype: float64"
      ]
     },
     "execution_count": 23,
     "metadata": {},
     "output_type": "execute_result"
    }
   ],
   "source": [
    "pd.concat([get_song(user_id, token, id, market)['energy'] for id in songs])"
   ]
  },
  {
   "cell_type": "markdown",
   "metadata": {},
   "source": [
    "Create a playlist with those songs"
   ]
  },
  {
   "cell_type": "code",
   "execution_count": 24,
   "metadata": {},
   "outputs": [],
   "source": [
    "#create_plst(user_id, token, ['spotify:track:'+ str(x) for x in songs], \n",
    "#            name='Top no genre', description='', public=False)"
   ]
  },
  {
   "cell_type": "markdown",
   "metadata": {},
   "source": [
    "#### Test top songs with genre"
   ]
  },
  {
   "cell_type": "code",
   "execution_count": 25,
   "metadata": {},
   "outputs": [],
   "source": [
    "pars_weight = {'energy': 0.8, 'duration_ms': 0.2}\n",
    "\n",
    "history_args = {'limit': 15, 'time_range': 'medium_term', 'offset': 0}\n",
    "\n",
    "genre = ['new french touch', 'trip hop', 'funky house']"
   ]
  },
  {
   "cell_type": "code",
   "execution_count": 26,
   "metadata": {},
   "outputs": [
    {
     "name": "stdout",
     "output_type": "stream",
     "text": [
      "status: 200\n",
      "status: 200\n",
      "Start!\n",
      "Add song: 09RXXnMSVrES6xju7IXrsX 13.234433333333333\n"
     ]
    },
    {
     "data": {
      "text/plain": [
       "['7nBR4Tt431p1MTgv3lVsmX', '09RXXnMSVrES6xju7IXrsX', '7bzks4LGpQUuPKBzJ6iQ7y']"
      ]
     },
     "execution_count": 26,
     "metadata": {},
     "output_type": "execute_result"
    }
   ],
   "source": [
    "songs = generate_target(user_id, token, market, workout_plan, history_args, \n",
    "                    pars_weight = pars_weight, recently = False, genre = genre)\n",
    "songs"
   ]
  },
  {
   "cell_type": "code",
   "execution_count": 27,
   "metadata": {},
   "outputs": [
    {
     "data": {
      "text/plain": [
       "(id\n",
       " 7nBR4Tt431p1MTgv3lVsmX    6.825967\n",
       " 09RXXnMSVrES6xju7IXrsX    6.408467\n",
       " 7bzks4LGpQUuPKBzJ6iQ7y    4.573117\n",
       " Name: duration_ms, dtype: float64,\n",
       " 17.80755)"
      ]
     },
     "execution_count": 27,
     "metadata": {},
     "output_type": "execute_result"
    }
   ],
   "source": [
    "durations = pd.concat([get_song(user_id, token, id, market)['duration_ms'] for id in songs])\n",
    "durations/ 60/ 1000, durations.sum() / 60/ 1000"
   ]
  },
  {
   "cell_type": "code",
   "execution_count": 28,
   "metadata": {},
   "outputs": [
    {
     "data": {
      "text/plain": [
       "id\n",
       "7nBR4Tt431p1MTgv3lVsmX    0.685\n",
       "09RXXnMSVrES6xju7IXrsX    0.973\n",
       "7bzks4LGpQUuPKBzJ6iQ7y    0.700\n",
       "Name: energy, dtype: float64"
      ]
     },
     "execution_count": 28,
     "metadata": {},
     "output_type": "execute_result"
    }
   ],
   "source": [
    "pd.concat([get_song(user_id, token, id, market)['energy'] for id in songs])"
   ]
  },
  {
   "cell_type": "markdown",
   "metadata": {},
   "source": [
    "Create a playlist with those songs"
   ]
  },
  {
   "cell_type": "code",
   "execution_count": 29,
   "metadata": {},
   "outputs": [],
   "source": [
    "#create_plst(user_id, token, ['spotify:track:'+ str(x) for x in songs], \n",
    "#            name='Top with a genre', description='', public=False)"
   ]
  }
 ],
 "metadata": {
  "kernelspec": {
   "display_name": "Python 3",
   "language": "python",
   "name": "python3"
  },
  "language_info": {
   "codemirror_mode": {
    "name": "ipython",
    "version": 3
   },
   "file_extension": ".py",
   "mimetype": "text/x-python",
   "name": "python",
   "nbconvert_exporter": "python",
   "pygments_lexer": "ipython3",
   "version": "3.7.6"
  }
 },
 "nbformat": 4,
 "nbformat_minor": 4
}
