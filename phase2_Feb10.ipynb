{
 "cells": [
  {
   "cell_type": "code",
   "execution_count": 1,
   "metadata": {},
   "outputs": [],
   "source": [
    "import requests\n",
    "import json\n",
    "import pandas as pd\n",
    "import numpy as np"
   ]
  },
  {
   "cell_type": "markdown",
   "metadata": {},
   "source": [
    "#### Create a playlist"
   ]
  },
  {
   "cell_type": "code",
   "execution_count": 2,
   "metadata": {},
   "outputs": [],
   "source": [
    "# create a new playlist to store those recommendations\n",
    "def create_plst(user_id, token, uris, name, description, public = False):\n",
    "    endpoint_url = f\"https://api.spotify.com/v1/users/{user_id}/playlists\"\n",
    "    request_body = json.dumps({\n",
    "        \"name\": name,\n",
    "        \"description\": description,\n",
    "        \"public\": public })\n",
    "    # create an empty new playlist\n",
    "    response = requests.post(url = endpoint_url, data = request_body, headers={\"Content-Type\":\"application/json\", \n",
    "                        \"Authorization\":f\"Bearer {token}\"})\n",
    "    url = response.json()['external_urls']['spotify']\n",
    "    if response.status_code == 201:\n",
    "        print('Playlist {} is successfully created!'.format(name))\n",
    "        \n",
    "    # fill the new playlist with the recommendations\n",
    "    playlist_id = response.json()['id']\n",
    "    endpoint_url = f\"https://api.spotify.com/v1/playlists/{playlist_id}/tracks\"\n",
    "    request_body = json.dumps({ \"uris\" : uris })\n",
    "    response = requests.post(url = endpoint_url, data = request_body, headers={\"Content-Type\":\"application/json\", \n",
    "                        \"Authorization\":f\"Bearer {token}\"})\n",
    "    if response.status_code == 201:\n",
    "        print('Playlist {} is successfully filled with recommendations!'.format(name))\n",
    "        print(f'Your playlist is ready at {url}')"
   ]
  },
  {
   "cell_type": "markdown",
   "metadata": {},
   "source": [
    "### Get a user's recently played songs\n",
    "- `limit`: The maximum number of items to return. Default: `20`. Minimum: `1`. Maximum: `50`.\n",
    "- `after`: A Unix timestamp in milliseconds. Returns all items after (but not including) this cursor position. If `after` is specified, `before` must not be specified.\n",
    "- `before`: A Unix timestamp in milliseconds. Returns all items before (but not including) this cursor position. If `before` is specified, `after` must not be specified."
   ]
  },
  {
   "cell_type": "code",
   "execution_count": 3,
   "metadata": {},
   "outputs": [],
   "source": [
    "def get_recent_songs(user_id, token, **kwargs):\n",
    "    query = \"https://api.spotify.com/v1/me/player/recently-played\"\n",
    "    \n",
    "    if len(kwargs.keys()) > 0:\n",
    "        query += '?'\n",
    "        lst = [str(x[0]) + '=' + str(x[1]) for x in zip(kwargs.keys(), kwargs.values())]\n",
    "        query += '&'.join(lst) ## add all parameters from kwargs \n",
    "    #print(query)\n",
    "\n",
    "    response = requests.get(query, \n",
    "                   headers={\"Accept\": \"application/json\",\n",
    "                            \"Content-Type\":\"application/json\", \n",
    "                            \"Authorization\":f\"Bearer {token}\"})\n",
    "    json_response = response.json()\n",
    "    print(\"status:\", response.status_code)\n",
    "    song_ids = [json_response['items'][i]['track']['id'] for i in range(len(json_response['items']))]\n",
    "    return song_ids"
   ]
  },
  {
   "cell_type": "markdown",
   "metadata": {},
   "source": [
    "### Get a User's Top Artists and Tracks\n",
    "- `time_range`: Over what time frame the affinities are computed. Valid values: `long_term` (calculated from several years of data and including all new data as it becomes available), `medium_term` (approximately last 6 months), `short_term` (approximately last 4 weeks). Default: `medium_term`\n",
    "- `limit`: The maximum number of items to return. Default: `20`. Minimum: `1`. Maximum: `50`.\n",
    "- `offset`: The index of the first entity to return. Default: `0` (i.e., the first track). Use with limit to get the next set of entities.\n",
    "\n",
    "**Note: songs that have been played for once will not be considered as a top song.**"
   ]
  },
  {
   "cell_type": "code",
   "execution_count": 4,
   "metadata": {},
   "outputs": [],
   "source": [
    "def get_top_songs(user_id, token, **kwargs):\n",
    "    query = \"https://api.spotify.com/v1/me/top/tracks?\"\n",
    "    \n",
    "    if len(kwargs.keys()) > 0:\n",
    "        lst = [str(x[0]) + '=' + str(x[1]) for x in zip(kwargs.keys(), kwargs.values())]\n",
    "        query += '&'.join(lst) ## add all parameters from kwargs \n",
    "    #print(query)\n",
    "\n",
    "    response = requests.get(query, \n",
    "                   headers={\"Accept\": \"application/json\",\n",
    "                            \"Content-Type\":\"application/json\", \n",
    "                            \"Authorization\":f\"Bearer {token}\"})\n",
    "    json_response = response.json()\n",
    "    print(\"status:\", response.status_code)\n",
    "    song_ids = [json_response['items'][i]['id'] for i in range(len(json_response['items']))]\n",
    "    return song_ids"
   ]
  },
  {
   "cell_type": "markdown",
   "metadata": {},
   "source": [
    "### Get information about a song"
   ]
  },
  {
   "cell_type": "markdown",
   "metadata": {},
   "source": [
    "- `market`: The market you’d like to request."
   ]
  },
  {
   "cell_type": "code",
   "execution_count": 5,
   "metadata": {},
   "outputs": [],
   "source": [
    "def get_song(user_id, token, song_id, market):\n",
    "    \n",
    "    ## get audio features of the song/track\n",
    "    song_url = \"https://api.spotify.com/v1/audio-features/\"\n",
    "    query = f'{song_url}{song_id}'\n",
    "    success = False\n",
    "    while not success:\n",
    "        try:\n",
    "            response = requests.get(query, \n",
    "                           headers={\"Content-Type\":\"application/json\", \n",
    "                                    \"Authorization\":f\"Bearer {token}\"})\n",
    "            json_response = response.json()\n",
    "            df_response = pd.json_normalize(json_response)\n",
    "            success = True\n",
    "        except Exception as e:\n",
    "            pass\n",
    "            \n",
    "    ## get album information and the first artist\n",
    "    base_url = \"https://api.spotify.com/v1/tracks/\"\n",
    "    query = f'{base_url}{song_id}?market={market}'\n",
    "    success = False\n",
    "    while not success:\n",
    "        try:\n",
    "            response = requests.get(query, \n",
    "                           headers={\"Accept\": \"application/json\",\n",
    "                                    \"Content-Type\":\"application/json\", \n",
    "                                    \"Authorization\":f\"Bearer {token}\"})\n",
    "            json_response = response.json()\n",
    "            album_id = json_response['album']['id'] if 'album' in json_response.keys() else None\n",
    "            artist_id = json_response['artists'][0]['id'] if 'artists' in json_response.keys() else None\n",
    "            success = True\n",
    "        except Exception as e:\n",
    "            pass\n",
    "            \n",
    "    if 'genre' in df_response.columns and df_response['genre'] is not None and len(df_response['genre']) > 0:\n",
    "        return df_response.drop(['type', 'uri', 'track_href', 'analysis_url'], axis=1).set_index('id')\n",
    "    else:            \n",
    "        ## get genre of the album\n",
    "        base_url = \"https://api.spotify.com/v1/albums/\"\n",
    "        query = f'{base_url}{album_id}?market={market}'\n",
    "        success = False\n",
    "        while not success:\n",
    "            try:\n",
    "                response = requests.get(query, \n",
    "                               headers={\"Accept\": \"application/json\",\n",
    "                                        \"Content-Type\":\"application/json\", \n",
    "                                        \"Authorization\":f\"Bearer {token}\"})\n",
    "                json_response = response.json()\n",
    "                genre = json_response['genres'] if 'genres' in json_response.keys() else None\n",
    "                success = True\n",
    "            except Exception as e:\n",
    "                pass\n",
    "\n",
    "        if genre is None or len(genre) < 1:\n",
    "            ## get genre of the artist\n",
    "            base_url = \"https://api.spotify.com/v1/artists/\"\n",
    "            query = f'{base_url}{artist_id}'\n",
    "            success = False\n",
    "            while not success:\n",
    "                try:\n",
    "                    response = requests.get(query, \n",
    "                                   headers={\"Accept\": \"application/json\",\n",
    "                                            \"Content-Type\":\"application/json\", \n",
    "                                            \"Authorization\":f\"Bearer {token}\"})\n",
    "                    json_response = response.json()\n",
    "                    genre = json_response['genres'] if 'genres' in json_response.keys() else None\n",
    "                    success = True\n",
    "                except Exception as e:\n",
    "                    pass\n",
    "\n",
    "    df_response['artist_id'] = artist_id if artist_id is not None and len(artist_id) >0 else None\n",
    "    df_response['albuma_id'] = album_id if album_id is not None and len(album_id) >0 else None\n",
    "    df_response['genre'] = [genre] if genre is not None and len(genre) > 0 else None\n",
    "    try:\n",
    "        return df_response.drop(['type', 'uri', 'track_href', 'analysis_url'], axis=1).set_index('id')\n",
    "    except Exception:\n",
    "        print(\"Cannot find features about this song: \", song_id)"
   ]
  },
  {
   "cell_type": "markdown",
   "metadata": {},
   "source": [
    "## Generate a target playlist"
   ]
  },
  {
   "cell_type": "markdown",
   "metadata": {},
   "source": [
    "- `workout_plan`: Workout plan. For example, `workout_plan=[(0, 0.2), (8, 0.9), (20, 0.4)]` means that in the first 8 minutes, to increase energy from 0.2 to 0.9 and then decrease energy to 0.4 in the next 12 minutes.\n",
    "- `history_args`: Parameters used to extract recently played songs. For example, `history_args = {'limit': 15, 'after': 28885117}`.\n",
    "- `start_song`: The first song in the target playlist. You can input the id of a song.\n",
    "- `end_song`: The last song in the target playlist. You can input the id of a song.\n",
    "- `pars_weight`: When calculating the difference between songs, we use a weighted average of the difference. \n",
    "- `genre`: If it is not None, we will filter songs based on genre.\n",
    "- `recently`: If it is True, we will use recently played songs; otherwise, we will use top songs.\n",
    "\n",
    "**Note 1. if `recently=True`, `history_args` can accept \"limit\", \"after\" (or \"before\"); otherwise, `history_args` can accept \"limit\", \"time_range\", \"offset\".** \n",
    "\n",
    "**Note 2. The required scopes of token is different for \"top\" and \"recently played\" songs.**"
   ]
  },
  {
   "cell_type": "code",
   "execution_count": 78,
   "metadata": {},
   "outputs": [],
   "source": [
    "def generate_target(user_id, token, market, workout_plan, history_args = {}, start_song = None, end_song = None,\n",
    "                    pars_weight = {'energy': 0.6, 'duration_ms': 0.4},\n",
    "                    genre = None, recently = True, MAX_songs = 100):\n",
    "    \n",
    "    convert = lambda x: 60 * 1000 * x ## convert to ms\n",
    "    reconvert = lambda x: x / 60 / 1000 ## convert to minute\n",
    "    intersection = lambda lst1, lst2: [value for value in lst1 if value in lst2]\n",
    "    def get_songs(my_offset):\n",
    "        ## Note: for recently played songs, it cannot iterate to get more songs right now, it can be improved later.\n",
    "        if recently:\n",
    "            song_ids = get_recent_songs(user_id, token, **history_args)\n",
    "        else:\n",
    "            offset = max(my_offset, history_args.get('offset', 0))\n",
    "            history_args['offset'] = offset\n",
    "            song_ids = get_top_songs(user_id, token, **history_args)\n",
    "        if len(song_ids) > 0:\n",
    "            song_ids = set(song_ids) ## remove duplicate songs\n",
    "            song_df = pd.concat([get_song(user_id, token, id, market) for id in song_ids])\n",
    "            return song_df\n",
    "        else:\n",
    "            return None\n",
    "    \n",
    "    def filter_genre(song_df):\n",
    "        if genre is not None:\n",
    "            i = 0\n",
    "            while i < song_df.shape[0]:\n",
    "                if song_df.genre[i] is None or len(intersection(genre, song_df.genre[i])) < 1:\n",
    "                    song_df = song_df.drop(index = song_df.index[i], axis = 0)\n",
    "                else:\n",
    "                    i += 1\n",
    "        return song_df[pars_weight.keys()]\n",
    "\n",
    "    my_offset = history_args.get('offset', 0)\n",
    "    song_df = get_songs(my_offset)\n",
    "    if song_df is None:\n",
    "        print(\" There is no avaliable top songs, please change `history_args`.\")\n",
    "    else:\n",
    "        song_df = filter_genre(song_df)\n",
    "    print(\"originally\", song_df.shape[0], \"song candidates\", )\n",
    "    while song_df.duration_ms.sum() / 60000 < workout_plan[-1][0] or song_df.shape[0] < MAX_songs:\n",
    "        ## check total duration, if the sum of the duration of songs is smaller than the duration of the work out plan, \n",
    "        ## get more songs\n",
    "        my_offset += history_args.get('limit', 20)\n",
    "        new_song = get_songs(my_offset)\n",
    "        if new_song is None:\n",
    "            break\n",
    "        else:\n",
    "            new_song = filter_genre(new_song)\n",
    "            candidate_df = pd.concat([song_df, new_song])\n",
    "            candidate_df = candidate_df[~candidate_df.index.duplicated(keep='first')]\n",
    "        if song_df.shape[0] == candidate_df.shape[0]:\n",
    "            break\n",
    "        else:\n",
    "            print(\"add\", candidate_df.shape[0]-song_df.shape[0], \"song candidates\")\n",
    "            song_df = candidate_df\n",
    "    if song_df.shape[0] > MAX_songs:\n",
    "        song_df = song_df.iloc[range(MAX_songs), :]\n",
    "    print(\"finally\", song_df.shape[0], \"song candidates\")\n",
    "\n",
    "    if song_df.shape[0] < 2:\n",
    "        print(\" There are no enough top songs, please change `history_args`.\")\n",
    "    else:\n",
    "        songs = []\n",
    "        total_durations = 0\n",
    "        \n",
    "        if isinstance(start_song, str) and start_song in song_df.index:\n",
    "            song_df = song_df.drop(index = start_song, axis = 0)\n",
    "        elif start_song is None:\n",
    "            max_duration = workout_plan[0][0] * 60000\n",
    "            df = song_df[song_df['duration_ms'] < max_duration]\n",
    "            if df.shape[0] > 1:\n",
    "                start_song = df.index[np.argmin((df['energy'] - workout_plan[0][1]).apply(abs))]\n",
    "            else:\n",
    "                start_song = song_df.index[np.argmin((song_df['energy'] - workout_plan[0][1]).apply(abs))]\n",
    "            song_df = song_df.drop(index = start_song, axis = 0)\n",
    "        \n",
    "        if isinstance(end_song, str) and end_song in song_df.index:\n",
    "            song_df = song_df.drop(index = end_song, axis = 0)  \n",
    "        elif end_song is None:\n",
    "            max_duration = (workout_plan[-1][0] - workout_plan[-2][0]) * 60000\n",
    "            \n",
    "            df = song_df[song_df['duration_ms'] < max_duration]\n",
    "            if df.shape[0] > 1:\n",
    "                end_song = df.index[np.argmin((df['energy'] - workout_plan[-1][1]).apply(abs))]\n",
    "            else:\n",
    "                end_song = song_df.index[np.argmin((song_df['energy'] - workout_plan[-1][1]).apply(abs))]\n",
    "            song_df = song_df.drop(index = end_song, axis = 0)\n",
    "\n",
    "        \n",
    "        \n",
    "        print('Start!')\n",
    "        \n",
    "        songs.append(start_song)\n",
    "        current_energy = get_song(user_id, token, start_song, market)['energy'][0]\n",
    "        total_durations += get_song(user_id, token, start_song, market)['duration_ms'][0]\n",
    "        print('Add start song:', start_song, total_durations/60000)\n",
    "        \n",
    "        for i in range(1, len(workout_plan)):\n",
    "            next_position = convert(workout_plan[i][0])\n",
    "            if i == len(workout_plan)-1:\n",
    "                next_position = next_position - get_song(user_id, token, end_song, market)['duration_ms'][0]\n",
    "            next_energy = workout_plan[i][1]\n",
    "            trend = '+' if next_energy - current_energy > 0 else '-'\n",
    "            \n",
    "            while total_durations < next_position:\n",
    "                ### filter based on energy curve\n",
    "                df = song_df[song_df.energy.between(current_energy, next_energy)] if trend == '+' else song_df[song_df.energy.between(next_energy, current_energy)]\n",
    "                \n",
    "                ### add a filter based on duration\n",
    "                #target_duration = next_position - total_durations\n",
    "                #df = df[df['duration_ms'].between(target_duration - time_interval*1000, target_duration + time_interval*1000)]\n",
    "                \n",
    "                print(df.shape[0], \"songs that satisfy the energy trend\", )\n",
    "                if df.shape[0] < 1: ##### if no song satisfies the energy and duration requirement, what to do?\n",
    "                    print(\" There are no enough song candidates, please try to enlarge `MAX_songs`.\")\n",
    "                    break\n",
    "                if any(next_position - total_durations >= df.duration_ms):\n",
    "                    energy_weights = [0.5, 0.5]\n",
    "                else:\n",
    "                    energy_weights = [0.2, 0.8]\n",
    "\n",
    "                energy_weights = np.array(energy_weights) * pars_weight['energy']\n",
    "                weight = list(energy_weights) + [pars_weight['duration_ms']]\n",
    "                diff_current = df['energy'] - current_energy\n",
    "                diff_next = df['energy'] - next_energy\n",
    "                diff_duration = reconvert(df['duration_ms'] - (next_position - total_durations))\n",
    "                diff = ((pd.DataFrame(np.c_[np.array(diff_current), np.array(diff_next), np.array(diff_duration)], index = df.index).apply(abs))*weight).sum(axis = 1).sort_values()\n",
    "                song_id = diff.index[0]\n",
    "                total_durations += get_song(user_id, token, song_id, market)['duration_ms'][0]\n",
    "                songs.append(song_id)\n",
    "                print('Add song:', song_id, total_durations/60000)\n",
    "                current_energy = get_song(user_id, token, song_id, market)['energy'][0]\n",
    "                song_df = song_df.drop(index = song_id, axis = 0)\n",
    "        \n",
    "        durations_with_last = total_durations+get_song(user_id, token, end_song, market)['duration_ms'][0]\n",
    "        if song_id is not None:\n",
    "            durations_without_last = durations_with_last - get_song(user_id, token, song_id, market)['duration_ms'][0]\n",
    "            if abs(durations_without_last-convert(workout_plan[i][0])) < abs(durations_with_last-convert(workout_plan[i][0])):\n",
    "                songs.pop(-1)\n",
    "            songs.append(end_song)\n",
    "            total_durations += get_song(user_id, token, end_song, market)['duration_ms'][0]\n",
    "            print('Add end song:', end_song, total_durations/60000)\n",
    "        return songs"
   ]
  },
  {
   "cell_type": "markdown",
   "metadata": {},
   "source": [
    "# Test"
   ]
  },
  {
   "cell_type": "code",
   "execution_count": 8,
   "metadata": {},
   "outputs": [],
   "source": [
    "# settings\n",
    "user_id = \"pbwppse1hilahmk43ls424ao4\" # \"2272ss2bp3tznxg6k3v63kqxq\"  "
   ]
  },
  {
   "cell_type": "markdown",
   "metadata": {},
   "source": [
    "#### Test recently played songs without genre"
   ]
  },
  {
   "cell_type": "code",
   "execution_count": 9,
   "metadata": {},
   "outputs": [],
   "source": [
    "token = \"BQC7ERke6mhHX9C_-OnMGgDkMl4cGwomSWB2L9ENErXgnwAHJDpjCf12vH_ZIJ3mJIdyLt1z8_vmqFTgmFQCdedB0Nx5uqNL-vkYmv3J5eJqfUgABRkFPssOpQMzPenpYNki5vEEXLb3aB2HEGnOBOGNgBEK11N0h0ALB8ZU8EP18ZmDfLprSrVlbldSCt-ir6K9VplOSkI5rDktXFtj-MX7WGkgiBA-LIaYa0XOFsL1qyBPZSE8Uhn4dA\""
   ]
  },
  {
   "cell_type": "code",
   "execution_count": 56,
   "metadata": {},
   "outputs": [],
   "source": [
    "market = 'US'\n",
    "workout_plan = [(0, 0.6), (15, 0.95), (30, 0.8), (35, 0.25)]\n",
    "pars_weight = {'energy': 0.65, 'duration_ms': 0.35}\n",
    "\n",
    "history_args = {'limit': 7, 'after': 0} ## {} means using default values"
   ]
  },
  {
   "cell_type": "code",
   "execution_count": null,
   "metadata": {
    "scrolled": false
   },
   "outputs": [],
   "source": [
    "songs = generate_target(user_id, token, market, workout_plan, history_args, pars_weight = pars_weight, \n",
    "                        recently = True, MAX_songs = 50)\n",
    "songs"
   ]
  },
  {
   "cell_type": "markdown",
   "metadata": {},
   "source": [
    "See the duration for each song and the total duration"
   ]
  },
  {
   "cell_type": "code",
   "execution_count": null,
   "metadata": {},
   "outputs": [],
   "source": [
    "durations = pd.concat([get_song(user_id, token, id, market)['duration_ms'] for id in songs])\n",
    "durations / 60/ 1000, durations.sum() / 60/ 1000"
   ]
  },
  {
   "cell_type": "markdown",
   "metadata": {},
   "source": [
    "See the energy for each song"
   ]
  },
  {
   "cell_type": "code",
   "execution_count": null,
   "metadata": {},
   "outputs": [],
   "source": [
    "pd.concat([get_song(user_id, token, id, market)['energy'] for id in songs])"
   ]
  },
  {
   "cell_type": "markdown",
   "metadata": {},
   "source": [
    "Create a playlist with those songs"
   ]
  },
  {
   "cell_type": "code",
   "execution_count": null,
   "metadata": {},
   "outputs": [],
   "source": [
    "#create_plst(user_id, token, ['spotify:track:'+ str(x) for x in songs], \n",
    "#            name='Recently no genre', description='', public=False)"
   ]
  },
  {
   "cell_type": "markdown",
   "metadata": {},
   "source": [
    "#### Test recently played songs with genre"
   ]
  },
  {
   "cell_type": "markdown",
   "metadata": {},
   "source": [
    "You can go to https://developer.spotify.com/console/get-available-genre-seeds/ to find all avaliable genres."
   ]
  },
  {
   "cell_type": "code",
   "execution_count": null,
   "metadata": {},
   "outputs": [],
   "source": [
    "#pars_weight = {'energy': 0.8, 'duration_ms': 0.2}\n",
    "\n",
    "#history_args = {'limit': 15, 'after': 28885117} ## {} means using default values\n",
    "\n",
    "genre = ['disco', 'deep house', 'disco house', 'funky house', 'groove room']"
   ]
  },
  {
   "cell_type": "code",
   "execution_count": null,
   "metadata": {},
   "outputs": [],
   "source": [
    "songs = generate_target(user_id, token, market, workout_plan, history_args, \n",
    "                    pars_weight = pars_weight, genre = genre)\n",
    "songs"
   ]
  },
  {
   "cell_type": "code",
   "execution_count": null,
   "metadata": {},
   "outputs": [],
   "source": [
    "durations = pd.concat([get_song(user_id, token, id, market)['duration_ms'] for id in songs])\n",
    "durations/ 60/ 1000, durations.sum() / 60/ 1000"
   ]
  },
  {
   "cell_type": "code",
   "execution_count": null,
   "metadata": {},
   "outputs": [],
   "source": [
    "pd.concat([get_song(user_id, token, id, market)['energy'] for id in songs])"
   ]
  },
  {
   "cell_type": "markdown",
   "metadata": {},
   "source": [
    "Create a playlist with those songs"
   ]
  },
  {
   "cell_type": "code",
   "execution_count": null,
   "metadata": {},
   "outputs": [],
   "source": [
    "#create_plst(user_id, token, ['spotify:track:'+ str(x) for x in songs], \n",
    "#            name='Recently with a genre', description='', public=False)"
   ]
  },
  {
   "cell_type": "markdown",
   "metadata": {},
   "source": [
    "#### Test top songs without genre"
   ]
  },
  {
   "cell_type": "code",
   "execution_count": 27,
   "metadata": {},
   "outputs": [],
   "source": [
    "#token = \"BQCoCfROM70s8JQFbbcCOAKdQmc90Ejf6KSsWlbZauDIqYDQk_WrD7X-Zxi-o2lnUDeTveTCS_0obQdU8Ysri4xi0IrqNiq46eY5uMKgpXqgVGU0YTZQ5Rl0cYDWf_AvZCuUqvCTdYXKM4lDlxDNn4k0MtsqhkknTZBY9q253Vy2uFnPUfm7ctrVoXFX83hE97XwUgaGIFVQX4PagPqkyPNbyk4LBjPm3jnRyiCEXu_I-GVo_z712A\""
   ]
  },
  {
   "cell_type": "code",
   "execution_count": 79,
   "metadata": {},
   "outputs": [],
   "source": [
    "#pars_weight = {'energy': 0.8, 'duration_ms': 0.2}\n",
    "\n",
    "history_args = {'limit': 15, 'time_range': 'medium_term', 'offset': 0}"
   ]
  },
  {
   "cell_type": "code",
   "execution_count": 80,
   "metadata": {},
   "outputs": [
    {
     "name": "stdout",
     "output_type": "stream",
     "text": [
      "status: 200\n",
      "originally 15 song candidates\n",
      "status: 200\n",
      "add 13 song candidates\n",
      "finally 25 song candidates\n",
      "Start!\n",
      "Add start song: 70M59uUigQFmXYImTnqjGp 4.9664166666666665\n",
      "16 songs that satisfy the energy trend\n",
      "Add song: 7nBR4Tt431p1MTgv3lVsmX 11.792383333333333\n",
      "11 songs that satisfy the energy trend\n",
      "Add song: 1uU95PBinoqgQVn6VVpF6q 14.960383333333333\n",
      "2 songs that satisfy the energy trend\n",
      "Add song: 0MjeQ5T5E50q0d3i72854N 17.602066666666666\n",
      "5 songs that satisfy the energy trend\n",
      "Add song: 1oWNMCtrpGV71z6dWRQAWV 24.061083333333332\n",
      "0 songs that satisfy the energy trend\n",
      " There are no enough song candidates, please try to enlarge `MAX_songs`.\n",
      "12 songs that satisfy the energy trend\n",
      "Add song: 18MlLrfCkYOnKutil99GwY 31.475716666666667\n",
      "2 songs that satisfy the energy trend\n",
      "Add song: 0HDudjyoG3UpWIMAJrXIaB 35.395066666666665\n",
      "Add end song: 29Q7DaDXdIibBLCivJwIqA 38.111783333333335\n"
     ]
    },
    {
     "data": {
      "text/plain": [
       "['70M59uUigQFmXYImTnqjGp',\n",
       " '7nBR4Tt431p1MTgv3lVsmX',\n",
       " '1uU95PBinoqgQVn6VVpF6q',\n",
       " '0MjeQ5T5E50q0d3i72854N',\n",
       " '1oWNMCtrpGV71z6dWRQAWV',\n",
       " '18MlLrfCkYOnKutil99GwY',\n",
       " '29Q7DaDXdIibBLCivJwIqA']"
      ]
     },
     "execution_count": 80,
     "metadata": {},
     "output_type": "execute_result"
    }
   ],
   "source": [
    "songs = generate_target(user_id, token, market, workout_plan, history_args, \n",
    "                    pars_weight = pars_weight, recently = False, genre = None, MAX_songs = 25)\n",
    "songs"
   ]
  },
  {
   "cell_type": "code",
   "execution_count": 81,
   "metadata": {},
   "outputs": [
    {
     "data": {
      "text/plain": [
       "(id\n",
       " 70M59uUigQFmXYImTnqjGp    4.966417\n",
       " 7nBR4Tt431p1MTgv3lVsmX    6.825967\n",
       " 1uU95PBinoqgQVn6VVpF6q    3.168000\n",
       " 0MjeQ5T5E50q0d3i72854N    2.641683\n",
       " 1oWNMCtrpGV71z6dWRQAWV    6.459017\n",
       " 18MlLrfCkYOnKutil99GwY    7.414633\n",
       " 29Q7DaDXdIibBLCivJwIqA    2.716717\n",
       " Name: duration_ms, dtype: float64,\n",
       " 34.192433333333334)"
      ]
     },
     "execution_count": 81,
     "metadata": {},
     "output_type": "execute_result"
    }
   ],
   "source": [
    "durations = pd.concat([get_song(user_id, token, id, market)['duration_ms'] for id in songs])\n",
    "durations/ 60/ 1000, durations.sum() / 60/ 1000"
   ]
  },
  {
   "cell_type": "code",
   "execution_count": 82,
   "metadata": {},
   "outputs": [
    {
     "data": {
      "text/plain": [
       "id\n",
       "70M59uUigQFmXYImTnqjGp    0.584\n",
       "7nBR4Tt431p1MTgv3lVsmX    0.685\n",
       "1uU95PBinoqgQVn6VVpF6q    0.923\n",
       "0MjeQ5T5E50q0d3i72854N    0.929\n",
       "1oWNMCtrpGV71z6dWRQAWV    0.805\n",
       "18MlLrfCkYOnKutil99GwY    0.534\n",
       "29Q7DaDXdIibBLCivJwIqA    0.321\n",
       "Name: energy, dtype: float64"
      ]
     },
     "execution_count": 82,
     "metadata": {},
     "output_type": "execute_result"
    }
   ],
   "source": [
    "pd.concat([get_song(user_id, token, id, market)['energy'] for id in songs])"
   ]
  },
  {
   "cell_type": "markdown",
   "metadata": {},
   "source": [
    "Create a playlist with those songs"
   ]
  },
  {
   "cell_type": "code",
   "execution_count": 63,
   "metadata": {},
   "outputs": [
    {
     "name": "stdout",
     "output_type": "stream",
     "text": [
      "Playlist Top no genre is successfully created!\n",
      "Playlist Top no genre is successfully filled with recommendations!\n",
      "Your playlist is ready at https://open.spotify.com/playlist/76cVJo7Hnkz58NESXL2tEu\n"
     ]
    }
   ],
   "source": [
    "create_plst(user_id, token, ['spotify:track:'+ str(x) for x in songs], \n",
    "            name='Top no genre', description='', public=False)"
   ]
  },
  {
   "cell_type": "markdown",
   "metadata": {},
   "source": [
    "#### Test top songs with genre"
   ]
  },
  {
   "cell_type": "code",
   "execution_count": 83,
   "metadata": {},
   "outputs": [],
   "source": [
    "#pars_weight = {'energy': 0.8, 'duration_ms': 0.2}\n",
    "\n",
    "history_args = {'limit': 15, 'time_range': 'medium_term', 'offset': 0}\n",
    "\n",
    "genre = ['new french touch', 'trip hop', 'funky house']"
   ]
  },
  {
   "cell_type": "code",
   "execution_count": 84,
   "metadata": {},
   "outputs": [
    {
     "name": "stdout",
     "output_type": "stream",
     "text": [
      "status: 200\n",
      "originally 9 song candidates\n",
      "status: 200\n",
      "add 4 song candidates\n",
      "status: 200\n",
      "finally 13 song candidates\n",
      "Start!\n",
      "Add start song: 6ldJYmlEQYPPBmoxZjpMvr 4.784566666666667\n",
      "7 songs that satisfy the energy trend\n",
      "Add song: 7nBR4Tt431p1MTgv3lVsmX 11.610533333333333\n",
      "5 songs that satisfy the energy trend\n",
      "Add song: 4jHB8cLwEtbFzcbwymr0Do 14.862566666666666\n",
      "0 songs that satisfy the energy trend\n",
      " There are no enough song candidates, please try to enlarge `MAX_songs`.\n",
      "2 songs that satisfy the energy trend\n",
      "Add song: 1oWNMCtrpGV71z6dWRQAWV 21.321583333333333\n",
      "0 songs that satisfy the energy trend\n",
      " There are no enough song candidates, please try to enlarge `MAX_songs`.\n",
      "6 songs that satisfy the energy trend\n",
      "Add song: 1uXUZfJykefWuwj9VtyxIq 31.323616666666666\n",
      "0 songs that satisfy the energy trend\n",
      " There are no enough song candidates, please try to enlarge `MAX_songs`.\n",
      "Add end song: 2KklXplRtxMsBYo474Es0w 34.01231666666666\n"
     ]
    },
    {
     "data": {
      "text/plain": [
       "['6ldJYmlEQYPPBmoxZjpMvr',\n",
       " '7nBR4Tt431p1MTgv3lVsmX',\n",
       " '4jHB8cLwEtbFzcbwymr0Do',\n",
       " '1oWNMCtrpGV71z6dWRQAWV',\n",
       " '1uXUZfJykefWuwj9VtyxIq',\n",
       " '2KklXplRtxMsBYo474Es0w']"
      ]
     },
     "execution_count": 84,
     "metadata": {},
     "output_type": "execute_result"
    }
   ],
   "source": [
    "songs = generate_target(user_id, token, market, workout_plan, history_args, \n",
    "                    pars_weight = pars_weight, recently = False, genre = genre, MAX_songs = 25)\n",
    "songs"
   ]
  },
  {
   "cell_type": "code",
   "execution_count": 85,
   "metadata": {},
   "outputs": [
    {
     "data": {
      "text/plain": [
       "(id\n",
       " 6ldJYmlEQYPPBmoxZjpMvr     4.784567\n",
       " 7nBR4Tt431p1MTgv3lVsmX     6.825967\n",
       " 4jHB8cLwEtbFzcbwymr0Do     3.252033\n",
       " 1oWNMCtrpGV71z6dWRQAWV     6.459017\n",
       " 1uXUZfJykefWuwj9VtyxIq    10.002033\n",
       " 2KklXplRtxMsBYo474Es0w     2.688700\n",
       " Name: duration_ms, dtype: float64,\n",
       " 34.01231666666666)"
      ]
     },
     "execution_count": 85,
     "metadata": {},
     "output_type": "execute_result"
    }
   ],
   "source": [
    "durations = pd.concat([get_song(user_id, token, id, market)['duration_ms'] for id in songs])\n",
    "durations/ 60/ 1000, durations.sum() / 60/ 1000"
   ]
  },
  {
   "cell_type": "code",
   "execution_count": 86,
   "metadata": {},
   "outputs": [
    {
     "data": {
      "text/plain": [
       "id\n",
       "6ldJYmlEQYPPBmoxZjpMvr    0.552\n",
       "7nBR4Tt431p1MTgv3lVsmX    0.685\n",
       "4jHB8cLwEtbFzcbwymr0Do    0.914\n",
       "1oWNMCtrpGV71z6dWRQAWV    0.805\n",
       "1uXUZfJykefWuwj9VtyxIq    0.484\n",
       "2KklXplRtxMsBYo474Es0w    0.666\n",
       "Name: energy, dtype: float64"
      ]
     },
     "execution_count": 86,
     "metadata": {},
     "output_type": "execute_result"
    }
   ],
   "source": [
    "pd.concat([get_song(user_id, token, id, market)['energy'] for id in songs])"
   ]
  },
  {
   "cell_type": "markdown",
   "metadata": {},
   "source": [
    "Create a playlist with those songs"
   ]
  },
  {
   "cell_type": "code",
   "execution_count": null,
   "metadata": {},
   "outputs": [],
   "source": [
    "create_plst(user_id, token, ['spotify:track:'+ str(x) for x in songs], \n",
    "            name='Top with a genre', description='', public=False)"
   ]
  }
 ],
 "metadata": {
  "kernelspec": {
   "display_name": "Python 3",
   "language": "python",
   "name": "python3"
  },
  "language_info": {
   "codemirror_mode": {
    "name": "ipython",
    "version": 3
   },
   "file_extension": ".py",
   "mimetype": "text/x-python",
   "name": "python",
   "nbconvert_exporter": "python",
   "pygments_lexer": "ipython3",
   "version": "3.7.6"
  }
 },
 "nbformat": 4,
 "nbformat_minor": 4
}
